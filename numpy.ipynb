{
 "cells": [
  {
   "cell_type": "code",
   "execution_count": 1,
   "id": "d3dd8246-671f-4a09-b569-9780d5b8df55",
   "metadata": {},
   "outputs": [],
   "source": [
    "# Q 1. Explain the purpose and advantages of NumPy in scientific computing and data analysis. How does it enhance Python's capabilities for numerical operations?\n",
    "# Ans. Earlier there is no any specific tool in python to perform the numerical functions , hence the NumPy was introduced.\n",
    "# How it enhance the python capabilities for numerical functions:-\n",
    "# >> as numpy built using the c which is fastest language after c++ hence it compute it faster.\n",
    "# >> numpy use array which store homogeneous data only hence it compute faster.\n"
   ]
  },
  {
   "cell_type": "code",
   "execution_count": 3,
   "id": "eb0137c4-17a6-4e76-af3e-8f62072d3d97",
   "metadata": {},
   "outputs": [],
   "source": [
    "# Q 2. Compare and contrast np.mean() and np.average() functions in NumPy. When would you use one over the other?\n",
    "# Ans. Both we use to calculate the numerical data, but there were some differences;\n",
    "# >> np.mean() compute the arithmetic mean of the input array ,while np.average() computes the weighted avg of the input array if weights are provided otherwise, it behaves same as the np.mean().\n",
    "# >>np.mean() doesnot support weighting, it computes a simple mean by summing the elements and dividing by the total number of elements. \n",
    "#      While np.average() support weighting.these is useful when you need a mean that takes into account the importance or frequency of different elements.\n",
    "# >> when we need simple arithmetic mean we use np.mean(), while when we need weighted average we use np.average(). \n"
   ]
  },
  {
   "cell_type": "code",
   "execution_count": 5,
   "id": "e29c94c7-d4af-4b4e-b404-48741592d0cc",
   "metadata": {},
   "outputs": [],
   "source": [
    "\n",
    "# Q 3. Describe the methods for reversing a NumPy array along different axes. Provide examples for 1D and 2D arrays.\n",
    "# Ans. It involves changing the order of elements in the array, which can be done along a different axes.\n"
   ]
  },
  {
   "cell_type": "code",
   "execution_count": 15,
   "id": "3976b588-dcec-492c-928a-1d3860f9b404",
   "metadata": {},
   "outputs": [
    {
     "name": "stdout",
     "output_type": "stream",
     "text": [
      "original arrays [1 2 3 4 5 6]\n",
      "reversed  [6 5 4 3 2 1]\n"
     ]
    }
   ],
   "source": [
    "# 1D arrays-\n",
    "import numpy as np\n",
    "A = np.array([1,2,3,4,5,6])\n",
    "Revr_a =A[: :-1]\n",
    "print (\"original arrays\",A)\n",
    "print(\"reversed \" , Revr_a)\n"
   ]
  },
  {
   "cell_type": "code",
   "execution_count": null,
   "id": "25cc52ca-e3bf-4bb5-a5ed-c97c01a7876a",
   "metadata": {},
   "outputs": [],
   "source": [
    "# 2D array :-  \n",
    "A = np.array([[1,2,3],\n",
    "              [4,5,6],\n",
    "              [7,8,9]])\n",
    "Rev_clm = A[: :-1, :]\n",
    "Print(\"reversed along clm : \\n\",rev_clm)\n",
    "Rev_row  = B[:, :  : -1]\n",
    "print(\"reversed along row: \\n\",rev _row)"
   ]
  },
  {
   "cell_type": "code",
   "execution_count": 23,
   "id": "221c7c71-d382-4dda-9d6f-9670404760a4",
   "metadata": {},
   "outputs": [],
   "source": [
    "# Q.4 How can you determine the data type of elements in a NumPy array? Discuss the importance of data types\n",
    "# in memory management and performance.\n",
    "# Ans. to determine the data type of elements in a numpy array, we can use the .dtype atrribute of the array.\n",
    "\n",
    "#     importance of datatype.\n",
    "# >> data type determine the amont of memory each element in an array occupies.\n",
    "\n",
    "# >> the data type affects computation performance.\n",
    "\n",
    "# >> data type affects the accuracy of numerical computation.\n",
    "\n",
    "# >> it ensure the correct data type is also important for other libraries."
   ]
  },
  {
   "cell_type": "code",
   "execution_count": 25,
   "id": "59c69d6c-de8d-447a-8852-065f8017390e",
   "metadata": {},
   "outputs": [],
   "source": [
    "# Q.5 Define ndarrays in NumPy and explain their key features. How do they differ from standard Python lists?\n",
    "# Ans. nd arrays are a fundamental data sturcture  in the numpy library. they represent a grid of values, all of the same type,indexed by a tuple of non-negetive integers.\n",
    "\n",
    "# key features:-\n",
    "\n",
    "# >> it takes homogeneous data.\n",
    "# >> nd arrays can have one or more dimensions,making them flexible for representing various data structure.\n",
    "# >> it is memory efficient.\n",
    "# >> is support indexing , slicing.\n",
    "\n",
    "# diffence from standard list:\n",
    "\n",
    "# >> nd array support vectorized operations. like A+B it will add all the corresponding elements.while in list A+B it will concatinate both the list.\n",
    "\n",
    "# >> nd arrays stores homogeneous data type , while list store hetrogeneous data type.\n",
    "\n",
    "# >> it has built-in methods for numerical operations, while in list we have to run a loop for that."
   ]
  },
  {
   "cell_type": "code",
   "execution_count": 27,
   "id": "e650c5c8-0a0c-41e7-b3cf-36d3b98e1383",
   "metadata": {},
   "outputs": [],
   "source": [
    "# Q.6 Analyze the performance benefits of NumPy arrays over Python lists for large-scale numerical operation\n",
    "\n",
    "# Ans. numpy array offers significant performance  beneits over pyhthon list like:\n",
    "\n",
    "# >> numpy array are more memory efficient the a list.\n",
    "# >> numpy arrays supports vectorized operation that means it perform calculation with running a loop ,while in list we need to run a loop.\n",
    "# >> numpy built using c progarming language which make it faster to perform task then list,\n",
    "# >> numpy support homogeneous data type while list support heterogenous datatype.\n",
    "# >> numpy support advanced mathematical operation while in list to perform such task it need  a external modules and additional coding."
   ]
  },
  {
   "cell_type": "code",
   "execution_count": 31,
   "id": "5a0e2b9a-a7fa-4460-bb61-30ef746ff45f",
   "metadata": {},
   "outputs": [
    {
     "name": "stdout",
     "output_type": "stream",
     "text": [
      "vstack :_\n",
      "result1\n",
      "hstack :\n",
      "[1 2 3 4 5 6]\n"
     ]
    }
   ],
   "source": [
    "# Q.7. Compare vstack() and hstack() functions in NumPy. Provide examples demonstrating their usage and\n",
    "# output.\n",
    "# ans. vstack():- stacks arrays vertically. it joins two or more arrays along a vertical axis.array should have same no. of columns.\n",
    "#      hstack() :- stacks arrays horizontally. join arrays along a horizontal axix. it must have same no.of rows.\n",
    "\n",
    "# example:-\n",
    "import numpy as np\n",
    "\n",
    "a = np.array([1,2,3])\n",
    "b = np.array([4,5,6])\n",
    "result1 = np.vstack((a,b))\n",
    "print(\"vstack :_\")\n",
    "print(\"result1\")\n",
    "result2 = np.hstack((a,b))\n",
    "print(\"hstack :\")\n",
    "print(result2)"
   ]
  },
  {
   "cell_type": "code",
   "execution_count": 1,
   "id": "5c582870-bf97-4b52-be90-6cfe7cb2ffe5",
   "metadata": {},
   "outputs": [],
   "source": [
    "# Q.8. Explain the differences between fliplr() and flipud() methods in NumPy, including their effects on various\n",
    "# array dimensions.\n",
    "# Ans. fliplr and flipud in numpy are the function used to reverse the order of elements in an arrayalong a specific axes.\n",
    "\n",
    "#     diference:-\n",
    "# >> np.fliplr means flip left to right, it flips the array horizontally,, while flipud means flip up-down,, it flip the array vertically/\n",
    "# >> fliplr work only on 2D or high dimentional array, while flipud work on any dimention.\n",
    "# >> fliplr reverce the order of the column , while flipud reverse the order of the row."
   ]
  },
  {
   "cell_type": "code",
   "execution_count": 3,
   "id": "2cbc667a-d5d4-4c2e-8ab9-2567bc3bb8b5",
   "metadata": {},
   "outputs": [
    {
     "name": "stdout",
     "output_type": "stream",
     "text": [
      "[array([1, 2]), array([3, 4]), array([5])]\n"
     ]
    }
   ],
   "source": [
    "#   Q. 9 Discuss the functionality of the array_split() method in NumPy. How does it handle uneven splits?\n",
    "# ans:- np.array_split is used to split an array into multiple sub-arrays. it is flexible because it  can handle the array cannot be split into equal parts.\n",
    "\n",
    "# >> in case of uneven split it will distribute the excess elements among the earlier sections.\n",
    "\n",
    "# example ;\n",
    "\n",
    "import numpy as np\n",
    "a = np.array([1,2,3,4,5])\n",
    "spl_a = np.array_split(a , 3)\n",
    "print(spl_a)\n"
   ]
  },
  {
   "cell_type": "code",
   "execution_count": 1,
   "id": "c751628f-a22b-477e-ba73-5dcab09a25da",
   "metadata": {},
   "outputs": [],
   "source": [
    "#  Q.10 .Explain the concepts of vectorization and broadcasting in NumPy. How do they contribute to efficient array\n",
    "# operations?\n",
    "# Ans. vectorization :- it is the process of performing operation on entier arrays at once rather than looping through individual element.\n",
    "\n",
    "#      broadcasting:- it is the mechanism that allows numpy to perform operations on arrays of different shapesby expanding one of it withput making its explicit copy.\n",
    "\n",
    "#    contribution to efficient array;\n",
    "# >> as it avoid loooping it reduce the memory overhead usage.\n",
    "# >> broadcasting remove the manual replication of array which enhance the speed.\n",
    "# >>by using these we make our code more shorter and readable."
   ]
  },
  {
   "cell_type": "code",
   "execution_count": null,
   "id": "559a5aa8-9f19-4f31-897d-91cc8569602d",
   "metadata": {},
   "outputs": [],
   "source": []
  },
  {
   "cell_type": "code",
   "execution_count": null,
   "id": "9c6b5334-c3ab-431e-b5dc-a0f97b67fcb1",
   "metadata": {},
   "outputs": [],
   "source": []
  },
  {
   "cell_type": "markdown",
   "id": "55c8ea95-bd0e-4942-94a3-6964bc8e1675",
   "metadata": {},
   "source": [
    "## practical question"
   ]
  },
  {
   "cell_type": "code",
   "execution_count": 15,
   "id": "d0476bc2-f0ee-46cf-9760-37aefd827669",
   "metadata": {},
   "outputs": [
    {
     "name": "stdout",
     "output_type": "stream",
     "text": [
      "[[25 29 71]\n",
      " [33 49 94]\n",
      " [51  8 43]]\n"
     ]
    }
   ],
   "source": [
    "# Q1.Create a 3x3 NumPy array with random integers between 1 and 100. Then, interchange its rows and columns.\n",
    "import numpy as np\n",
    "import random\n",
    "arr =np.random.randint(1,100 ,size =(3,3))\n",
    "print(arr)"
   ]
  },
  {
   "cell_type": "code",
   "execution_count": 19,
   "id": "7e363b82-52fd-4fee-a245-eed4d79c756e",
   "metadata": {},
   "outputs": [
    {
     "name": "stdout",
     "output_type": "stream",
     "text": [
      "original array\n",
      "[[25 29 71]\n",
      " [33 49 94]\n",
      " [51  8 43]]\n",
      "tanspose array\n",
      "[[25 33 51]\n",
      " [29 49  8]\n",
      " [71 94 43]]\n"
     ]
    }
   ],
   "source": [
    "array = np.array([[25,29,71],[33,49,94],[51,8,43]])\n",
    "trans_array = array.T\n",
    "print(\"original array\")\n",
    "print(arr)\n",
    "print(\"tanspose array\")\n",
    "print(trans_array)"
   ]
  },
  {
   "cell_type": "code",
   "execution_count": 31,
   "id": "11a7e23e-93e8-4d4d-aa91-873009125aed",
   "metadata": {},
   "outputs": [
    {
     "data": {
      "text/plain": [
       "array([ 1,  2,  3,  4,  5,  6,  7,  8,  9, 10])"
      ]
     },
     "execution_count": 31,
     "metadata": {},
     "output_type": "execute_result"
    }
   ],
   "source": [
    "# Q.2 Generate a 1D NumPy array with 10 elements. Reshape it into a 2x5 array, then into a 5x2 array.\n",
    "\n",
    "import numpy as np\n",
    "\n",
    "arr = np.array([1,2,3,4,5,6,7,8,9,10])\n",
    "arr"
   ]
  },
  {
   "cell_type": "code",
   "execution_count": 39,
   "id": "9173f393-d194-44d6-8465-50c12e4bc988",
   "metadata": {},
   "outputs": [
    {
     "name": "stdout",
     "output_type": "stream",
     "text": [
      "reshape into 2,5 arry\n",
      "reshape into 5,2 array\n"
     ]
    },
    {
     "data": {
      "text/plain": [
       "array([[ 1,  2],\n",
       "       [ 3,  4],\n",
       "       [ 5,  6],\n",
       "       [ 7,  8],\n",
       "       [ 9, 10]])"
      ]
     },
     "execution_count": 39,
     "metadata": {},
     "output_type": "execute_result"
    }
   ],
   "source": [
    "print(\"reshape into 5,2 array\")\n",
    "arr.reshape(5,2)"
   ]
  },
  {
   "cell_type": "code",
   "execution_count": 41,
   "id": "cd5b3164-c2ad-479b-a1a0-ba2ed5eb35b8",
   "metadata": {},
   "outputs": [
    {
     "name": "stdout",
     "output_type": "stream",
     "text": [
      "reshape into 2,5 arry\n"
     ]
    },
    {
     "data": {
      "text/plain": [
       "array([[ 1,  2,  3,  4,  5],\n",
       "       [ 6,  7,  8,  9, 10]])"
      ]
     },
     "execution_count": 41,
     "metadata": {},
     "output_type": "execute_result"
    }
   ],
   "source": [
    "print(\"reshape into 2,5 arry\")\n",
    "arr.reshape(2,5)\n"
   ]
  },
  {
   "cell_type": "code",
   "execution_count": 43,
   "id": "413be906-ad57-41a9-9705-9770f443886d",
   "metadata": {},
   "outputs": [],
   "source": [
    "# Q 3.Create a 4x4 NumPy array with random float values. Add a border of zeros around it, resulting in a 6x6 array\n"
   ]
  },
  {
   "cell_type": "code",
   "execution_count": 47,
   "id": "7fc8defb-b663-46b4-9e9a-189a6ac96900",
   "metadata": {},
   "outputs": [
    {
     "name": "stdout",
     "output_type": "stream",
     "text": [
      "[10 15 20 25 30 35 40 45 50 55 60]\n"
     ]
    }
   ],
   "source": [
    "# Q 4.Using NumPy, create an array of integers from 10 to 60 with a step of 5.\n",
    "import numpy as np \n",
    "arr = np.arange(10,61,5)\n",
    "print(arr)\n",
    "\n"
   ]
  },
  {
   "cell_type": "code",
   "execution_count": 55,
   "id": "9eaee07f-6bb7-4a90-9287-20d8d32d98ae",
   "metadata": {},
   "outputs": [
    {
     "name": "stdout",
     "output_type": "stream",
     "text": [
      "['PYTHON' 'NUMPY' 'PANDAS']\n",
      "['python' 'numpy' 'pandas']\n",
      "['python' 'numpy' 'pandas']\n"
     ]
    }
   ],
   "source": [
    "# Q.5 Create a NumPy array of strings ['python', 'numpy', 'pandas']. Apply different case transformations (uppercase, lowercase, title case, etc.) to each element.\n",
    "\n",
    "import numpy as np \n",
    "arr = np.array(['python','numpy','pandas'])\n",
    "upper_c = np.char.upper(arr)\n",
    "print(upper_c)\n",
    "lower_c =np.char.lower(arr)\n",
    "print(lower_c)\n",
    "title_c = np.char.title(arr)\n",
    "print(lower_c)"
   ]
  },
  {
   "cell_type": "code",
   "execution_count": 61,
   "id": "26d93647-312d-4be9-ac44-751aa6865a25",
   "metadata": {},
   "outputs": [
    {
     "name": "stdout",
     "output_type": "stream",
     "text": [
      "['n     u     m     p     y' 'p     y     t     h     o     n' 'p     w']\n"
     ]
    }
   ],
   "source": [
    "# Q.6. Generate a NumPy array of words. Insert a space between each character of every word in the array.\n",
    "import numpy as np\n",
    "words = np.array(['numpy','python','pw'])\n",
    "space_w = np.array(['     '.join(word) for word in words])\n",
    "print(space_w)"
   ]
  },
  {
   "cell_type": "code",
   "execution_count": 76,
   "id": "a3d42a42-9fb3-4d35-be6a-505373d41deb",
   "metadata": {},
   "outputs": [
    {
     "name": "stdout",
     "output_type": "stream",
     "text": [
      "[[12 24 36]\n",
      " [48 60 72]]\n",
      "[[-10 -20 -30]\n",
      " [-40 -50 -60]]\n",
      "[[ 11  44  99]\n",
      " [176 275 396]]\n",
      "[[0.09090909 0.09090909 0.09090909]\n",
      " [0.09090909 0.09090909 0.09090909]]\n"
     ]
    }
   ],
   "source": [
    " #Q.7 Create two 2D NumPy arrays and perform element-wise addition, subtraction, multiplication, and division.\n",
    "import numpy as np \n",
    "arr1 = np.array([[1,2,3],[4,5,6]])\n",
    "arr2 = np.array([[11,22,33],[44,55,66]])\n",
    "print(arr1+arr2)\n",
    "print(arr1-arr2)\n",
    "print(arr1*arr2)\n",
    "print(arr1/arr2)"
   ]
  },
  {
   "cell_type": "code",
   "execution_count": 78,
   "id": "f0094e78-586a-4572-84da-ac4ac56473f4",
   "metadata": {},
   "outputs": [
    {
     "name": "stdout",
     "output_type": "stream",
     "text": [
      "identity mtrix  \n",
      " [[1. 0. 0. 0. 0.]\n",
      " [0. 1. 0. 0. 0.]\n",
      " [0. 0. 1. 0. 0.]\n",
      " [0. 0. 0. 1. 0.]\n",
      " [0. 0. 0. 0. 1.]]\n",
      "diagonal elem  \n",
      " [1. 1. 1. 1. 1.]\n"
     ]
    }
   ],
   "source": [
    "# Q.8 Use NumPy to create a 5x5 identity matrix, then extract its diagonal elements.\n",
    "\n",
    "import numpy as np\n",
    "arr = np.eye(5)\n",
    "diagonal_elem= np.diag(arr)\n",
    "print(\"identity mtrix  \\n\",arr)\n",
    "print(\"diagonal elem  \\n\" ,diagonal_elem)"
   ]
  },
  {
   "cell_type": "code",
   "execution_count": 84,
   "id": "f6d755ff-e3e0-4942-b125-d525f10c2960",
   "metadata": {},
   "outputs": [
    {
     "name": "stdout",
     "output_type": "stream",
     "text": [
      "random integer \n",
      " [893 525  85 470 328 227 651 641 674 816 123 633 286 719 434 900 303 936\n",
      " 526 977 399 526 407 159 327 281 305 895 416  31 966 764 990 426 267 807\n",
      " 363 388 485  98  50 178  85 935 445 608 303 208 626   5 113 179 476 267\n",
      "  52 535 207 633 104 827 560 209 621 880 785 313 336 711 219 726 679 557\n",
      " 824 307  96 204 888 765 754 997 830 564 125 360 776 973 767 822 129  35\n",
      " 427 767 502 289 424 608 353 705  17 129]\n",
      "\n",
      " prime number  \n",
      " [227, 641, 719, 977, 281, 31, 5, 113, 179, 827, 313, 557, 307, 997, 353, 17]\n"
     ]
    }
   ],
   "source": [
    "# Q.9 Generate a NumPy array of 100 random integers between 0 and 1000. Find and display all prime numbers in this array.\n",
    "import numpy as np\n",
    "rand_int = np.random.randint(0,1001,size=100)\n",
    "def is_prime(n):\n",
    "    if n<=1:\n",
    "        return False\n",
    "    for i in range (2,int(n**0.5) + 1):\n",
    "        if n % i == 0:\n",
    "            return False\n",
    "    return True\n",
    "prime_ = [num for num in rand_int if is_prime(num)]\n",
    "print(\"random integer \\n\",rand_int)\n",
    "print(\"\\n prime number  \\n\",prime_)"
   ]
  },
  {
   "cell_type": "code",
   "execution_count": 86,
   "id": "07efaf04-278f-4099-83c6-5bc54e5aaf6c",
   "metadata": {},
   "outputs": [
    {
     "ename": "ValueError",
     "evalue": "cannot reshape array of size 30 into shape (4,7)",
     "output_type": "error",
     "traceback": [
      "\u001b[1;31m---------------------------------------------------------------------------\u001b[0m",
      "\u001b[1;31mValueError\u001b[0m                                Traceback (most recent call last)",
      "Cell \u001b[1;32mIn[86], line 4\u001b[0m\n\u001b[0;32m      2\u001b[0m \u001b[38;5;28;01mimport\u001b[39;00m \u001b[38;5;21;01mnumpy\u001b[39;00m \u001b[38;5;28;01mas\u001b[39;00m \u001b[38;5;21;01mnp\u001b[39;00m\n\u001b[0;32m      3\u001b[0m daily_temp \u001b[38;5;241m=\u001b[39m np\u001b[38;5;241m.\u001b[39mrandom\u001b[38;5;241m.\u001b[39mrandint(\u001b[38;5;241m0\u001b[39m ,\u001b[38;5;241m36\u001b[39m , size \u001b[38;5;241m=\u001b[39m\u001b[38;5;241m30\u001b[39m)\n\u001b[1;32m----> 4\u001b[0m weekly_avg \u001b[38;5;241m=\u001b[39m daily_temp\u001b[38;5;241m.\u001b[39mreshape(\u001b[38;5;241m4\u001b[39m,\u001b[38;5;241m7\u001b[39m)\u001b[38;5;241m.\u001b[39mmean(axis\u001b[38;5;241m=\u001b[39m\u001b[38;5;241m1\u001b[39m)\n\u001b[0;32m      5\u001b[0m \u001b[38;5;28mprint\u001b[39m(\u001b[38;5;124m\"\u001b[39m\u001b[38;5;124mdaily temp  \u001b[39m\u001b[38;5;130;01m\\n\u001b[39;00m\u001b[38;5;124m\"\u001b[39m,daily_temp)\n\u001b[0;32m      6\u001b[0m \u001b[38;5;28mprint\u001b[39m(\u001b[38;5;124m\"\u001b[39m\u001b[38;5;124mweekly temp  \u001b[39m\u001b[38;5;130;01m\\n\u001b[39;00m\u001b[38;5;124m\"\u001b[39m, weekly_avg)\n",
      "\u001b[1;31mValueError\u001b[0m: cannot reshape array of size 30 into shape (4,7)"
     ]
    }
   ],
   "source": [
    " # Q.10Create a NumPy array representing daily temperatures for a month. Calculate and display the weekly averages.\n",
    "import numpy as np\n",
    "daily_temp = np.random.randint(0 ,36 , size =30)\n",
    "weekly_avg = daily_temp.reshape(4,).mean(axis=1)\n",
    "print(\"daily temp  \\n\",daily_temp)\n",
    "print(\"weekly temp  \\n\", weekly_avg)"
   ]
  },
  {
   "cell_type": "code",
   "execution_count": null,
   "id": "ba6a55f2-ea46-416d-9cad-d96578bd775f",
   "metadata": {},
   "outputs": [],
   "source": []
  }
 ],
 "metadata": {
  "kernelspec": {
   "display_name": "Python 3 (ipykernel)",
   "language": "python",
   "name": "python3"
  },
  "language_info": {
   "codemirror_mode": {
    "name": "ipython",
    "version": 3
   },
   "file_extension": ".py",
   "mimetype": "text/x-python",
   "name": "python",
   "nbconvert_exporter": "python",
   "pygments_lexer": "ipython3",
   "version": "3.12.4"
  }
 },
 "nbformat": 4,
 "nbformat_minor": 5
}
