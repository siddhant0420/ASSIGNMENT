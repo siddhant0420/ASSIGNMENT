{
  "nbformat": 4,
  "nbformat_minor": 0,
  "metadata": {
    "colab": {
      "provenance": [],
      "gpuType": "T4"
    },
    "kernelspec": {
      "name": "python3",
      "display_name": "Python 3"
    },
    "language_info": {
      "name": "python"
    },
    "accelerator": "GPU"
  },
  "cells": [
    {
      "cell_type": "markdown",
      "source": [
        "# **Q.1 What is Boosting in Machine Learning ?**"
      ],
      "metadata": {
        "id": "JkOZbosgANMk"
      }
    },
    {
      "cell_type": "code",
      "execution_count": 1,
      "metadata": {
        "id": "sg05xDOr-tyo"
      },
      "outputs": [],
      "source": [
        "# Boosting in machine learning is a technique used to improve the performance of a model by combining the predictions of several base learners\n",
        "# (often weak learners, like simple decision trees) to create a strong learner.\n",
        "\n",
        "# The core idea is to sequentially train weak models, with each new model focusing on the mistakes made by the previous models,\n",
        "# and then combine all the models' predictions to make a final decision."
      ]
    },
    {
      "cell_type": "markdown",
      "source": [
        "# **Q.2 How does Boosting differ from Bagging ?**"
      ],
      "metadata": {
        "id": "pawnY8piAjfb"
      }
    },
    {
      "cell_type": "code",
      "source": [
        "# 1. Goal :\n",
        "# Boosting: The goal of boosting is to convert weak learners (models that perform slightly better than random guessing)\n",
        "# into a strong learner by focusing on the mistakes made by previous models.\n",
        "\n",
        "# Bagging: The goal of bagging (Bootstrap Aggregating) is to reduce the variance of the model by training multiple independent\n",
        "# models on different subsets of the data and combining their predictions.\n",
        "\n",
        "# 2. Data Sampling :\n",
        "\n",
        "# Boosting: Data is used sequentially. In boosting, each new model is trained on the entire dataset,\n",
        "# but the weight of incorrectly classified examples is increased so that the model focuses on them in subsequent iterations.\n",
        "\n",
        "# subsequent iterations.\n",
        "\n",
        "# Bagging: Data is used independently.In bagging, the dataset is randomly split into different subsets using bootstrapping (sampling with replacement).\n",
        "# Each model is trained on a different subset of the data, and the predictions are combined afterward.\n",
        "\n",
        "# 3. Model Training\n",
        "# Boosting: Models are trained sequentially. Each new model is trained to correct the errors made by the previous model.\n",
        "# This creates a dependence between models, meaning they are not independent of each other.\n",
        "\n",
        "# Bagging: Models are trained in parallel. Each model is trained independently on a different bootstrapped dataset,\n",
        "# and there is no dependency between the models."
      ],
      "metadata": {
        "id": "aoFFtdL2AfV9"
      },
      "execution_count": 2,
      "outputs": []
    },
    {
      "cell_type": "markdown",
      "source": [
        "# **Q.3 What is the key idea behind AdaBoost ?**"
      ],
      "metadata": {
        "id": "yVgcAQj_CSz6"
      }
    },
    {
      "cell_type": "code",
      "source": [
        "# The key idea behind AdaBoost (Adaptive Boosting) is to combine multiple weak learners (models that perform slightly better than random guessing) to create a\n",
        "# strong learner. AdaBoost does this by sequentially training models, where each new model focuses more on the errors (misclassifications) made by the previous models.\n",
        "\n",
        "# 1. Start with a Weak Learner\n",
        "# 2. Weighted Data Points\n",
        "# 3. Train the First Model\n",
        "# 4. Adjust Weights for Misclassified Points\n",
        "# 5. Train the Next Model\n",
        "# 6. Combine the Models\n"
      ],
      "metadata": {
        "id": "mN1LxZBfCNSt"
      },
      "execution_count": 3,
      "outputs": []
    },
    {
      "cell_type": "markdown",
      "source": [
        "# **Q.4 Explain the working of AdaBoost with an example.**"
      ],
      "metadata": {
        "id": "ATSiWwrfEmXq"
      }
    },
    {
      "cell_type": "code",
      "source": [
        "# 1. Initialize the Weights of All Data Points\n",
        "# 2. Train the First Weak Learner (Decision Stump)\n",
        "# 3. Calculate the Error of the First Model\n",
        "# 4. Update Weights of Misclassified Data Points\n",
        "# 5. Train the Second Weak Learner\n",
        "# 6. Calculate the Error of the Second Model\n",
        "# 7. Update the Weights\n",
        "# 8. Final Prediction\n"
      ],
      "metadata": {
        "id": "4bQZjXPUElab"
      },
      "execution_count": 4,
      "outputs": []
    },
    {
      "cell_type": "markdown",
      "source": [
        "# **Q.5 What is Gradient Boosting, and how is it different from AdaBoost.**"
      ],
      "metadata": {
        "id": "Jv8WSGB8FbLU"
      }
    },
    {
      "cell_type": "code",
      "source": [
        "# Gradient Boosting is an ensemble learning technique used for both regression and classification tasks.\n",
        "# It builds a model by sequentially training weak learners (typically decision trees) to correct the errors made by the previous models.\n",
        "\n",
        "# The key difference from other boosting methods like AdaBoost is that Gradient Boosting minimizes the loss function of the model by using gradient descent,\n",
        "# a method for finding the minimum of a function.\n",
        "\n",
        "# KEY DIFF :\n",
        "\n",
        "# 1.Focus of Each Model:\n",
        "\n",
        "# AdaBoost:\n",
        "# AdaBoost focuses on misclassified data points from previous models, adjusting their weights to ensure that the next model corrects the errors\n",
        "# made by earlier models. It updates weights based on misclassifications.\n",
        "\n",
        "# Gradient Boosting:\n",
        "# Gradient Boosting focuses on minimizing the residuals (errors) directly by adding new models that fit the negative gradient of the loss function.\n",
        "# The goal is to minimize the loss function in each iteration using gradient descent.\n",
        "\n",
        "# 2.Error Correction:\n",
        "\n",
        "# AdaBoost: AdaBoost adjusts weights of misclassified points and creates a model that corrects these mistakes in a sequential manner.\n",
        "# The updates are more discrete — focusing directly on misclassifications.\n",
        "\n",
        "# Gradient Boosting: Gradient Boosting adjusts the model to reduce the overall residuals or errors, and the model is trained to predict the gradient\n",
        "# of the loss function."
      ],
      "metadata": {
        "id": "VdIc-s41FWse"
      },
      "execution_count": 5,
      "outputs": []
    },
    {
      "cell_type": "markdown",
      "source": [
        "# **Q.6 What is the loss function in Gradient Boosting ?**"
      ],
      "metadata": {
        "id": "XbJcHDUpHrOr"
      }
    },
    {
      "cell_type": "code",
      "source": [
        "# In Gradient Boosting, the loss function is a crucial component because it defines the objective that the algorithm is trying to optimize during training.\n",
        "\n",
        "# The loss function used in Gradient Boosting depends on the type of problem you're solving (e.g., regression, binary classification, multi-class classification).\n",
        "\n",
        "# 1. Regression Loss Function:\n",
        "# For regression tasks (where the goal is to predict continuous values), the mean squared error (MSE) is the most commonly used loss function\n",
        "#  > Mean Squared Error (MSE)\n",
        "\n",
        "# 2. Classification Loss Functions\n",
        "\n",
        "# For Binary Classification:\n",
        "# > Log Loss Binary Cross-Entropy\n",
        "\n",
        "# For Multi-Class Classification :\n",
        "# > Cross-Entropy Loss"
      ],
      "metadata": {
        "id": "ARvIOCH2HiXH"
      },
      "execution_count": 7,
      "outputs": []
    },
    {
      "cell_type": "markdown",
      "source": [
        "# **Q.7How does XGBoost improve over traditional Gradient Boosting.**"
      ],
      "metadata": {
        "id": "cJr4kt0KJNcy"
      }
    },
    {
      "cell_type": "code",
      "source": [
        "# XGBoost (Extreme Gradient Boosting) is an optimized and highly efficient implementation of Gradient Boosting.\n",
        "# It improves upon traditional gradient boosting algorithms in several significant ways, providing better performance, faster training, and greater flexibility."
      ],
      "metadata": {
        "id": "EAsV21H8JCN9"
      },
      "execution_count": 8,
      "outputs": []
    },
    {
      "cell_type": "markdown",
      "source": [
        "# **Q.8What is the difference between XGBoost and CatBoost**"
      ],
      "metadata": {
        "id": "8ImoaGOoJpkk"
      }
    },
    {
      "cell_type": "code",
      "source": [
        "# 1. Handling of Categorical Features\n",
        "# XGBoost:\n",
        "\n",
        "# XGBoost does not have native support for categorical features.\n",
        "\n",
        "# To use categorical data in XGBoost, it must be preprocessed, typically by converting categorical variables into numerical values,\n",
        "# using techniques like one-hot encoding, label encoding, or target encoding.\n",
        "\n",
        "# One-hot encoding can result in sparse and high-dimensional datasets, which might be inefficient in terms of memory and computation.\n",
        "\n",
        "# CatBoost:\n",
        "\n",
        "# CatBoost (Categorical Boosting) is specifically designed to handle categorical features efficiently.\n",
        "\n",
        "# CatBoost’s primary innovation is its special handling of categorical variables during the training process,\n",
        "# which does not require explicit encoding techniques like one-hot or label encoding."
      ],
      "metadata": {
        "id": "U2AO5t1wJf79"
      },
      "execution_count": 9,
      "outputs": []
    },
    {
      "cell_type": "markdown",
      "source": [
        "# **Q .9 What are some real-world applications of Boosting techniques**"
      ],
      "metadata": {
        "id": "3RqUt4jnKm8T"
      }
    },
    {
      "cell_type": "code",
      "source": [
        "# Boosting techniques  are widely used in machine learning for solving various real-world problems.\n",
        "# These techniques are especially popular because of their ability to improve the accuracy of predictive models by combining the predictions of multiple weak models\n",
        "\n",
        "# 1. Finance and Fraud Detection\n",
        "# 2. Healthcare and Medical Diagnosis\n",
        "# 3. E-commerce and Marketing\n",
        "# 4. Natural Language Processing (NLP)"
      ],
      "metadata": {
        "id": "Xd9K23dIKSZ3"
      },
      "execution_count": 10,
      "outputs": []
    },
    {
      "cell_type": "markdown",
      "source": [
        "# **Q.10 How does regularization help in XGBoost**"
      ],
      "metadata": {
        "id": "AII1rYveLfat"
      }
    },
    {
      "cell_type": "code",
      "source": [
        "# In XGBoost, regularization plays a crucial role in controlling model complexity and preventing overfitting.\n",
        "# It helps to improve the generalization of the model by adding penalty terms to the loss function.\n",
        "\n",
        "# This discourages the model from fitting to noise or overly complex patterns in the training data.\n",
        "\n",
        "# How Regularization Works in XGBoost:\n",
        "# XGBoost uses two types of regularization:\n",
        "\n",
        "# L1 Regularization (Lasso Regularization)\n",
        "\n",
        "# L2 Regularization (Ridge Regularization)"
      ],
      "metadata": {
        "id": "zzFHbYsMLY1D"
      },
      "execution_count": 11,
      "outputs": []
    },
    {
      "cell_type": "markdown",
      "source": [
        "# **Q.11What are some hyperparameters to tune in Gradient Boosting models.**"
      ],
      "metadata": {
        "id": "lBu6QeKmMI2k"
      }
    },
    {
      "cell_type": "code",
      "source": [
        "# In Gradient Boosting models (GBMs), hyperparameter tuning is crucial for optimizing model performance and ensuring good generalization.\n",
        "# The key idea is to find the right balance between bias (underfitting) and variance (overfitting).\n",
        "\n",
        "# Here are some important hyperparameters :\n",
        "# 1. Learning Rate\n",
        "# 2. Number of Estimators\n",
        "# 3. Max Depth\n",
        "# 4. Minimum Samples per Leaf"
      ],
      "metadata": {
        "id": "zlZ-Xzy4MD8b"
      },
      "execution_count": 13,
      "outputs": []
    },
    {
      "cell_type": "markdown",
      "source": [
        "# **Q.12 What is the concept of Feature Importance in Boosting**"
      ],
      "metadata": {
        "id": "olTJmN7qNTLP"
      }
    },
    {
      "cell_type": "code",
      "source": [
        "# Feature importance in boosting refers to the process of measuring and determining the contribution of each feature  in the dataset to the model’s predictions.\n",
        "# In boosting algorithms like Gradient Boosting, XGBoost, LightGBM, and CatBoost,\n",
        "# feature importance helps to identify which features are most influential in the decision-making process of the model."
      ],
      "metadata": {
        "id": "Zae03yddM5yh"
      },
      "execution_count": 14,
      "outputs": []
    },
    {
      "cell_type": "markdown",
      "source": [
        "# **Q.13 Why is CatBoost efficient for categorical data.**"
      ],
      "metadata": {
        "id": "9XWhLeb1N0C8"
      }
    },
    {
      "cell_type": "code",
      "source": [
        "# CatBoost (Categorical Boosting) is specifically designed to efficiently handle categorical data without the need for extensive preprocessing\n",
        "# like one-hot encoding or label encoding.\n",
        "\n",
        "# why CatBoost is particularly well-suited for categorical data:\n",
        "\n",
        "# 1. Handling Categorical Features Directly\n",
        "# 2. Ordered Target Encoding\n",
        "# 3. Efficient Handling of High-Cardinality Categorical Features\n",
        "# 4. No Need for Preprocessing"
      ],
      "metadata": {
        "id": "cwtqqysWNxGu"
      },
      "execution_count": 15,
      "outputs": []
    },
    {
      "cell_type": "markdown",
      "source": [
        "# **Practical**\n",
        "\n"
      ],
      "metadata": {
        "id": "nTvT75AdTbeY"
      }
    },
    {
      "cell_type": "markdown",
      "source": [
        "# **Q.14 Train an AdaBoost Classifier on a sample dataset and print model accuracy.**"
      ],
      "metadata": {
        "id": "8EWkR-L8UHNo"
      }
    },
    {
      "cell_type": "code",
      "source": [
        "# Import necessary libraries\n",
        "from sklearn.ensemble import AdaBoostClassifier\n",
        "from sklearn.datasets import load_iris\n",
        "from sklearn.model_selection import train_test_split\n",
        "from sklearn.metrics import accuracy_score\n",
        "\n",
        "# Load the Iris dataset\n",
        "data = load_iris()\n",
        "X = data.data  # Features\n",
        "y = data.target  # Labels\n",
        "\n",
        "# Split the data into training and test sets\n",
        "X_train, X_test, y_train, y_test = train_test_split(X, y, test_size=0.2, random_state=42)\n",
        "\n",
        "# Initialize the AdaBoost Classifier\n",
        "ada_boost = AdaBoostClassifier(n_estimators=50, random_state=42)\n",
        "\n",
        "# Train the model\n",
        "ada_boost.fit(X_train, y_train)\n",
        "\n",
        "# Make predictions on the test set\n",
        "y_pred = ada_boost.predict(X_test)\n",
        "\n",
        "# Calculate and print the accuracy\n",
        "accuracy = accuracy_score(y_test, y_pred)\n",
        "print(f\"Model accuracy: {accuracy:.4f}\")\n"
      ],
      "metadata": {
        "colab": {
          "base_uri": "https://localhost:8080/"
        },
        "id": "RC6LFdUiSl-b",
        "outputId": "a7237985-7ad9-4aac-c381-cc1f0e8a376b"
      },
      "execution_count": 16,
      "outputs": [
        {
          "output_type": "stream",
          "name": "stdout",
          "text": [
            "Model accuracy: 0.9333\n"
          ]
        }
      ]
    },
    {
      "cell_type": "markdown",
      "source": [
        "# **Q.15  Train an AdaBoost Regressor and evaluate performance using Mean Absolute Error (MAE).**"
      ],
      "metadata": {
        "id": "J6B_YjwMUR3I"
      }
    },
    {
      "cell_type": "code",
      "source": [
        "# Import necessary libraries\n",
        "from sklearn.ensemble import AdaBoostRegressor\n",
        "from sklearn.datasets import fetch_california_housing\n",
        "from sklearn.model_selection import train_test_split\n",
        "from sklearn.metrics import mean_absolute_error\n",
        "\n",
        "# Load the California Housing dataset\n",
        "data = fetch_california_housing()\n",
        "X = data.data  # Features\n",
        "y = data.target  # Target\n",
        "\n",
        "# Split the data into training and test sets (80% train, 20% test)\n",
        "X_train, X_test, y_train, y_test = train_test_split(X, y, test_size=0.2, random_state=42)\n",
        "\n",
        "# Initialize the AdaBoost Regressor\n",
        "ada_boost_regressor = AdaBoostRegressor(n_estimators=50, random_state=42)\n",
        "\n",
        "# Train the model\n",
        "ada_boost_regressor.fit(X_train, y_train)\n",
        "\n",
        "# Make predictions on the test set\n",
        "y_pred = ada_boost_regressor.predict(X_test)\n",
        "\n",
        "# Calculate and print the Mean Absolute Error (MAE)\n",
        "mae = mean_absolute_error(y_test, y_pred)\n",
        "print(f\"Mean Absolute Error (MAE): {mae:.4f}\")\n"
      ],
      "metadata": {
        "colab": {
          "base_uri": "https://localhost:8080/"
        },
        "id": "QZ0VbgC1UCDK",
        "outputId": "be26a168-a6eb-4e54-b0de-f196b5c12949"
      },
      "execution_count": 17,
      "outputs": [
        {
          "output_type": "stream",
          "name": "stdout",
          "text": [
            "Mean Absolute Error (MAE): 0.6498\n"
          ]
        }
      ]
    },
    {
      "cell_type": "markdown",
      "source": [
        "# **Q.16 Train a Gradient Boosting Classifier on the Breast Cancer dataset and print feature importance**"
      ],
      "metadata": {
        "id": "1gE10Qh8U03O"
      }
    },
    {
      "cell_type": "code",
      "source": [
        "# Import necessary libraries\n",
        "from sklearn.ensemble import GradientBoostingClassifier\n",
        "from sklearn.datasets import load_breast_cancer\n",
        "from sklearn.model_selection import train_test_split\n",
        "import matplotlib.pyplot as plt\n",
        "\n",
        "# Load the Breast Cancer dataset\n",
        "data = load_breast_cancer()\n",
        "X = data.data  # Features\n",
        "y = data.target  # Target (malignant or benign)\n",
        "\n",
        "# Split the data into training and test sets (80% train, 20% test)\n",
        "X_train, X_test, y_train, y_test = train_test_split(X, y, test_size=0.2, random_state=42)\n",
        "\n",
        "# Initialize the Gradient Boosting Classifier\n",
        "gb_classifier = GradientBoostingClassifier(n_estimators=100, random_state=42)\n",
        "\n",
        "# Train the model\n",
        "gb_classifier.fit(X_train, y_train)\n",
        "\n",
        "# Print the feature importance\n",
        "feature_importance = gb_classifier.feature_importances_\n",
        "\n",
        "# Print feature importance values\n",
        "for i, (name, importance) in enumerate(zip(data.feature_names, feature_importance)):\n",
        "    print(f\"{name}: {importance:.4f}\")\n",
        "\n",
        "# Visualize feature importance using a bar chart\n",
        "plt.figure(figsize=(10, 6))\n",
        "plt.barh(data.feature_names, feature_importance)\n",
        "plt.xlabel('Feature Importance')\n",
        "plt.title('Feature Importance for Breast Cancer Classification')\n",
        "plt.show()\n"
      ],
      "metadata": {
        "colab": {
          "base_uri": "https://localhost:8080/",
          "height": 1000
        },
        "id": "oX47x-oIUhTv",
        "outputId": "9b47a294-2b74-472b-a22d-2d25bcfeef4d"
      },
      "execution_count": 18,
      "outputs": [
        {
          "output_type": "stream",
          "name": "stdout",
          "text": [
            "mean radius: 0.0000\n",
            "mean texture: 0.0278\n",
            "mean perimeter: 0.0002\n",
            "mean area: 0.0004\n",
            "mean smoothness: 0.0025\n",
            "mean compactness: 0.0030\n",
            "mean concavity: 0.0009\n",
            "mean concave points: 0.4505\n",
            "mean symmetry: 0.0005\n",
            "mean fractal dimension: 0.0001\n",
            "radius error: 0.0069\n",
            "texture error: 0.0036\n",
            "perimeter error: 0.0012\n",
            "area error: 0.0084\n",
            "smoothness error: 0.0006\n",
            "compactness error: 0.0025\n",
            "concavity error: 0.0131\n",
            "concave points error: 0.0020\n",
            "symmetry error: 0.0007\n",
            "fractal dimension error: 0.0042\n",
            "worst radius: 0.0756\n",
            "worst texture: 0.0399\n",
            "worst perimeter: 0.0514\n",
            "worst area: 0.0382\n",
            "worst smoothness: 0.0048\n",
            "worst compactness: 0.0005\n",
            "worst concavity: 0.0187\n",
            "worst concave points: 0.2401\n",
            "worst symmetry: 0.0015\n",
            "worst fractal dimension: 0.0002\n"
          ]
        },
        {
          "output_type": "display_data",
          "data": {
            "text/plain": [
              "<Figure size 1000x600 with 1 Axes>"
            ],
            "image/png": "[encoded data removed]"
          },
          "metadata": {}
        }
      ]
    },
    {
      "cell_type": "markdown",
      "source": [
        "# **Q17 Train a Gradient Boosting Regressor and evaluate using R-Squared Score**"
      ],
      "metadata": {
        "id": "8NXc2cJlVe-I"
      }
    },
    {
      "cell_type": "code",
      "source": [
        "# Import necessary libraries\n",
        "from sklearn.ensemble import GradientBoostingRegressor\n",
        "from sklearn.datasets import fetch_california_housing\n",
        "from sklearn.model_selection import train_test_split\n",
        "from sklearn.metrics import r2_score\n",
        "\n",
        "# Load the California Housing dataset\n",
        "data = fetch_california_housing()\n",
        "X = data.data  # Features\n",
        "y = data.target  # Target (median house value)\n",
        "\n",
        "# Split the data into training and test sets (80% train, 20% test)\n",
        "X_train, X_test, y_train, y_test = train_test_split(X, y, test_size=0.2, random_state=42)\n",
        "\n",
        "# Initialize the Gradient Boosting Regressor\n",
        "gb_regressor = GradientBoostingRegressor(n_estimators=100, random_state=42)\n",
        "\n",
        "# Train the model\n",
        "gb_regressor.fit(X_train, y_train)\n",
        "\n",
        "# Make predictions on the test set\n",
        "y_pred = gb_regressor.predict(X_test)\n",
        "\n",
        "# Calculate and print the R-squared score\n",
        "r2 = r2_score(y_test, y_pred)\n",
        "print(f\"R-squared Score: {r2:.4f}\")\n"
      ],
      "metadata": {
        "colab": {
          "base_uri": "https://localhost:8080/"
        },
        "id": "1AE2y55ZVL7c",
        "outputId": "85ac6976-a8ef-4f77-a1ec-13fd01eec2de"
      },
      "execution_count": 19,
      "outputs": [
        {
          "output_type": "stream",
          "name": "stdout",
          "text": [
            "R-squared Score: 0.7756\n"
          ]
        }
      ]
    },
    {
      "cell_type": "markdown",
      "source": [
        "# **Q.18 Train an XGBoost Classifier on a dataset and compare accuracy with Gradient Boosting**"
      ],
      "metadata": {
        "id": "o9VYhuz-WMA9"
      }
    },
    {
      "cell_type": "code",
      "source": [
        "# Import necessary libraries\n",
        "from sklearn.ensemble import GradientBoostingClassifier\n",
        "from sklearn.datasets import load_iris\n",
        "from sklearn.model_selection import train_test_split\n",
        "from sklearn.metrics import accuracy_score\n",
        "import xgboost as xgb\n",
        "\n",
        "# Load the Iris dataset\n",
        "data = load_iris()\n",
        "X = data.data  # Features\n",
        "y = data.target  # Target\n",
        "\n",
        "# Split the data into training and test sets (80% train, 20% test)\n",
        "X_train, X_test, y_train, y_test = train_test_split(X, y, test_size=0.2, random_state=42)\n",
        "\n",
        "# 1. Train the Gradient Boosting Classifier\n",
        "gb_classifier = GradientBoostingClassifier(n_estimators=100, random_state=42)\n",
        "gb_classifier.fit(X_train, y_train)\n",
        "\n",
        "# Make predictions with Gradient Boosting Classifier\n",
        "y_pred_gb = gb_classifier.predict(X_test)\n",
        "\n",
        "# Calculate the accuracy of Gradient Boosting\n",
        "accuracy_gb = accuracy_score(y_test, y_pred_gb)\n",
        "print(f\"Gradient Boosting Accuracy: {accuracy_gb:.4f}\")\n",
        "\n",
        "# 2. Train the XGBoost Classifier\n",
        "xg_classifier = xgb.XGBClassifier(n_estimators=100, random_state=42)\n",
        "xg_classifier.fit(X_train, y_train)\n",
        "\n",
        "# Make predictions with XGBoost Classifier\n",
        "y_pred_xg = xg_classifier.predict(X_test)\n",
        "\n",
        "# Calculate the accuracy of XGBoost\n",
        "accuracy_xg = accuracy_score(y_test, y_pred_xg)\n",
        "print(f\"XGBoost Accuracy: {accuracy_xg:.4f}\")\n"
      ],
      "metadata": {
        "colab": {
          "base_uri": "https://localhost:8080/"
        },
        "id": "rq2-DtVrWXBv",
        "outputId": "fcc06ae3-664a-4457-e46e-91bf1076821e"
      },
      "execution_count": 20,
      "outputs": [
        {
          "output_type": "stream",
          "name": "stdout",
          "text": [
            "Gradient Boosting Accuracy: 1.0000\n",
            "XGBoost Accuracy: 1.0000\n"
          ]
        }
      ]
    },
    {
      "cell_type": "markdown",
      "source": [
        "# **Q.19 Train a CatBoost Classifier and evaluate using F1-Score**"
      ],
      "metadata": {
        "id": "Hb2wa9CZWnys"
      }
    },
    {
      "cell_type": "code",
      "source": [
        "pip install catboost scikit-learn\n"
      ],
      "metadata": {
        "colab": {
          "base_uri": "https://localhost:8080/"
        },
        "id": "0DL8v-jfXD47",
        "outputId": "4a366da0-721d-43ab-9936-21e60728a99e"
      },
      "execution_count": 22,
      "outputs": [
        {
          "output_type": "stream",
          "name": "stdout",
          "text": [
            "Collecting catboost\n",
            "  Downloading catboost-1.2.7-cp311-cp311-manylinux2014_x86_64.whl.metadata (1.2 kB)\n",
            "Requirement already satisfied: scikit-learn in /usr/local/lib/python3.11/dist-packages (1.6.1)\n",
            "Requirement already satisfied: graphviz in /usr/local/lib/python3.11/dist-packages (from catboost) (0.20.3)\n",
            "Requirement already satisfied: matplotlib in /usr/local/lib/python3.11/dist-packages (from catboost) (3.10.0)\n",
            "Collecting numpy<2.0,>=1.16.0 (from catboost)\n",
            "  Downloading numpy-1.26.4-cp311-cp311-manylinux_2_17_x86_64.manylinux2014_x86_64.whl.metadata (61 kB)\n",
            "\u001b[2K     \u001b[90m━━━━━━━━━━━━━━━━━━━━━━━━━━━━━━━━━━━━━━━━\u001b[0m \u001b[32m61.0/61.0 kB\u001b[0m \u001b[31m3.9 MB/s\u001b[0m eta \u001b[36m0:00:00\u001b[0m\n",
            "\u001b[?25hRequirement already satisfied: pandas>=0.24 in /usr/local/lib/python3.11/dist-packages (from catboost) (2.2.2)\n",
            "Requirement already satisfied: scipy in /usr/local/lib/python3.11/dist-packages (from catboost) (1.14.1)\n",
            "Requirement already satisfied: plotly in /usr/local/lib/python3.11/dist-packages (from catboost) (5.24.1)\n",
            "Requirement already satisfied: six in /usr/local/lib/python3.11/dist-packages (from catboost) (1.17.0)\n",
            "Requirement already satisfied: joblib>=1.2.0 in /usr/local/lib/python3.11/dist-packages (from scikit-learn) (1.4.2)\n",
            "Requirement already satisfied: threadpoolctl>=3.1.0 in /usr/local/lib/python3.11/dist-packages (from scikit-learn) (3.6.0)\n",
            "Requirement already satisfied: python-dateutil>=2.8.2 in /usr/local/lib/python3.11/dist-packages (from pandas>=0.24->catboost) (2.8.2)\n",
            "Requirement already satisfied: pytz>=2020.1 in /usr/local/lib/python3.11/dist-packages (from pandas>=0.24->catboost) (2025.2)\n",
            "Requirement already satisfied: tzdata>=2022.7 in /usr/local/lib/python3.11/dist-packages (from pandas>=0.24->catboost) (2025.2)\n",
            "Requirement already satisfied: contourpy>=1.0.1 in /usr/local/lib/python3.11/dist-packages (from matplotlib->catboost) (1.3.1)\n",
            "Requirement already satisfied: cycler>=0.10 in /usr/local/lib/python3.11/dist-packages (from matplotlib->catboost) (0.12.1)\n",
            "Requirement already satisfied: fonttools>=4.22.0 in /usr/local/lib/python3.11/dist-packages (from matplotlib->catboost) (4.57.0)\n",
            "Requirement already satisfied: kiwisolver>=1.3.1 in /usr/local/lib/python3.11/dist-packages (from matplotlib->catboost) (1.4.8)\n",
            "Requirement already satisfied: packaging>=20.0 in /usr/local/lib/python3.11/dist-packages (from matplotlib->catboost) (24.2)\n",
            "Requirement already satisfied: pillow>=8 in /usr/local/lib/python3.11/dist-packages (from matplotlib->catboost) (11.1.0)\n",
            "Requirement already satisfied: pyparsing>=2.3.1 in /usr/local/lib/python3.11/dist-packages (from matplotlib->catboost) (3.2.3)\n",
            "Requirement already satisfied: tenacity>=6.2.0 in /usr/local/lib/python3.11/dist-packages (from plotly->catboost) (9.1.2)\n",
            "Downloading catboost-1.2.7-cp311-cp311-manylinux2014_x86_64.whl (98.7 MB)\n",
            "\u001b[2K   \u001b[90m━━━━━━━━━━━━━━━━━━━━━━━━━━━━━━━━━━━━━━━━\u001b[0m \u001b[32m98.7/98.7 MB\u001b[0m \u001b[31m8.0 MB/s\u001b[0m eta \u001b[36m0:00:00\u001b[0m\n",
            "\u001b[?25hDownloading numpy-1.26.4-cp311-cp311-manylinux_2_17_x86_64.manylinux2014_x86_64.whl (18.3 MB)\n",
            "\u001b[2K   \u001b[90m━━━━━━━━━━━━━━━━━━━━━━━━━━━━━━━━━━━━━━━━\u001b[0m \u001b[32m18.3/18.3 MB\u001b[0m \u001b[31m80.9 MB/s\u001b[0m eta \u001b[36m0:00:00\u001b[0m\n",
            "\u001b[?25hInstalling collected packages: numpy, catboost\n",
            "  Attempting uninstall: numpy\n",
            "    Found existing installation: numpy 2.0.2\n",
            "    Uninstalling numpy-2.0.2:\n",
            "      Successfully uninstalled numpy-2.0.2\n",
            "Successfully installed catboost-1.2.7 numpy-1.26.4\n"
          ]
        }
      ]
    },
    {
      "cell_type": "code",
      "source": [
        "!pip install --upgrade catboost\n",
        "!pip install numpy==1.23.5"
      ],
      "metadata": {
        "colab": {
          "base_uri": "https://localhost:8080/"
        },
        "id": "eglSSFYwYEa_",
        "outputId": "22001998-6754-4aa2-9df5-1e1ff2701625"
      },
      "execution_count": 1,
      "outputs": [
        {
          "output_type": "stream",
          "name": "stdout",
          "text": [
            "Requirement already satisfied: catboost in /usr/local/lib/python3.11/dist-packages (1.2.7)\n",
            "Requirement already satisfied: graphviz in /usr/local/lib/python3.11/dist-packages (from catboost) (0.20.3)\n",
            "Requirement already satisfied: matplotlib in /usr/local/lib/python3.11/dist-packages (from catboost) (3.10.0)\n",
            "Requirement already satisfied: numpy<2.0,>=1.16.0 in /usr/local/lib/python3.11/dist-packages (from catboost) (1.23.5)\n",
            "Requirement already satisfied: pandas>=0.24 in /usr/local/lib/python3.11/dist-packages (from catboost) (2.2.2)\n",
            "Requirement already satisfied: scipy in /usr/local/lib/python3.11/dist-packages (from catboost) (1.14.1)\n",
            "Requirement already satisfied: plotly in /usr/local/lib/python3.11/dist-packages (from catboost) (5.24.1)\n",
            "Requirement already satisfied: six in /usr/local/lib/python3.11/dist-packages (from catboost) (1.17.0)\n",
            "Requirement already satisfied: python-dateutil>=2.8.2 in /usr/local/lib/python3.11/dist-packages (from pandas>=0.24->catboost) (2.8.2)\n",
            "Requirement already satisfied: pytz>=2020.1 in /usr/local/lib/python3.11/dist-packages (from pandas>=0.24->catboost) (2025.2)\n",
            "Requirement already satisfied: tzdata>=2022.7 in /usr/local/lib/python3.11/dist-packages (from pandas>=0.24->catboost) (2025.2)\n",
            "Requirement already satisfied: contourpy>=1.0.1 in /usr/local/lib/python3.11/dist-packages (from matplotlib->catboost) (1.3.1)\n",
            "Requirement already satisfied: cycler>=0.10 in /usr/local/lib/python3.11/dist-packages (from matplotlib->catboost) (0.12.1)\n",
            "Requirement already satisfied: fonttools>=4.22.0 in /usr/local/lib/python3.11/dist-packages (from matplotlib->catboost) (4.57.0)\n",
            "Requirement already satisfied: kiwisolver>=1.3.1 in /usr/local/lib/python3.11/dist-packages (from matplotlib->catboost) (1.4.8)\n",
            "Requirement already satisfied: packaging>=20.0 in /usr/local/lib/python3.11/dist-packages (from matplotlib->catboost) (24.2)\n",
            "Requirement already satisfied: pillow>=8 in /usr/local/lib/python3.11/dist-packages (from matplotlib->catboost) (11.1.0)\n",
            "Requirement already satisfied: pyparsing>=2.3.1 in /usr/local/lib/python3.11/dist-packages (from matplotlib->catboost) (3.2.3)\n",
            "Requirement already satisfied: tenacity>=6.2.0 in /usr/local/lib/python3.11/dist-packages (from plotly->catboost) (9.1.2)\n",
            "Requirement already satisfied: numpy==1.23.5 in /usr/local/lib/python3.11/dist-packages (1.23.5)\n"
          ]
        }
      ]
    },
    {
      "cell_type": "code",
      "source": [],
      "metadata": {
        "id": "xArHG0JeW4jm"
      },
      "execution_count": null,
      "outputs": []
    },
    {
      "cell_type": "code",
      "source": [
        "# Import necessary libraries\n",
        "from catboost import CatBoostClassifier\n",
        "from sklearn.datasets import load_iris\n",
        "from sklearn.model_selection import train_test_split\n",
        "from sklearn.metrics import f1_score\n",
        "\n",
        "# Load the Iris dataset\n",
        "data = load_iris()\n",
        "X = data.data  # Features\n",
        "y = data.target  # Target (species)\n",
        "\n",
        "# Split the data into training and test sets (80% train, 20% test)\n",
        "X_train, X_test, y_train, y_test = train_test_split(X, y, test_size=0.2, random_state=42)\n",
        "\n",
        "# Initialize the CatBoost Classifier\n",
        "catboost_classifier = CatBoostClassifier(iterations=100, learning_rate=0.1, depth=6, random_seed=42, verbose=0)\n",
        "\n",
        "# Train the model\n",
        "catboost_classifier.fit(X_train, y_train)\n",
        "\n",
        "# Make predictions with the CatBoost Classifier\n",
        "y_pred = catboost_classifier.predict(X_test)\n",
        "\n",
        "# Calculate the F1-Score\n",
        "f1 = f1_score(y_test, y_pred, average='weighted')\n",
        "print(f\"F1-Score: {f1:.4f}\")\n"
      ],
      "metadata": {
        "colab": {
          "base_uri": "https://localhost:8080/"
        },
        "outputId": "058fa788-0c9b-48b6-99b9-8c8f6fa790b7",
        "id": "-2MQoT_QYby5"
      },
      "execution_count": 2,
      "outputs": [
        {
          "output_type": "stream",
          "name": "stdout",
          "text": [
            "F1-Score: 1.0000\n"
          ]
        }
      ]
    },
    {
      "cell_type": "markdown",
      "source": [
        "# **Q.20 Train an XGBoost Regressor and evaluate using Mean Squared Error (MSE)**"
      ],
      "metadata": {
        "id": "GvqlwKS6ai2v"
      }
    },
    {
      "cell_type": "code",
      "source": [
        "# Import necessary libraries\n",
        "import xgboost as xgb\n",
        "from sklearn.datasets import fetch_california_housing\n",
        "from sklearn.model_selection import train_test_split\n",
        "from sklearn.metrics import mean_squared_error\n",
        "\n",
        "# Load the California Housing dataset\n",
        "data = fetch_california_housing()\n",
        "X = data.data  # Features\n",
        "y = data.target  # Target (median house value)\n",
        "\n",
        "# Split the data into training and test sets (80% train, 20% test)\n",
        "X_train, X_test, y_train, y_test = train_test_split(X, y, test_size=0.2, random_state=42)\n",
        "\n",
        "# Initialize the XGBoost Regressor\n",
        "xg_regressor = xgb.XGBRegressor(n_estimators=100, random_state=42)\n",
        "\n",
        "# Train the model\n",
        "xg_regressor.fit(X_train, y_train)\n",
        "\n",
        "# Make predictions with the XGBoost Regressor\n",
        "y_pred = xg_regressor.predict(X_test)\n",
        "\n",
        "# Calculate the Mean Squared Error (MSE)\n",
        "mse = mean_squared_error(y_test, y_pred)\n",
        "print(f\"Mean Squared Error (MSE): {mse:.4f}\")\n"
      ],
      "metadata": {
        "colab": {
          "base_uri": "https://localhost:8080/"
        },
        "id": "JcsxM5CJZ89L",
        "outputId": "d78366eb-22b6-43bf-a955-6fb4a45cada9"
      },
      "execution_count": 3,
      "outputs": [
        {
          "output_type": "stream",
          "name": "stdout",
          "text": [
            "Mean Squared Error (MSE): 0.2226\n"
          ]
        }
      ]
    },
    {
      "cell_type": "markdown",
      "source": [
        "# **Q.21 Train an AdaBoost Classifier and visualize feature importance.**"
      ],
      "metadata": {
        "id": "cCrCIo1abJIG"
      }
    },
    {
      "cell_type": "code",
      "source": [
        "# Import necessary libraries\n",
        "import matplotlib.pyplot as plt\n",
        "from sklearn.ensemble import AdaBoostClassifier\n",
        "from sklearn.datasets import load_iris\n",
        "from sklearn.model_selection import train_test_split\n",
        "from sklearn.tree import DecisionTreeClassifier\n",
        "\n",
        "# Load the Iris dataset\n",
        "data = load_iris()\n",
        "X = data.data  # Features\n",
        "y = data.target  # Target (species)\n",
        "\n",
        "# Split the data into training and test sets (80% train, 20% test)\n",
        "X_train, X_test, y_train, y_test = train_test_split(X, y, test_size=0.2, random_state=42)\n",
        "\n",
        "# Initialize the AdaBoost Classifier\n",
        "# We are using DecisionTreeClassifier as the base estimator (weak learner)\n",
        "base_estimator = DecisionTreeClassifier(max_depth=1)  # Stump (shallow tree)\n",
        "ada_classifier = AdaBoostClassifier(base_estimator, n_estimators=50, random_state=42)\n",
        "\n",
        "# Train the AdaBoost model\n",
        "ada_classifier.fit(X_train, y_train)\n",
        "\n",
        "# Extract the feature importance\n",
        "feature_importance = ada_classifier.feature_importances_\n",
        "\n",
        "# Visualize the feature importance\n",
        "plt.figure(figsize=(8, 5))\n",
        "plt.barh(data.feature_names, feature_importance, color='skyblue')\n",
        "plt.xlabel('Feature Importance')\n",
        "plt.title('Feature Importance in AdaBoost Classifier')\n",
        "plt.show()\n"
      ],
      "metadata": {
        "colab": {
          "base_uri": "https://localhost:8080/",
          "height": 487
        },
        "id": "M-PsgUkva9Wq",
        "outputId": "73800190-db19-4b56-8aa5-bf95263f9a8d"
      },
      "execution_count": 5,
      "outputs": [
        {
          "output_type": "display_data",
          "data": {
            "text/plain": [
              "<Figure size 800x500 with 1 Axes>"
            ],
            "image/png": "[encoded data removed]"
          },
          "metadata": {}
        }
      ]
    },
    {
      "cell_type": "markdown",
      "source": [
        "# **Q.22 Train a Gradient Boosting Regressor and plot learning curves.**"
      ],
      "metadata": {
        "id": "ZE6fKqPFb2p-"
      }
    },
    {
      "cell_type": "code",
      "source": [
        "# Import necessary libraries\n",
        "import numpy as np\n",
        "import matplotlib.pyplot as plt\n",
        "from sklearn.datasets import fetch_california_housing\n",
        "from sklearn.model_selection import train_test_split\n",
        "from sklearn.ensemble import GradientBoostingRegressor\n",
        "from sklearn.metrics import mean_squared_error\n",
        "\n",
        "# Load the California Housing dataset\n",
        "data = fetch_california_housing()\n",
        "X = data.data  # Features\n",
        "y = data.target  # Target (median house value)\n",
        "\n",
        "# Split the data into training and test sets (80% train, 20% test)\n",
        "X_train, X_test, y_train, y_test = train_test_split(X, y, test_size=0.2, random_state=42)\n",
        "\n",
        "# Initialize the Gradient Boosting Regressor\n",
        "gb_regressor = GradientBoostingRegressor(n_estimators=100, random_state=42)\n",
        "\n",
        "# Define a function to plot learning curves\n",
        "def plot_learning_curve(model, X_train, y_train, X_test, y_test):\n",
        "    train_errors, test_errors = [], []\n",
        "    for m in range(1, len(X_train)):\n",
        "        model.fit(X_train[:m], y_train[:m])\n",
        "\n",
        "        # Calculate training and test errors (MSE)\n",
        "        train_predict = model.predict(X_train[:m])\n",
        "        test_predict = model.predict(X_test)\n",
        "\n",
        "        train_errors.append(mean_squared_error(y_train[:m], train_predict))\n",
        "        test_errors.append(mean_squared_error(y_test, test_predict))\n",
        "\n",
        "    # Plot the learning curves\n",
        "    plt.figure(figsize=(8, 6))\n",
        "    plt.plot(np.arange(1, len(X_train)), train_errors, label=\"Training error\", color='blue')\n",
        "    plt.plot(np.arange(1, len(X_train)), test_errors, label=\"Test error\", color='red')\n",
        "    plt.xlabel(\"Number of training instances\")\n",
        "    plt.ylabel(\"Mean Squared Error (MSE)\")\n",
        "    plt.title(\"Learning Curves for Gradient Boosting Regressor\")\n",
        "    plt.legend()\n",
        "    plt.grid(True)\n",
        "    plt.show()\n",
        "\n",
        "# Call the function to plot learning curves\n",
        "plot_learning_curve(gb_regressor, X_train, y_train, X_test, y_test)\n"
      ],
      "metadata": {
        "colab": {
          "base_uri": "https://localhost:8080/",
          "height": 321
        },
        "id": "tJFxOPcobhtp",
        "outputId": "6eca4241-2c3b-4479-b0b3-12ce8df2c281"
      },
      "execution_count": 1,
      "outputs": [
        {
          "output_type": "error",
          "ename": "KeyboardInterrupt",
          "evalue": "",
          "traceback": [
            "\u001b[0;31m---------------------------------------------------------------------------\u001b[0m",
            "\u001b[0;31mKeyboardInterrupt\u001b[0m                         Traceback (most recent call last)",
            "\u001b[0;32m<ipython-input-1-aa3cdb0608ba>\u001b[0m in \u001b[0;36m<cell line: 0>\u001b[0;34m()\u001b[0m\n\u001b[1;32m     43\u001b[0m \u001b[0;34m\u001b[0m\u001b[0m\n\u001b[1;32m     44\u001b[0m \u001b[0;31m# Call the function to plot learning curves\u001b[0m\u001b[0;34m\u001b[0m\u001b[0;34m\u001b[0m\u001b[0m\n\u001b[0;32m---> 45\u001b[0;31m \u001b[0mplot_learning_curve\u001b[0m\u001b[0;34m(\u001b[0m\u001b[0mgb_regressor\u001b[0m\u001b[0;34m,\u001b[0m \u001b[0mX_train\u001b[0m\u001b[0;34m,\u001b[0m \u001b[0my_train\u001b[0m\u001b[0;34m,\u001b[0m \u001b[0mX_test\u001b[0m\u001b[0;34m,\u001b[0m \u001b[0my_test\u001b[0m\u001b[0;34m)\u001b[0m\u001b[0;34m\u001b[0m\u001b[0;34m\u001b[0m\u001b[0m\n\u001b[0m",
            "\u001b[0;32m<ipython-input-1-aa3cdb0608ba>\u001b[0m in \u001b[0;36mplot_learning_curve\u001b[0;34m(model, X_train, y_train, X_test, y_test)\u001b[0m\n\u001b[1;32m     22\u001b[0m     \u001b[0mtrain_errors\u001b[0m\u001b[0;34m,\u001b[0m \u001b[0mtest_errors\u001b[0m \u001b[0;34m=\u001b[0m \u001b[0;34m[\u001b[0m\u001b[0;34m]\u001b[0m\u001b[0;34m,\u001b[0m \u001b[0;34m[\u001b[0m\u001b[0;34m]\u001b[0m\u001b[0;34m\u001b[0m\u001b[0;34m\u001b[0m\u001b[0m\n\u001b[1;32m     23\u001b[0m     \u001b[0;32mfor\u001b[0m \u001b[0mm\u001b[0m \u001b[0;32min\u001b[0m \u001b[0mrange\u001b[0m\u001b[0;34m(\u001b[0m\u001b[0;36m1\u001b[0m\u001b[0;34m,\u001b[0m \u001b[0mlen\u001b[0m\u001b[0;34m(\u001b[0m\u001b[0mX_train\u001b[0m\u001b[0;34m)\u001b[0m\u001b[0;34m)\u001b[0m\u001b[0;34m:\u001b[0m\u001b[0;34m\u001b[0m\u001b[0;34m\u001b[0m\u001b[0m\n\u001b[0;32m---> 24\u001b[0;31m         \u001b[0mmodel\u001b[0m\u001b[0;34m.\u001b[0m\u001b[0mfit\u001b[0m\u001b[0;34m(\u001b[0m\u001b[0mX_train\u001b[0m\u001b[0;34m[\u001b[0m\u001b[0;34m:\u001b[0m\u001b[0mm\u001b[0m\u001b[0;34m]\u001b[0m\u001b[0;34m,\u001b[0m \u001b[0my_train\u001b[0m\u001b[0;34m[\u001b[0m\u001b[0;34m:\u001b[0m\u001b[0mm\u001b[0m\u001b[0;34m]\u001b[0m\u001b[0;34m)\u001b[0m\u001b[0;34m\u001b[0m\u001b[0;34m\u001b[0m\u001b[0m\n\u001b[0m\u001b[1;32m     25\u001b[0m \u001b[0;34m\u001b[0m\u001b[0m\n\u001b[1;32m     26\u001b[0m         \u001b[0;31m# Calculate training and test errors (MSE)\u001b[0m\u001b[0;34m\u001b[0m\u001b[0;34m\u001b[0m\u001b[0m\n",
            "\u001b[0;32m/usr/local/lib/python3.11/dist-packages/sklearn/base.py\u001b[0m in \u001b[0;36mwrapper\u001b[0;34m(estimator, *args, **kwargs)\u001b[0m\n\u001b[1;32m   1387\u001b[0m                 )\n\u001b[1;32m   1388\u001b[0m             ):\n\u001b[0;32m-> 1389\u001b[0;31m                 \u001b[0;32mreturn\u001b[0m \u001b[0mfit_method\u001b[0m\u001b[0;34m(\u001b[0m\u001b[0mestimator\u001b[0m\u001b[0;34m,\u001b[0m \u001b[0;34m*\u001b[0m\u001b[0margs\u001b[0m\u001b[0;34m,\u001b[0m \u001b[0;34m**\u001b[0m\u001b[0mkwargs\u001b[0m\u001b[0;34m)\u001b[0m\u001b[0;34m\u001b[0m\u001b[0;34m\u001b[0m\u001b[0m\n\u001b[0m\u001b[1;32m   1390\u001b[0m \u001b[0;34m\u001b[0m\u001b[0m\n\u001b[1;32m   1391\u001b[0m         \u001b[0;32mreturn\u001b[0m \u001b[0mwrapper\u001b[0m\u001b[0;34m\u001b[0m\u001b[0;34m\u001b[0m\u001b[0m\n",
            "\u001b[0;32m/usr/local/lib/python3.11/dist-packages/sklearn/ensemble/_gb.py\u001b[0m in \u001b[0;36mfit\u001b[0;34m(self, X, y, sample_weight, monitor)\u001b[0m\n\u001b[1;32m    785\u001b[0m \u001b[0;34m\u001b[0m\u001b[0m\n\u001b[1;32m    786\u001b[0m         \u001b[0;31m# fit the boosting stages\u001b[0m\u001b[0;34m\u001b[0m\u001b[0;34m\u001b[0m\u001b[0m\n\u001b[0;32m--> 787\u001b[0;31m         n_stages = self._fit_stages(\n\u001b[0m\u001b[1;32m    788\u001b[0m             \u001b[0mX_train\u001b[0m\u001b[0;34m,\u001b[0m\u001b[0;34m\u001b[0m\u001b[0;34m\u001b[0m\u001b[0m\n\u001b[1;32m    789\u001b[0m             \u001b[0my_train\u001b[0m\u001b[0;34m,\u001b[0m\u001b[0;34m\u001b[0m\u001b[0;34m\u001b[0m\u001b[0m\n",
            "\u001b[0;32m/usr/local/lib/python3.11/dist-packages/sklearn/ensemble/_gb.py\u001b[0m in \u001b[0;36m_fit_stages\u001b[0;34m(self, X, y, raw_predictions, sample_weight, random_state, X_val, y_val, sample_weight_val, begin_at_stage, monitor)\u001b[0m\n\u001b[1;32m    881\u001b[0m \u001b[0;34m\u001b[0m\u001b[0m\n\u001b[1;32m    882\u001b[0m             \u001b[0;31m# fit next stage of trees\u001b[0m\u001b[0;34m\u001b[0m\u001b[0;34m\u001b[0m\u001b[0m\n\u001b[0;32m--> 883\u001b[0;31m             raw_predictions = self._fit_stage(\n\u001b[0m\u001b[1;32m    884\u001b[0m                 \u001b[0mi\u001b[0m\u001b[0;34m,\u001b[0m\u001b[0;34m\u001b[0m\u001b[0;34m\u001b[0m\u001b[0m\n\u001b[1;32m    885\u001b[0m                 \u001b[0mX\u001b[0m\u001b[0;34m,\u001b[0m\u001b[0;34m\u001b[0m\u001b[0;34m\u001b[0m\u001b[0m\n",
            "\u001b[0;32m/usr/local/lib/python3.11/dist-packages/sklearn/ensemble/_gb.py\u001b[0m in \u001b[0;36m_fit_stage\u001b[0;34m(self, i, X, y, raw_predictions, sample_weight, sample_mask, random_state, X_csc, X_csr)\u001b[0m\n\u001b[1;32m    487\u001b[0m \u001b[0;34m\u001b[0m\u001b[0m\n\u001b[1;32m    488\u001b[0m             \u001b[0mX\u001b[0m \u001b[0;34m=\u001b[0m \u001b[0mX_csc\u001b[0m \u001b[0;32mif\u001b[0m \u001b[0mX_csc\u001b[0m \u001b[0;32mis\u001b[0m \u001b[0;32mnot\u001b[0m \u001b[0;32mNone\u001b[0m \u001b[0;32melse\u001b[0m \u001b[0mX\u001b[0m\u001b[0;34m\u001b[0m\u001b[0;34m\u001b[0m\u001b[0m\n\u001b[0;32m--> 489\u001b[0;31m             tree.fit(\n\u001b[0m\u001b[1;32m    490\u001b[0m                 \u001b[0mX\u001b[0m\u001b[0;34m,\u001b[0m \u001b[0mneg_g_view\u001b[0m\u001b[0;34m[\u001b[0m\u001b[0;34m:\u001b[0m\u001b[0;34m,\u001b[0m \u001b[0mk\u001b[0m\u001b[0;34m]\u001b[0m\u001b[0;34m,\u001b[0m \u001b[0msample_weight\u001b[0m\u001b[0;34m=\u001b[0m\u001b[0msample_weight\u001b[0m\u001b[0;34m,\u001b[0m \u001b[0mcheck_input\u001b[0m\u001b[0;34m=\u001b[0m\u001b[0;32mFalse\u001b[0m\u001b[0;34m\u001b[0m\u001b[0;34m\u001b[0m\u001b[0m\n\u001b[1;32m    491\u001b[0m             )\n",
            "\u001b[0;32m/usr/local/lib/python3.11/dist-packages/sklearn/base.py\u001b[0m in \u001b[0;36mwrapper\u001b[0;34m(estimator, *args, **kwargs)\u001b[0m\n\u001b[1;32m   1387\u001b[0m                 )\n\u001b[1;32m   1388\u001b[0m             ):\n\u001b[0;32m-> 1389\u001b[0;31m                 \u001b[0;32mreturn\u001b[0m \u001b[0mfit_method\u001b[0m\u001b[0;34m(\u001b[0m\u001b[0mestimator\u001b[0m\u001b[0;34m,\u001b[0m \u001b[0;34m*\u001b[0m\u001b[0margs\u001b[0m\u001b[0;34m,\u001b[0m \u001b[0;34m**\u001b[0m\u001b[0mkwargs\u001b[0m\u001b[0;34m)\u001b[0m\u001b[0;34m\u001b[0m\u001b[0;34m\u001b[0m\u001b[0m\n\u001b[0m\u001b[1;32m   1390\u001b[0m \u001b[0;34m\u001b[0m\u001b[0m\n\u001b[1;32m   1391\u001b[0m         \u001b[0;32mreturn\u001b[0m \u001b[0mwrapper\u001b[0m\u001b[0;34m\u001b[0m\u001b[0;34m\u001b[0m\u001b[0m\n",
            "\u001b[0;32m/usr/local/lib/python3.11/dist-packages/sklearn/tree/_classes.py\u001b[0m in \u001b[0;36mfit\u001b[0;34m(self, X, y, sample_weight, check_input)\u001b[0m\n\u001b[1;32m   1402\u001b[0m         \"\"\"\n\u001b[1;32m   1403\u001b[0m \u001b[0;34m\u001b[0m\u001b[0m\n\u001b[0;32m-> 1404\u001b[0;31m         super()._fit(\n\u001b[0m\u001b[1;32m   1405\u001b[0m             \u001b[0mX\u001b[0m\u001b[0;34m,\u001b[0m\u001b[0;34m\u001b[0m\u001b[0;34m\u001b[0m\u001b[0m\n\u001b[1;32m   1406\u001b[0m             \u001b[0my\u001b[0m\u001b[0;34m,\u001b[0m\u001b[0;34m\u001b[0m\u001b[0;34m\u001b[0m\u001b[0m\n",
            "\u001b[0;32m/usr/local/lib/python3.11/dist-packages/sklearn/tree/_classes.py\u001b[0m in \u001b[0;36m_fit\u001b[0;34m(self, X, y, sample_weight, check_input, missing_values_in_feature_mask)\u001b[0m\n\u001b[1;32m    470\u001b[0m             )\n\u001b[1;32m    471\u001b[0m \u001b[0;34m\u001b[0m\u001b[0m\n\u001b[0;32m--> 472\u001b[0;31m         \u001b[0mbuilder\u001b[0m\u001b[0;34m.\u001b[0m\u001b[0mbuild\u001b[0m\u001b[0;34m(\u001b[0m\u001b[0mself\u001b[0m\u001b[0;34m.\u001b[0m\u001b[0mtree_\u001b[0m\u001b[0;34m,\u001b[0m \u001b[0mX\u001b[0m\u001b[0;34m,\u001b[0m \u001b[0my\u001b[0m\u001b[0;34m,\u001b[0m \u001b[0msample_weight\u001b[0m\u001b[0;34m,\u001b[0m \u001b[0mmissing_values_in_feature_mask\u001b[0m\u001b[0;34m)\u001b[0m\u001b[0;34m\u001b[0m\u001b[0;34m\u001b[0m\u001b[0m\n\u001b[0m\u001b[1;32m    473\u001b[0m \u001b[0;34m\u001b[0m\u001b[0m\n\u001b[1;32m    474\u001b[0m         \u001b[0;32mif\u001b[0m \u001b[0mself\u001b[0m\u001b[0;34m.\u001b[0m\u001b[0mn_outputs_\u001b[0m \u001b[0;34m==\u001b[0m \u001b[0;36m1\u001b[0m \u001b[0;32mand\u001b[0m \u001b[0mis_classifier\u001b[0m\u001b[0;34m(\u001b[0m\u001b[0mself\u001b[0m\u001b[0;34m)\u001b[0m\u001b[0;34m:\u001b[0m\u001b[0;34m\u001b[0m\u001b[0;34m\u001b[0m\u001b[0m\n",
            "\u001b[0;31mKeyboardInterrupt\u001b[0m: "
          ]
        }
      ]
    },
    {
      "cell_type": "markdown",
      "source": [
        "# **Q.23 Train an XGBoost Classifier and visualize feature importance**"
      ],
      "metadata": {
        "id": "pOw-zXCEc1WY"
      }
    },
    {
      "cell_type": "code",
      "source": [
        "# Import necessary libraries\n",
        "import xgboost as xgb\n",
        "import matplotlib.pyplot as plt\n",
        "from sklearn.datasets import load_iris\n",
        "from sklearn.model_selection import train_test_split\n",
        "from sklearn.metrics import accuracy_score\n",
        "\n",
        "# Load the Iris dataset\n",
        "data = load_iris()\n",
        "X = data.data  # Features\n",
        "y = data.target  # Target (species)\n",
        "\n",
        "# Split the data into training and test sets (80% train, 20% test)\n",
        "X_train, X_test, y_train, y_test = train_test_split(X, y, test_size=0.2, random_state=42)\n",
        "\n",
        "# Initialize the XGBoost Classifier\n",
        "xg_classifier = xgb.XGBClassifier(n_estimators=100, random_state=42)\n",
        "\n",
        "# Train the model\n",
        "xg_classifier.fit(X_train, y_train)\n",
        "\n",
        "# Make predictions with the XGBoost Classifier\n",
        "y_pred = xg_classifier.predict(X_test)\n",
        "\n",
        "# Calculate the accuracy\n",
        "accuracy = accuracy_score(y_test, y_pred)\n",
        "print(f\"XGBoost Classifier Accuracy: {accuracy:.4f}\")\n",
        "\n",
        "# Visualize the feature importance\n",
        "xgb.plot_importance(xg_classifier, importance_type='weight', max_num_features=10, height=0.8)\n",
        "plt.title(\"XGBoost Feature Importance\")\n",
        "plt.show()\n"
      ],
      "metadata": {
        "colab": {
          "base_uri": "https://localhost:8080/",
          "height": 489
        },
        "id": "DXEpWB4ucHgA",
        "outputId": "170b890f-8b0b-4d8d-8e67-e510df7290f8"
      },
      "execution_count": 2,
      "outputs": [
        {
          "output_type": "stream",
          "name": "stdout",
          "text": [
            "XGBoost Classifier Accuracy: 1.0000\n"
          ]
        },
        {
          "output_type": "display_data",
          "data": {
            "text/plain": [
              "<Figure size 640x480 with 1 Axes>"
            ],
            "image/png": "[encoded data removed]"
          },
          "metadata": {}
        }
      ]
    },
    {
      "cell_type": "markdown",
      "source": [
        "# **Q.24Train a CatBoost Classifier and plot the confusion matrix.**"
      ],
      "metadata": {
        "id": "jYiATuAZgaJS"
      }
    },
    {
      "cell_type": "code",
      "source": [
        "\n",
        "!pip install --upgrade catboost\n",
        "!pip install numpy==1.23.5\n"
      ],
      "metadata": {
        "colab": {
          "base_uri": "https://localhost:8080/",
          "height": 880
        },
        "id": "UQGEUOdNr0ZW",
        "outputId": "9b1ea0cc-7ec3-4bd3-8bf8-3aeee82fabcb"
      },
      "execution_count": 7,
      "outputs": [
        {
          "output_type": "stream",
          "name": "stdout",
          "text": [
            "Requirement already satisfied: catboost in /usr/local/lib/python3.11/dist-packages (1.2.7)\n",
            "Requirement already satisfied: graphviz in /usr/local/lib/python3.11/dist-packages (from catboost) (0.20.3)\n",
            "Requirement already satisfied: matplotlib in /usr/local/lib/python3.11/dist-packages (from catboost) (3.10.0)\n",
            "Requirement already satisfied: numpy<2.0,>=1.16.0 in /usr/local/lib/python3.11/dist-packages (from catboost) (1.26.4)\n",
            "Requirement already satisfied: pandas>=0.24 in /usr/local/lib/python3.11/dist-packages (from catboost) (2.2.2)\n",
            "Requirement already satisfied: scipy in /usr/local/lib/python3.11/dist-packages (from catboost) (1.14.1)\n",
            "Requirement already satisfied: plotly in /usr/local/lib/python3.11/dist-packages (from catboost) (5.24.1)\n",
            "Requirement already satisfied: six in /usr/local/lib/python3.11/dist-packages (from catboost) (1.17.0)\n",
            "Requirement already satisfied: python-dateutil>=2.8.2 in /usr/local/lib/python3.11/dist-packages (from pandas>=0.24->catboost) (2.8.2)\n",
            "Requirement already satisfied: pytz>=2020.1 in /usr/local/lib/python3.11/dist-packages (from pandas>=0.24->catboost) (2025.2)\n",
            "Requirement already satisfied: tzdata>=2022.7 in /usr/local/lib/python3.11/dist-packages (from pandas>=0.24->catboost) (2025.2)\n",
            "Requirement already satisfied: contourpy>=1.0.1 in /usr/local/lib/python3.11/dist-packages (from matplotlib->catboost) (1.3.1)\n",
            "Requirement already satisfied: cycler>=0.10 in /usr/local/lib/python3.11/dist-packages (from matplotlib->catboost) (0.12.1)\n",
            "Requirement already satisfied: fonttools>=4.22.0 in /usr/local/lib/python3.11/dist-packages (from matplotlib->catboost) (4.57.0)\n",
            "Requirement already satisfied: kiwisolver>=1.3.1 in /usr/local/lib/python3.11/dist-packages (from matplotlib->catboost) (1.4.8)\n",
            "Requirement already satisfied: packaging>=20.0 in /usr/local/lib/python3.11/dist-packages (from matplotlib->catboost) (24.2)\n",
            "Requirement already satisfied: pillow>=8 in /usr/local/lib/python3.11/dist-packages (from matplotlib->catboost) (11.1.0)\n",
            "Requirement already satisfied: pyparsing>=2.3.1 in /usr/local/lib/python3.11/dist-packages (from matplotlib->catboost) (3.2.3)\n",
            "Requirement already satisfied: tenacity>=6.2.0 in /usr/local/lib/python3.11/dist-packages (from plotly->catboost) (9.1.2)\n",
            "Collecting numpy==1.23.5\n",
            "  Downloading numpy-1.23.5-cp311-cp311-manylinux_2_17_x86_64.manylinux2014_x86_64.whl.metadata (2.3 kB)\n",
            "Downloading numpy-1.23.5-cp311-cp311-manylinux_2_17_x86_64.manylinux2014_x86_64.whl (17.1 MB)\n",
            "\u001b[2K   \u001b[90m━━━━━━━━━━━━━━━━━━━━━━━━━━━━━━━━━━━━━━━━\u001b[0m \u001b[32m17.1/17.1 MB\u001b[0m \u001b[31m81.7 MB/s\u001b[0m eta \u001b[36m0:00:00\u001b[0m\n",
            "\u001b[?25hInstalling collected packages: numpy\n",
            "  Attempting uninstall: numpy\n",
            "    Found existing installation: numpy 1.26.4\n",
            "    Uninstalling numpy-1.26.4:\n",
            "      Successfully uninstalled numpy-1.26.4\n",
            "\u001b[31mERROR: pip's dependency resolver does not currently take into account all the packages that are installed. This behaviour is the source of the following dependency conflicts.\n",
            "jaxlib 0.5.1 requires numpy>=1.25, but you have numpy 1.23.5 which is incompatible.\n",
            "albumentations 2.0.5 requires numpy>=1.24.4, but you have numpy 1.23.5 which is incompatible.\n",
            "tensorflow 2.18.0 requires numpy<2.1.0,>=1.26.0, but you have numpy 1.23.5 which is incompatible.\n",
            "imbalanced-learn 0.13.0 requires numpy<3,>=1.24.3, but you have numpy 1.23.5 which is incompatible.\n",
            "xarray 2025.1.2 requires numpy>=1.24, but you have numpy 1.23.5 which is incompatible.\n",
            "scikit-image 0.25.2 requires numpy>=1.24, but you have numpy 1.23.5 which is incompatible.\n",
            "treescope 0.1.9 requires numpy>=1.25.2, but you have numpy 1.23.5 which is incompatible.\n",
            "bigframes 1.42.0 requires numpy>=1.24.0, but you have numpy 1.23.5 which is incompatible.\n",
            "jax 0.5.2 requires numpy>=1.25, but you have numpy 1.23.5 which is incompatible.\n",
            "albucore 0.0.23 requires numpy>=1.24.4, but you have numpy 1.23.5 which is incompatible.\n",
            "pymc 5.21.2 requires numpy>=1.25.0, but you have numpy 1.23.5 which is incompatible.\n",
            "blosc2 3.2.1 requires numpy>=1.26, but you have numpy 1.23.5 which is incompatible.\n",
            "chex 0.1.89 requires numpy>=1.24.1, but you have numpy 1.23.5 which is incompatible.\u001b[0m\u001b[31m\n",
            "\u001b[0mSuccessfully installed numpy-1.23.5\n"
          ]
        },
        {
          "output_type": "display_data",
          "data": {
            "application/vnd.colab-display-data+json": {
              "pip_warning": {
                "packages": [
                  "numpy"
                ]
              },
              "id": "13391a537f3741118278a47738cf6ded"
            }
          },
          "metadata": {}
        }
      ]
    },
    {
      "cell_type": "code",
      "source": [
        "# Import necessary libraries\n",
        "import numpy as np\n",
        "import matplotlib.pyplot as plt\n",
        "from catboost import CatBoostClassifier\n",
        "from sklearn.datasets import load_iris\n",
        "from sklearn.model_selection import train_test_split\n",
        "from sklearn.metrics import confusion_matrix, ConfusionMatrixDisplay\n",
        "\n",
        "# Load the Iris dataset\n",
        "data = load_iris()\n",
        "X = data.data  # Features\n",
        "y = data.target  # Target (species)\n",
        "\n",
        "# Split the data into training and test sets (80% train, 20% test)\n",
        "X_train, X_test, y_train, y_test = train_test_split(X, y, test_size=0.2, random_state=42)\n",
        "\n",
        "# Initialize the CatBoost Classifier\n",
        "catboost_classifier = CatBoostClassifier(iterations=100, depth=6, learning_rate=0.1, random_state=42, verbose=0)\n",
        "\n",
        "# Train the model\n",
        "catboost_classifier.fit(X_train, y_train)\n",
        "\n",
        "# Make predictions with the CatBoost Classifier\n",
        "y_pred = catboost_classifier.predict(X_test)\n",
        "\n",
        "# Generate confusion matrix\n",
        "cm = confusion_matrix(y_test, y_pred)\n",
        "\n",
        "# Plot the confusion matrix\n",
        "disp = ConfusionMatrixDisplay(confusion_matrix=cm, display_labels=data.target_names)\n",
        "disp.plot(cmap=plt.cm.Blues)\n",
        "plt.title(\"Confusion Matrix for CatBoost Classifier\")\n",
        "plt.show()\n"
      ],
      "metadata": {
        "colab": {
          "base_uri": "https://localhost:8080/",
          "height": 472
        },
        "id": "7zTxjlLKggRo",
        "outputId": "62c936f7-66c0-4932-c2d2-77abe2d3f83c"
      },
      "execution_count": 1,
      "outputs": [
        {
          "output_type": "display_data",
          "data": {
            "text/plain": [
              "<Figure size 640x480 with 2 Axes>"
            ],
            "image/png": "[encoded data removed]"
          },
          "metadata": {}
        }
      ]
    },
    {
      "cell_type": "markdown",
      "source": [
        "# **Q.25Train an AdaBoost Classifier with different numbers of estimators and compare accuracy**"
      ],
      "metadata": {
        "id": "Xo7z1-m5sQ1d"
      }
    },
    {
      "cell_type": "code",
      "source": [
        "# Import necessary libraries\n",
        "import numpy as np\n",
        "import matplotlib.pyplot as plt\n",
        "from sklearn.datasets import load_iris\n",
        "from sklearn.model_selection import train_test_split\n",
        "from sklearn.ensemble import AdaBoostClassifier\n",
        "from sklearn.tree import DecisionTreeClassifier\n",
        "from sklearn.metrics import accuracy_score\n",
        "\n",
        "# Load the Iris dataset\n",
        "data = load_iris()\n",
        "X = data.data  # Features\n",
        "y = data.target  # Target (species)\n",
        "\n",
        "# Split the data into training and test sets (80% train, 20% test)\n",
        "X_train, X_test, y_train, y_test = train_test_split(X, y, test_size=0.2, random_state=42)\n",
        "\n",
        "# Initialize the base estimator (a decision stump)\n",
        "base_estimator = DecisionTreeClassifier(max_depth=1)\n",
        "\n",
        "# Define a list of different numbers of estimators to test\n",
        "estimators_list = [50, 100, 150]\n",
        "\n",
        "# Initialize a list to store accuracy scores\n",
        "accuracy_scores = []\n",
        "\n",
        "# Train AdaBoost Classifiers with different numbers of estimators and evaluate accuracy\n",
        "for n_estimators in estimators_list:\n",
        "    ada_classifier = AdaBoostClassifier(base_estimator, n_estimators=n_estimators, random_state=42)\n",
        "    ada_classifier.fit(X_train, y_train)\n",
        "    y_pred = ada_classifier.predict(X_test)\n",
        "    accuracy = accuracy_score(y_test, y_pred)\n",
        "    accuracy_scores.append(accuracy)\n",
        "    print(f\"Accuracy with {n_estimators} estimators: {accuracy:.4f}\")\n",
        "\n",
        "# Plot the accuracy comparison\n",
        "plt.figure(figsize=(8, 6))\n",
        "plt.plot(estimators_list, accuracy_scores, marker='o', color='b', linestyle='-', markersize=8)\n",
        "plt.title('Accuracy vs. Number of Estimators in AdaBoost Classifier')\n",
        "plt.xlabel('Number of Estimators')\n",
        "plt.ylabel('Accuracy')\n",
        "plt.grid(True)\n",
        "plt.show()\n"
      ],
      "metadata": {
        "colab": {
          "base_uri": "https://localhost:8080/",
          "height": 616
        },
        "id": "f7rsp2Q4rnX0",
        "outputId": "ce00d395-3628-4365-8dde-dd3383c0d147"
      },
      "execution_count": 3,
      "outputs": [
        {
          "output_type": "stream",
          "name": "stdout",
          "text": [
            "Accuracy with 50 estimators: 0.9333\n",
            "Accuracy with 100 estimators: 0.9333\n",
            "Accuracy with 150 estimators: 0.9333\n"
          ]
        },
        {
          "output_type": "display_data",
          "data": {
            "text/plain": [
              "<Figure size 800x600 with 1 Axes>"
            ],
            "image/png": "[encoded data removed]"
          },
          "metadata": {}
        }
      ]
    },
    {
      "cell_type": "markdown",
      "source": [
        "# **Q.26 Train a Gradient Boosting Classifier and visualize the ROC curve**"
      ],
      "metadata": {
        "id": "8c-2Qc0Tss6J"
      }
    },
    {
      "cell_type": "code",
      "source": [
        "# Import necessary libraries\n",
        "import numpy as np\n",
        "import matplotlib.pyplot as plt\n",
        "from sklearn.datasets import load_iris\n",
        "from sklearn.model_selection import train_test_split\n",
        "from sklearn.ensemble import GradientBoostingClassifier\n",
        "from sklearn.metrics import roc_curve, auc\n",
        "from sklearn.preprocessing import label_binarize\n",
        "from sklearn.multiclass import OneVsRestClassifier\n",
        "\n",
        "# Load the Iris dataset\n",
        "data = load_iris()\n",
        "X = data.data  # Features\n",
        "y = data.target  # Target (species)\n",
        "\n",
        "# Split the data into training and test sets (80% train, 20% test)\n",
        "X_train, X_test, y_train, y_test = train_test_split(X, y, test_size=0.2, random_state=42)\n",
        "\n",
        "# Initialize the Gradient Boosting Classifier\n",
        "gb_classifier = GradientBoostingClassifier(n_estimators=100, random_state=42)\n",
        "\n",
        "# Train the model\n",
        "gb_classifier.fit(X_train, y_train)\n",
        "\n",
        "# Predict probability scores for the test set\n",
        "y_prob = gb_classifier.predict_proba(X_test)\n",
        "\n",
        "# Binarize the labels for multiclass ROC curve (One-vs-Rest)\n",
        "y_test_bin = label_binarize(y_test, classes=[0, 1, 2])\n",
        "\n",
        "# Compute ROC curve and AUC for each class\n",
        "fpr = dict()\n",
        "tpr = dict()\n",
        "roc_auc = dict()\n",
        "\n",
        "# Calculate ROC curve and AUC for each class\n",
        "for i in range(3):  # There are 3 classes (Setosa, Versicolor, Virginica)\n",
        "    fpr[i], tpr[i], _ = roc_curve(y_test_bin[:, i], y_prob[:, i])\n",
        "    roc_auc[i] = auc(fpr[i], tpr[i])\n",
        "\n",
        "# Plot the ROC curve\n",
        "plt.figure(figsize=(10, 8))\n",
        "\n",
        "for i in range(3):\n",
        "    plt.plot(fpr[i], tpr[i], label=f'Class {data.target_names[i]} (AUC = {roc_auc[i]:.2f})')\n",
        "\n",
        "# Plot the diagonal (chance line)\n",
        "plt.plot([0, 1], [0, 1], 'k--', label='Chance line (AUC = 0.5)')\n",
        "\n",
        "# Labels and title\n",
        "plt.title('ROC Curve for Gradient Boosting Classifier')\n",
        "plt.xlabel('False Positive Rate')\n",
        "plt.ylabel('True Positive Rate')\n",
        "plt.legend(loc='lower right')\n",
        "plt.grid(True)\n",
        "\n",
        "# Show plot\n",
        "plt.show()\n"
      ],
      "metadata": {
        "colab": {
          "base_uri": "https://localhost:8080/",
          "height": 718
        },
        "id": "dKpS3XKusbO_",
        "outputId": "9adf5735-ba11-4cf9-a4b9-a1d38d53842d"
      },
      "execution_count": 4,
      "outputs": [
        {
          "output_type": "display_data",
          "data": {
            "text/plain": [
              "<Figure size 1000x800 with 1 Axes>"
            ],
            "image/png": "[encoded data removed]"
          },
          "metadata": {}
        }
      ]
    },
    {
      "cell_type": "code",
      "source": [
        "# Q.27 Train an XGBoost Regressor and tune the learning rate using GridSearchCV.\n",
        "\n"
      ],
      "metadata": {
        "id": "wgZrLjuEs3Up"
      },
      "execution_count": 5,
      "outputs": []
    },
    {
      "cell_type": "code",
      "source": [
        "import numpy as np\n",
        "import pandas as pd\n",
        "from sklearn.model_selection import train_test_split, GridSearchCV\n",
        "from sklearn.metrics import mean_squared_error\n",
        "import xgboost as xgb\n",
        "\n",
        "# Example: Load a dataset (assuming you have a dataset with features 'X' and target 'y')\n",
        "# For this example, I will generate some random data. Replace with your dataset loading step.\n",
        "\n",
        "# Replace with actual dataset loading\n",
        "# data = pd.read_csv('your_data.csv')  # Example\n",
        "X = np.random.rand(100, 10)  # Example feature data (100 samples, 10 features)\n",
        "y = np.random.rand(100)  # Example target data\n",
        "\n",
        "# Split the data into training and testing sets (80% train, 20% test)\n",
        "X_train, X_test, y_train, y_test = train_test_split(X, y, test_size=0.2, random_state=42)\n",
        "\n",
        "# Define the model\n",
        "xgb_model = xgb.XGBRegressor(objective=\"reg:squarederror\", random_state=42)\n",
        "\n",
        "# Define the parameter grid for GridSearchCV (tuning the learning rate)\n",
        "param_grid = {\n",
        "    'learning_rate': [0.01, 0.05, 0.1, 0.2, 0.3],  # Possible learning rates\n",
        "    'n_estimators': [50, 100, 200],  # Number of trees/boosting rounds\n",
        "    'max_depth': [3, 6, 9],  # Maximum depth of each tree\n",
        "    'subsample': [0.8, 0.9, 1.0],  # Subsample ratio of the training data\n",
        "    'colsample_bytree': [0.8, 0.9, 1.0]  # Subsample ratio of columns\n",
        "}\n",
        "\n",
        "# Initialize GridSearchCV\n",
        "grid_search = GridSearchCV(estimator=xgb_model, param_grid=param_grid,\n",
        "                           cv=5, scoring='neg_mean_squared_error', n_jobs=-1)\n",
        "\n",
        "# Fit the model to the training data\n",
        "grid_search.fit(X_train, y_train)\n",
        "\n",
        "# Output the best parameters found by GridSearchCV\n",
        "best_params = grid_search.best_params_\n",
        "print(f\"Best Parameters: {best_params}\")\n",
        "\n",
        "# Evaluate the model on the test data\n",
        "best_model = grid_search.best_estimator_\n",
        "y_pred = best_model.predict(X_test)\n",
        "\n",
        "# Calculate the Mean Squared Error (MSE) on the test data\n",
        "mse = mean_squared_error(y_test, y_pred)\n",
        "print(f\"Mean Squared Error on Test Set: {mse}\")\n"
      ],
      "metadata": {
        "colab": {
          "base_uri": "https://localhost:8080/"
        },
        "id": "k2wS8dL6teNd",
        "outputId": "d48e751c-a2f4-4245-b95b-e4bbadcb6135"
      },
      "execution_count": 8,
      "outputs": [
        {
          "output_type": "stream",
          "name": "stdout",
          "text": [
            "Best Parameters: {'colsample_bytree': 0.9, 'learning_rate': 0.01, 'max_depth': 3, 'n_estimators': 100, 'subsample': 0.8}\n",
            "Mean Squared Error on Test Set: 0.08197805747897655\n"
          ]
        }
      ]
    },
    {
      "cell_type": "markdown",
      "source": [
        "# **Q.28Train a CatBoost Classifier on an imbalanced dataset and compare performance with class weighting**"
      ],
      "metadata": {
        "id": "WW8IuO1juVZj"
      }
    },
    {
      "cell_type": "code",
      "source": [
        "import numpy as np\n",
        "import pandas as pd\n",
        "from sklearn.model_selection import train_test_split\n",
        "from sklearn.metrics import classification_report, confusion_matrix\n",
        "from catboost import CatBoostClassifier\n",
        "\n",
        "# Step 1: Create or Load the Dataset\n",
        "# Here, we create a synthetic imbalanced dataset using `make_classification`\n",
        "from sklearn.datasets import make_classification\n",
        "\n",
        "X, y = make_classification(n_samples=1000, n_features=20, n_informative=2, n_redundant=10,\n",
        "                           n_classes=2, weights=[0.1, 0.9], flip_y=0, random_state=42)\n",
        "\n",
        "# Step 2: Split into Train and Test Sets\n",
        "X_train, X_test, y_train, y_test = train_test_split(X, y, test_size=0.2, random_state=42)\n",
        "\n",
        "# Step 3: Train CatBoost Classifier without class weighting\n",
        "catboost_no_weights = CatBoostClassifier(iterations=1000, learning_rate=0.05, depth=6,\n",
        "                                         cat_features=[], verbose=0)\n",
        "\n",
        "# Fit the model on the training data\n",
        "catboost_no_weights.fit(X_train, y_train)\n",
        "\n",
        "# Predict on the test data\n",
        "y_pred_no_weights = catboost_no_weights.predict(X_test)\n",
        "\n",
        "# Step 4: Train CatBoost Classifier with class weighting\n",
        "# Class weights are passed as a list: class_weights=[0.9, 0.1] (we reverse the weights to give more importance to the minority class)\n",
        "catboost_with_weights = CatBoostClassifier(iterations=1000, learning_rate=0.05, depth=6,\n",
        "                                           cat_features=[], class_weights=[0.9, 0.1], verbose=0)\n",
        "\n",
        "# Fit the model on the training data with class weights\n",
        "catboost_with_weights.fit(X_train, y_train)\n",
        "\n",
        "# Predict on the test data\n",
        "y_pred_with_weights = catboost_with_weights.predict(X_test)\n",
        "\n",
        "# Step 5: Evaluate and Compare Performance\n",
        "print(\"Performance without class weighting:\")\n",
        "print(classification_report(y_test, y_pred_no_weights))\n",
        "print(confusion_matrix(y_test, y_pred_no_weights))\n",
        "\n",
        "print(\"\\nPerformance with class weighting:\")\n",
        "print(classification_report(y_test, y_pred_with_weights))\n",
        "print(confusion_matrix(y_test, y_pred_with_weights))\n"
      ],
      "metadata": {
        "colab": {
          "base_uri": "https://localhost:8080/"
        },
        "id": "fAIKETdntr8S",
        "outputId": "92a9b4b3-b6e8-4bfc-f6a9-c116d4e85834"
      },
      "execution_count": 9,
      "outputs": [
        {
          "output_type": "stream",
          "name": "stdout",
          "text": [
            "Performance without class weighting:\n",
            "              precision    recall  f1-score   support\n",
            "\n",
            "           0       0.71      0.62      0.67        24\n",
            "           1       0.95      0.97      0.96       176\n",
            "\n",
            "    accuracy                           0.93       200\n",
            "   macro avg       0.83      0.80      0.81       200\n",
            "weighted avg       0.92      0.93      0.92       200\n",
            "\n",
            "[[ 15   9]\n",
            " [  6 170]]\n",
            "\n",
            "Performance with class weighting:\n",
            "              precision    recall  f1-score   support\n",
            "\n",
            "           0       0.73      0.79      0.76        24\n",
            "           1       0.97      0.96      0.97       176\n",
            "\n",
            "    accuracy                           0.94       200\n",
            "   macro avg       0.85      0.88      0.86       200\n",
            "weighted avg       0.94      0.94      0.94       200\n",
            "\n",
            "[[ 19   5]\n",
            " [  7 169]]\n"
          ]
        }
      ]
    },
    {
      "cell_type": "markdown",
      "source": [
        "# **Q.29 Train an AdaBoost Classifier and analyze the effect of different learning rates**"
      ],
      "metadata": {
        "id": "IhBe_YW0vBGe"
      }
    },
    {
      "cell_type": "code",
      "source": [
        "import numpy as np\n",
        "import pandas as pd\n",
        "from sklearn.model_selection import train_test_split\n",
        "from sklearn.metrics import classification_report, confusion_matrix\n",
        "from sklearn.ensemble import AdaBoostClassifier\n",
        "from sklearn.tree import DecisionTreeClassifier\n",
        "from sklearn.datasets import make_classification\n",
        "\n",
        "# Step 1: Create a synthetic dataset (imbalanced or balanced as you wish)\n",
        "X, y = make_classification(n_samples=1000, n_features=20, n_informative=2, n_redundant=10,\n",
        "                           n_classes=2, random_state=42)\n",
        "\n",
        "# Step 2: Split the dataset into train and test sets\n",
        "X_train, X_test, y_train, y_test = train_test_split(X, y, test_size=0.2, random_state=42)\n",
        "\n",
        "# Step 3: Experiment with different learning rates in AdaBoost\n",
        "learning_rates = [0.01, 0.1, 0.5, 1.0, 2.0]\n",
        "results = {}\n",
        "\n",
        "for lr in learning_rates:\n",
        "    # Initialize AdaBoost Classifier with a base estimator (DecisionTreeClassifier)\n",
        "    model = AdaBoostClassifier(DecisionTreeClassifier(max_depth=1),  n_estimators=50,  learning_rate=lr, random_state=42)\n",
        "\n",
        "    # Train the model\n",
        "    model.fit(X_train, y_train)\n",
        "\n",
        "    # Make predictions\n",
        "    y_pred = model.predict(X_test)\n",
        "\n",
        "    # Evaluate the performance using classification report and confusion matrix\n",
        "    report = classification_report(y_test, y_pred, output_dict=True)\n",
        "    confusion = confusion_matrix(y_test, y_pred)\n",
        "\n",
        "    results[lr] = {\n",
        "        'classification_report': report,\n",
        "        'confusion_matrix': confusion\n",
        "    }\n",
        "\n",
        "# Step 4: Display the results\n",
        "for lr in learning_rates:\n",
        "    print(f\"Results for Learning Rate: {lr}\")\n",
        "    print(f\"Classification Report:\\n {results[lr]['classification_report']}\")\n",
        "    print(f\"Confusion Matrix:\\n {results[lr]['confusion_matrix']}\")\n",
        "    print(\"\\n\" + \"-\"*50 + \"\\n\")\n"
      ],
      "metadata": {
        "colab": {
          "base_uri": "https://localhost:8080/"
        },
        "id": "aqhwZHaYvbKD",
        "outputId": "b6670302-73e4-4a9a-954b-5eff6c96a23e"
      },
      "execution_count": 16,
      "outputs": [
        {
          "output_type": "stream",
          "name": "stdout",
          "text": [
            "Results for Learning Rate: 0.01\n",
            "Classification Report:\n",
            " {'0': {'precision': 0.912621359223301, 'recall': 0.8468468468468469, 'f1-score': 0.8785046728971962, 'support': 111.0}, '1': {'precision': 0.8247422680412371, 'recall': 0.898876404494382, 'f1-score': 0.8602150537634409, 'support': 89.0}, 'accuracy': 0.87, 'macro avg': {'precision': 0.868681813632269, 'recall': 0.8728616256706144, 'f1-score': 0.8693598633303186, 'support': 200.0}, 'weighted avg': {'precision': 0.8735151636472825, 'recall': 0.87, 'f1-score': 0.8703657923826751, 'support': 200.0}}\n",
            "Confusion Matrix:\n",
            " [[94 17]\n",
            " [ 9 80]]\n",
            "\n",
            "--------------------------------------------------\n",
            "\n",
            "Results for Learning Rate: 0.1\n",
            "Classification Report:\n",
            " {'0': {'precision': 0.9047619047619048, 'recall': 0.8558558558558559, 'f1-score': 0.8796296296296297, 'support': 111.0}, '1': {'precision': 0.8315789473684211, 'recall': 0.8876404494382022, 'f1-score': 0.8586956521739131, 'support': 89.0}, 'accuracy': 0.87, 'macro avg': {'precision': 0.8681704260651629, 'recall': 0.871748152647029, 'f1-score': 0.8691626409017714, 'support': 200.0}, 'weighted avg': {'precision': 0.8721954887218045, 'recall': 0.87, 'f1-score': 0.8703140096618358, 'support': 200.0}}\n",
            "Confusion Matrix:\n",
            " [[95 16]\n",
            " [10 79]]\n",
            "\n",
            "--------------------------------------------------\n",
            "\n",
            "Results for Learning Rate: 0.5\n",
            "Classification Report:\n",
            " {'0': {'precision': 0.9174311926605505, 'recall': 0.9009009009009009, 'f1-score': 0.9090909090909091, 'support': 111.0}, '1': {'precision': 0.8791208791208791, 'recall': 0.898876404494382, 'f1-score': 0.8888888888888888, 'support': 89.0}, 'accuracy': 0.9, 'macro avg': {'precision': 0.8982760358907148, 'recall': 0.8998886526976415, 'f1-score': 0.898989898989899, 'support': 200.0}, 'weighted avg': {'precision': 0.9003831031353967, 'recall': 0.9, 'f1-score': 0.9001010101010101, 'support': 200.0}}\n",
            "Confusion Matrix:\n",
            " [[100  11]\n",
            " [  9  80]]\n",
            "\n",
            "--------------------------------------------------\n",
            "\n",
            "Results for Learning Rate: 1.0\n",
            "Classification Report:\n",
            " {'0': {'precision': 0.8990825688073395, 'recall': 0.8828828828828829, 'f1-score': 0.8909090909090909, 'support': 111.0}, '1': {'precision': 0.8571428571428571, 'recall': 0.8764044943820225, 'f1-score': 0.8666666666666667, 'support': 89.0}, 'accuracy': 0.88, 'macro avg': {'precision': 0.8781127129750983, 'recall': 0.8796436886324527, 'f1-score': 0.8787878787878788, 'support': 200.0}, 'weighted avg': {'precision': 0.8804193971166449, 'recall': 0.88, 'f1-score': 0.8801212121212122, 'support': 200.0}}\n",
            "Confusion Matrix:\n",
            " [[98 13]\n",
            " [11 78]]\n",
            "\n",
            "--------------------------------------------------\n",
            "\n",
            "Results for Learning Rate: 2.0\n",
            "Classification Report:\n",
            " {'0': {'precision': 0.484472049689441, 'recall': 0.7027027027027027, 'f1-score': 0.5735294117647058, 'support': 111.0}, '1': {'precision': 0.15384615384615385, 'recall': 0.06741573033707865, 'f1-score': 0.09375, 'support': 89.0}, 'accuracy': 0.42, 'macro avg': {'precision': 0.31915910176779744, 'recall': 0.3850592165198907, 'f1-score': 0.3336397058823529, 'support': 200.0}, 'weighted avg': {'precision': 0.3373435260391783, 'recall': 0.42, 'f1-score': 0.3600275735294117, 'support': 200.0}}\n",
            "Confusion Matrix:\n",
            " [[78 33]\n",
            " [83  6]]\n",
            "\n",
            "--------------------------------------------------\n",
            "\n"
          ]
        }
      ]
    },
    {
      "cell_type": "markdown",
      "source": [
        "# **Q.30 Train an XGBoost Classifier for multi-class classification and evaluate using log-loss**"
      ],
      "metadata": {
        "id": "PhxoyV3QwbQq"
      }
    },
    {
      "cell_type": "code",
      "source": [
        "import numpy as np\n",
        "import pandas as pd\n",
        "from sklearn.model_selection import train_test_split\n",
        "from sklearn.metrics import log_loss\n",
        "from sklearn.datasets import load_iris\n",
        "import xgboost as xgb\n",
        "\n",
        "# Step 1: Load a multi-class dataset (Iris dataset in this case)\n",
        "data = load_iris()\n",
        "X = data.data  # Feature matrix\n",
        "y = data.target  # Labels (3 classes in Iris dataset)\n",
        "\n",
        "# Step 2: Split the dataset into training and testing sets\n",
        "X_train, X_test, y_train, y_test = train_test_split(X, y, test_size=0.2, random_state=42)\n",
        "\n",
        "# Step 3: Train the XGBoost model for multi-class classification\n",
        "# Specify the parameters for multi-class classification\n",
        "params = {\n",
        "    'objective': 'multi:softprob',  # multi-class classification with probability outputs\n",
        "    'num_class': 3,  # Number of classes in the Iris dataset\n",
        "    'max_depth': 3,\n",
        "    'learning_rate': 0.1,\n",
        "    'n_estimators': 100,\n",
        "    'eval_metric': 'mlogloss',  # Log-loss is used to evaluate the model\n",
        "    'random_state': 42\n",
        "}\n",
        "\n",
        "# Create the XGBoost model\n",
        "model = xgb.XGBClassifier(\n",
        "    objective=params['objective'],\n",
        "    num_class=params['num_class'],\n",
        "    max_depth=params['max_depth'],\n",
        "    learning_rate=params['learning_rate'],\n",
        "    n_estimators=params['n_estimators'],\n",
        "    eval_metric=params['eval_metric'],\n",
        "    random_state=params['random_state']\n",
        ")\n",
        "\n",
        "# Fit the model to the training data\n",
        "model.fit(X_train, y_train)\n",
        "\n",
        "# Step 4: Predict probabilities for the test set\n",
        "# XGBoost's `predict_proba` gives the probabilities for each class\n",
        "y_pred_proba = model.predict_proba(X_test)\n",
        "\n",
        "# Step 5: Evaluate the model using Log-Loss\n",
        "# Log-loss evaluates the accuracy of probability predictions, with lower values being better\n",
        "logloss = log_loss(y_test, y_pred_proba)\n",
        "print(f'Log-Loss: {logloss}')\n"
      ],
      "metadata": {
        "colab": {
          "base_uri": "https://localhost:8080/"
        },
        "id": "DW0REXP0vjGO",
        "outputId": "dcf83582-e036-4055-a955-28d7005c7a1e"
      },
      "execution_count": 17,
      "outputs": [
        {
          "output_type": "stream",
          "name": "stdout",
          "text": [
            "Log-Loss: 0.01970860706243556\n"
          ]
        }
      ]
    },
    {
      "cell_type": "code",
      "source": [],
      "metadata": {
        "id": "zVogT27iwmsM"
      },
      "execution_count": null,
      "outputs": []
    }
  ]
}