{
 "cells": [
  {
   "cell_type": "markdown",
   "id": "79e358e4-e6c1-41da-943d-89d069afa420",
   "metadata": {},
   "source": [
    " # Q1.Explain the different types of data (qualitative and quantitative) and provide examples of each. Discuss nominal, ordinal, interval, and ratio scales."
   ]
  },
  {
   "cell_type": "code",
   "execution_count": 2,
   "id": "cd6564ba-7011-4190-b320-935a2a176397",
   "metadata": {},
   "outputs": [],
   "source": [
    "# >> Qualitative Data:-it describe quality and characteristics of the data, it is non numeric data.\n",
    "\n",
    "#     example== \"cusmoter feedback\"\n",
    "# >> Quantative Data :- it is a numeric data which measures quantity and amounts, it is countable and continuous.\n",
    "#     example== \"no. of employes \",\"temperature\"\n",
    "# SCALES OD MEASUREMENT:-\n",
    "#     >> Nominal Scale:-it is the data without any specific order or hirarchy\n",
    "#     >> Ordinal scale:-categorical data with a proper order but interval between the order is not known.\n",
    "#     >> Interval scale:- measures data with a proper interval between the values.\n",
    "#     >> Ratio Scale:-  measures data with  a propr interval between the values and a true zero point.\n",
    "    "
   ]
  },
  {
   "cell_type": "markdown",
   "id": "876d68b2-fb79-473e-94a2-bc6274846716",
   "metadata": {},
   "source": [
    "# Q.2 What are the measures of central tendency, and when should you use each? Discuss the mean, median, and mode with examples and situations where each is appropriate."
   ]
  },
  {
   "cell_type": "code",
   "execution_count": null,
   "id": "b2475d11-4e8d-4335-a1fb-69f6eebdb69f",
   "metadata": {},
   "outputs": [],
   "source": [
    "# measure of central tendency summerize a dataset with a single value representing the centre.\n",
    "\n",
    "#     there are three main measures --1.mean\n",
    "#                                     2.median\n",
    "#                                     3.mode\n",
    "# 1. Mean== mean is basically  arithmatic avg. of the data.. \n",
    "#           we use mean when the data is continuous and does not have extreme outliers.\n",
    "# 2. Median== it is the middle value of the  ordered dataset.\n",
    "#             use when data has an outleier or is skewed.\n",
    "# 3. Mode == it is the most frequent occuring value in dataset\n",
    "#            data can be unimodal, bimodal,or it can have no mode.\n",
    "#            use when u need to find the common value or item.\n"
   ]
  },
  {
   "cell_type": "markdown",
   "id": "37fe7805-65ba-40a7-9850-dceea0e93e97",
   "metadata": {},
   "source": [
    "# Q.3 Explain the concept of dispersion. How do variance and standard deviation measure the spread of data?"
   ]
  },
  {
   "cell_type": "code",
   "execution_count": 6,
   "id": "38c90b6b-6041-4922-8694-5ff1ded5252b",
   "metadata": {},
   "outputs": [],
   "source": [
    "# ..Dispersion refers to a extend to which dataset can spread out its central value like mean  \n",
    "# .. it provide insight into the diversity of the data.\n",
    "# .. it helps to understand how much data is different to each other.\n",
    "\n",
    "# >> variance : it consider all data points squared differences from the mean.\n",
    "# >> standard : it translates the squared measure back into the original scale.makes it easy to interpriat in pratical terms."
   ]
  },
  {
   "cell_type": "markdown",
   "id": "237cc045-13bc-47cb-8840-4c7b9422d8e1",
   "metadata": {},
   "source": [
    "# Q.4 What is a box plot, and what can it tell you about the distribution of data?"
   ]
  },
  {
   "cell_type": "code",
   "execution_count": null,
   "id": "69f159bc-72f6-4151-86ff-d7ad2dcef593",
   "metadata": {},
   "outputs": [],
   "source": [
    "..It is a graphical representation data provides a summery of its distribution.\n",
    "..It displays the datasets central tendency.\n",
    "\n",
    "\n",
    ">> the median line inside the box show datasets central value.\n",
    ">> "
   ]
  },
  {
   "cell_type": "markdown",
   "id": "62bfc193-f8cf-4066-811d-809f9da6a19b",
   "metadata": {},
   "source": [
    "# Q5 Discuss the role of random sampling in making inferences about populations."
   ]
  },
  {
   "cell_type": "code",
   "execution_count": 10,
   "id": "0ee321ea-0953-41f6-93fa-95e47a5a6a58",
   "metadata": {},
   "outputs": [],
   "source": [
    "# ..Random sampling select individual from a large population in such a way that everyone gets a equal chance of getting selected.\n",
    "# keys roles;\n",
    "#  .. gives every individual equal chance of selection.\n",
    "#  .. it reduse the slection bias.\n",
    "#  .. it helps to gain meaningfull insight without studying the whole population.\n",
    "#  it can be use in ;\n",
    "#     .. surveys \n",
    "#     ..  clinical trial\n",
    "    "
   ]
  },
  {
   "cell_type": "markdown",
   "id": "1375ad4e-e377-4e23-9ef9-f85635adcc2a",
   "metadata": {},
   "source": [
    "# Q6. Explain the concept of skewness and its types. How does skewness affect the interpretation of data?"
   ]
  },
  {
   "cell_type": "code",
   "execution_count": 13,
   "id": "ba06e1f7-fd9a-447c-8591-14cfc6ea6404",
   "metadata": {},
   "outputs": [],
   "source": [
    "# skewness is ameasure that describe the  asymmetry or lack of symmetry in the distribution of data.\n",
    "\n",
    "# types of skewness:-\n",
    "# 1.positive skewness :- ..the higher value of the distribution is longer or stretched out compair to left tail.\n",
    "#                        ..here the mean is typically greater than the median.\n",
    "# 2.Negative skewness:- .. here mean is typically less then the median.\n",
    "\n",
    "# 3.zero skewness :- .. here the distribution is perfectly symmetrical.\n",
    "#                    .. Mean,Mode,Median are same\n",
    "#     HOW IT AFFECTS THE INTERPRETATION OF THE DATA:\n",
    "\n",
    "# 1.Decision Making:- it informs risk assessment,possitive skewness had higher chance of extreme profit.\n",
    "\n",
    "# 2.Data Visualization:- it can mislead the interpretation of the data as tail can dominate overall appearance of the distribution.\n",
    "\n",
    "# 3.outlier sensitivity:- it contain outlier which can distort the statistical analysis."
   ]
  },
  {
   "cell_type": "markdown",
   "id": "39f7ea5a-1836-4ef8-a524-9eabe1506dda",
   "metadata": {},
   "source": [
    " ## Q.7What is the interquartile range (IQR), and how is it used to detect outliers?"
   ]
  },
  {
   "cell_type": "code",
   "execution_count": 16,
   "id": "f69ca80e-38d8-4107-9590-18b1db6d8e65",
   "metadata": {},
   "outputs": [],
   "source": [
    "# IQR is a measure of statistical dispersion, representing middle of a dataset.\n",
    "# it is calculated as the difference between the 3rd quartile and 1st quartile.\n",
    "\n",
    "# IQR provides insight into the spread of the central position of the data.\n",
    "\n",
    "# HOW IT DETECT THE OUTLIERS:\n",
    "\n",
    "# 1.calculate the IQR:\n",
    "\n",
    "# IQR = Q3 -Q1\n",
    "# 2. any data point outside these bounds is considered an outlier.\n"
   ]
  },
  {
   "cell_type": "markdown",
   "id": "fdb0118a-4acd-4101-9210-ec84ddea7487",
   "metadata": {},
   "source": [
    "# Q 8. Discuss the conditions under which the binomial distribution is used."
   ]
  },
  {
   "cell_type": "code",
   "execution_count": 19,
   "id": "9db49e7c-1cc3-4c26-99b6-5b9459c0f0b6",
   "metadata": {},
   "outputs": [],
   "source": [
    "# . conditions when binomial distribution is used.\n",
    "# 1. fixed no. of trial: it has fixed no. of trials which determine in advance.\n",
    "# 2. two posible outcomes:-\n",
    "#  each trial must result in two mutually excluisve outcomes. as 'success'and 'failure'.\n",
    "# 3. independence of trials:-\n",
    "#      outcome of anyone trial should not affect the outcome of other trials.\n",
    "# 4. Discrete Data:\n",
    "#      the random variable of imtrest represent the count of successesin n trial.\n",
    "     "
   ]
  },
  {
   "cell_type": "markdown",
   "id": "6680df4f-8e91-4ddb-bb68-57df08ac3b3a",
   "metadata": {},
   "source": [
    "# Q.9 Explain the properties of the normal distribution and the empirical rule (68-95-99.7 rule)"
   ]
  },
  {
   "cell_type": "code",
   "execution_count": null,
   "id": "add29327-675f-49b7-a76b-56f8b3b2ee03",
   "metadata": {},
   "outputs": [],
   "source": [
    "# NORMAL DISTRIBUTION ::\n",
    "\n",
    "# 1. symmetry :  the normal distribution is symmetric about its mean .\n",
    "\n",
    "# 2.mean : mode, median :- for normal distribution the mean , median, mode are all equal.\n",
    "\n",
    "# 3.shape : most of the data clustered around the mean.\n",
    "\n",
    "# 4.Asymptotes : the normal distribution is completly defined by its mean and standard deviation.\n",
    "\n",
    "# EMPIRICAL RULE ::\n",
    "\n",
    "# 1. 68% = about 68% of he data lies within one  standard deviation of the mean.\n",
    "\n",
    "# 2. 95% = about 95% of the data lies within two standard deviation of the mean.\n",
    "\n",
    "# 3. 99.7% = About 99.7% of the data lies within three standard deviation of the mean."
   ]
  },
  {
   "cell_type": "markdown",
   "id": "99273730-bef7-4644-92dc-8f4a44921145",
   "metadata": {},
   "source": [
    "# Q.10  Provide a real-life example of a Poisson process and calculate the probability for a specific event."
   ]
  },
  {
   "cell_type": "code",
   "execution_count": null,
   "id": "44bab87b-20f5-4af3-bd6f-ea2ca23c8a5a",
   "metadata": {},
   "outputs": [],
   "source": []
  },
  {
   "cell_type": "markdown",
   "id": "cb25856a-d42a-487d-9183-dc16a0663f70",
   "metadata": {},
   "source": [
    "# Q.11 Explain what a random variable is and differentiate between discrete and continuous random variables.\n",
    "\n",
    "\n"
   ]
  },
  {
   "cell_type": "code",
   "execution_count": 28,
   "id": "e93460a0-d93c-4871-b342-6e7929fe50c3",
   "metadata": {},
   "outputs": [],
   "source": [
    "# ..Random variable is variable whoes value is determine by the outcome of random phenomenon.\n",
    "# ..Random vriables are typically denoted as X,Y ..\n",
    "\n",
    "# DISCRETE RANDOM VARIABLE:- \n",
    "# ..discrete variable that takes the finit number of distinct values.\n",
    "# ..these values of distinct values.\n",
    "# CONTINUOUS RANDOM VARIABLE :-\n",
    "# .. It takes infinit n. of values within a given range.\n",
    "# .. the variable can assume any value within a specific interval.\n",
    "    "
   ]
  },
  {
   "cell_type": "markdown",
   "id": "b2441dfa-f449-4326-b0f5-86260bd25a21",
   "metadata": {},
   "source": [
    "# Q.12  Provide an example dataset, calculate both covariance and correlation, and interpret the results."
   ]
  },
  {
   "cell_type": "code",
   "execution_count": null,
   "id": "c1ff8c2d-3eef-4125-9428-c8cfa77569cf",
   "metadata": {},
   "outputs": [],
   "source": [
    "import pandas as pd\n",
    "aa = pd.DataFrame({\n",
    "    'index':[1,2,3,4,5],\n",
    "    'study hour':[2,3,4,5,1],\n",
    "    ''\n",
    "})"
   ]
  }
 ],
 "metadata": {
  "kernelspec": {
   "display_name": "Python 3 (ipykernel)",
   "language": "python",
   "name": "python3"
  },
  "language_info": {
   "codemirror_mode": {
    "name": "ipython",
    "version": 3
   },
   "file_extension": ".py",
   "mimetype": "text/x-python",
   "name": "python",
   "nbconvert_exporter": "python",
   "pygments_lexer": "ipython3",
   "version": "3.12.4"
  }
 },
 "nbformat": 4,
 "nbformat_minor": 5
}
