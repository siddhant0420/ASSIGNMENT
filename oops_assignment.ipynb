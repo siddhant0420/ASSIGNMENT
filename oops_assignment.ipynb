{
  "nbformat": 4,
  "nbformat_minor": 0,
  "metadata": {
    "colab": {
      "provenance": []
    },
    "kernelspec": {
      "name": "python3",
      "display_name": "Python 3"
    },
    "language_info": {
      "name": "python"
    }
  },
  "cells": [
    {
      "cell_type": "code",
      "execution_count": 1,
      "metadata": {
        "id": "fAah81iFhVsD",
        "colab": {
          "base_uri": "https://localhost:8080/"
        },
        "outputId": "5e543fb0-0fac-451a-e3e7-e45c2403f30d"
      },
      "outputs": [
        {
          "output_type": "stream",
          "name": "stdout",
          "text": [
            "hello world\n"
          ]
        }
      ],
      "source": [
        "print(\"hello world\")"
      ]
    },
    {
      "cell_type": "code",
      "source": [
        " # Q .1 What are the five key concepts of Object-Oriented Programming (OOP)?\n",
        "\n",
        "  # >> class and object ==\n",
        "  # ... class are  the blueprint for creating the objects , it will define the behaviour of the object.\n",
        "\n",
        "  # ... objects are the instance of the class it has his own set of data.\n",
        "\n",
        "  # >> polymorphism ==\n",
        "  # ... it refers to an objects taking several forms depending on the method.\n",
        "  # ... polymorphism takes place in two ways -\n",
        "  # -method overloading\n",
        "  # -method overriding\n",
        "\n",
        "  # >> encapsulation ==\n",
        "  # ...  it means hidding something or bundling of data of a class .\n",
        "  # ... it operates on the data into a single unit.\n",
        "\n",
        "  # >> inheritance ==\n",
        "  # ... inheritance allows the new class to inherit the properties of existing class.\n",
        "  # ... this promote code reusability.\n",
        "\n",
        "  # >> abstraction ==\n",
        "  # ... abstraction focused on hiding complex detail and show only essential feature of the object.\n"
      ],
      "metadata": {
        "id": "yhL4ZUjqnzpE"
      },
      "execution_count": 2,
      "outputs": []
    },
    {
      "cell_type": "code",
      "source": [
        "# Q .2  Write a Python class for a `Car` with attributes for `make`, `model`, and `year`. Include a method to display\n",
        "# the car's information.\n",
        "\n",
        "class Car :\n",
        "  def __init__(self,make,model,year):\n",
        "    self.make =make\n",
        "    self.model =  model\n",
        "    self .year = year\n",
        "  def display_cars_info(self):\n",
        "    print(\"these car is of \", self.make,\"and these cars model is \",self.model ,\"launch in the year  \",self.year)\n",
        "\n",
        "a=Car (\"hundai\",\"varna\",\"2000\")\n",
        "a.display_cars_info()"
      ],
      "metadata": {
        "colab": {
          "base_uri": "https://localhost:8080/"
        },
        "id": "H_PmR008sI7t",
        "outputId": "f773aa5a-059d-4617-9b79-c731f1d9e4ab"
      },
      "execution_count": 6,
      "outputs": [
        {
          "output_type": "stream",
          "name": "stdout",
          "text": [
            "these car is of  hundai and these cars model is  varna launch in the year   2000\n"
          ]
        }
      ]
    },
    {
      "cell_type": "code",
      "source": [
        "# Q.3 Explain the difference between instance methods and class methods. Provide an example of each.\n",
        "\n",
        "# instance method :-\n",
        "# .. instance methods operates on an instance of a classs.\n",
        "# .. these methods defines with self as a parameter.\n",
        "\n",
        "class Student:\n",
        "  def __init__(self ,name):\n",
        "    self.name = name\n",
        "  def stud_info (self):\n",
        "    print (\"these informnrion is belong to student named \", self.name)\n",
        "\n",
        "a = Student(\"siddhant\")\n",
        "a.stud_info()\n",
        "\n",
        "# class method :-\n",
        "# .. class metod is defined using @classmethod.\n",
        "# .. it takes cls insted of self as its 1st parameter.\n",
        "# .. class method operates on class itself not on a individual instances.\n",
        "\n",
        "class Student:\n",
        "  def __init__(self ,name):\n",
        "    self.name = name\n",
        "  @classmethod\n",
        "  def stud_info (cls,name1):\n",
        "    return cls(name1)\n",
        "a = Student.stud_info(\"siddhant\")\n",
        "a.name\n"
      ],
      "metadata": {
        "colab": {
          "base_uri": "https://localhost:8080/",
          "height": 53
        },
        "id": "yowBLabLuezz",
        "outputId": "d31e4704-a74e-47f7-efc0-36e883987eb6"
      },
      "execution_count": 11,
      "outputs": [
        {
          "output_type": "stream",
          "name": "stdout",
          "text": [
            "these informnrion is belong to student named  siddhant\n"
          ]
        },
        {
          "output_type": "execute_result",
          "data": {
            "text/plain": [
              "'siddhant'"
            ],
            "application/vnd.google.colaboratory.intrinsic+json": {
              "type": "string"
            }
          },
          "metadata": {},
          "execution_count": 11
        }
      ]
    },
    {
      "cell_type": "code",
      "source": [
        "# Q.4  How does Python implement method overloading? Give an example.\n",
        "\n",
        "# python traditionaly doesnt support method overloading, it uses default argument, conditional checks to achieve the similar functionality.\n",
        "\n",
        "class Student:\n",
        "  def stud_info(self,name = '  ',age = '  '):\n",
        "    print(\"welcome \",name , 'YOUR AGE IS',  age)\n",
        "a = Student()\n",
        "a.stud_info()\n",
        "\n",
        "a.stud_info('siddhant')\n",
        "\n",
        "a.stud_info('siddhant',24)\n",
        "\n"
      ],
      "metadata": {
        "colab": {
          "base_uri": "https://localhost:8080/"
        },
        "id": "d0ebYcz6xL-D",
        "outputId": "6eeae851-adbb-44af-887b-20d0aa8bb528"
      },
      "execution_count": 17,
      "outputs": [
        {
          "output_type": "stream",
          "name": "stdout",
          "text": [
            "welcome     YOUR AGE IS   \n",
            "welcome  siddhant YOUR AGE IS   \n",
            "welcome  siddhant YOUR AGE IS 24\n"
          ]
        }
      ]
    },
    {
      "cell_type": "code",
      "source": [
        "# Q.5  What are the three types of access modifiers in Python? How are they denoted?\n",
        "#  we have tree types of access modifiers;\n",
        "#  1- public = ..it can be access anywhere from outside/inside the class.\n",
        "\n",
        "#  2- protective =.. it can be access within the class or subclass.\n",
        "#                 .. it can be denoted by(_)\n",
        "#  3- private = it can be accessible only with in the class.\n",
        "#              .. it is denoted by (__)\n"
      ],
      "metadata": {
        "id": "bOo1gWNC20r6"
      },
      "execution_count": 18,
      "outputs": []
    },
    {
      "cell_type": "code",
      "source": [
        "# Q.6. Describe the five types of inheritance in Python. Provide a simple example of multiple inheritance.\n",
        "\n",
        "# single inheritance =\n",
        "# .. it involves one parents and one child class.\n",
        "# multiple inheritance =\n",
        "# ..it invove one child class and multiple parent class.\n",
        "# .. it allow to inherits the attributes and methods of parent class\n",
        "# multilevel inheritance =\n",
        "# .. it has one parent class and multiple child class.\n",
        "# hierarchical inheritance =\n",
        "# ..  use whem various subclass needs to use the same base class.\n",
        "# ..  it involve multiple child clss inherits the property of same parent class.\n",
        "# hybrid inheritance =\n",
        "# .. its a combination of two or more inheritances.\n",
        "\n",
        "# example;\n",
        "\n",
        "class P1:\n",
        "  def method1(self):\n",
        "    print(\"it defines about parent 1\")\n",
        "class P2 :\n",
        "  def method2(self):\n",
        "    print(\"it defines about parent 2\")\n",
        "class child(P1,P2):\n",
        "  def method3(self):\n",
        "    print(\"it defined about childclass\")\n",
        "\n",
        "a =child()\n",
        "a.method2()\n",
        "a.method1()\n",
        "a.method3()"
      ],
      "metadata": {
        "colab": {
          "base_uri": "https://localhost:8080/"
        },
        "id": "Pb_LFTku6UuS",
        "outputId": "14fda7fe-42a6-43a4-891f-2fcd2487e4a6"
      },
      "execution_count": 26,
      "outputs": [
        {
          "output_type": "stream",
          "name": "stdout",
          "text": [
            "it defines about parent 2\n",
            "it defines about parent 1\n",
            "it defined about childclass\n"
          ]
        }
      ]
    },
    {
      "cell_type": "code",
      "source": [
        " # Q.7 What is the Method Resolution Order (MRO) in Python? How can you retrieve it programmatically?\n",
        "\n",
        "#  MRO is a order in which classes are searched when executing a method.\n",
        "#  it is important in multiple inheritance scenario.as it determines whivh class method is called when there are multiple class involve.\n",
        "\n",
        "#  we can retrieve the MRO using;\n",
        "#  1, class .mro(): it return list of class in MRO.\n",
        "#  2, class.__mro__: it provide the mro as a tuple.\n",
        "\n",
        "class Student :\n",
        "  pass\n",
        "class c1(Student):\n",
        "  pass\n",
        "class c2(Student):\n",
        "  pass\n",
        "class d (c1,c2):\n",
        "  pass\n",
        "print(d.mro())\n",
        "print(d.__mro__)"
      ],
      "metadata": {
        "colab": {
          "base_uri": "https://localhost:8080/"
        },
        "id": "Zlz8TFFG9pTs",
        "outputId": "e1ad85da-26e6-464f-fb85-71e5062e77a4"
      },
      "execution_count": 29,
      "outputs": [
        {
          "output_type": "stream",
          "name": "stdout",
          "text": [
            "[<class '__main__.d'>, <class '__main__.c1'>, <class '__main__.c2'>, <class '__main__.Student'>, <class 'object'>]\n",
            "(<class '__main__.d'>, <class '__main__.c1'>, <class '__main__.c2'>, <class '__main__.Student'>, <class 'object'>)\n"
          ]
        }
      ]
    },
    {
      "cell_type": "code",
      "source": [
        "#  Q.8 Create an abstract base class `Shape` with an abstract method `area()`. Then create two subclasses\n",
        "# `Circle` and `Rectangle` that implement the `area()` method.\n",
        "from abc import ABC, abstractmethod\n",
        "import math\n",
        "class Shape(ABC):\n",
        "  @abstractmethod\n",
        "  def area (self):\n",
        "    pass\n",
        "class Circle(Shape):\n",
        "  def __init__(self,r):\n",
        "    self.radius = r\n",
        "  def area(self):\n",
        "    return math.pi*self.radius**2\n",
        "class Rectangle(Shape):\n",
        "  def __init__(self,h,w):\n",
        "    self.height =h\n",
        "    self.weidth =w\n",
        "  def area(self):\n",
        "    return self.height*self.weidth\n",
        "\n",
        "circle=Circle(10)\n",
        "rect= Rectangle(10,5)\n",
        "print(\"area of circle is \",circle.area())\n",
        "print(\"area of rectangle is \",rect.area())"
      ],
      "metadata": {
        "colab": {
          "base_uri": "https://localhost:8080/"
        },
        "id": "s0brofEAG_WS",
        "outputId": "fa517a88-31dd-4d42-da97-4290db14a58d"
      },
      "execution_count": 41,
      "outputs": [
        {
          "output_type": "stream",
          "name": "stdout",
          "text": [
            "area of circle is  314.1592653589793\n",
            "area of rectangle is  50\n"
          ]
        }
      ]
    },
    {
      "cell_type": "code",
      "source": [
        "# Q .9. Demonstrate polymorphism by creating a function that can work with different shape objects to calculate and print their areas.\n",
        "\n",
        "import math\n",
        "class shape :\n",
        "  def area (self):\n",
        "    pass\n",
        "class Circle(shape):\n",
        "  def __init__(self,r):\n",
        "    self.r=r\n",
        "  def area(self):\n",
        "    return math.pi * self.r**2\n",
        "class Rectangle(shape):\n",
        "  def __init__(self, w,h):\n",
        "    self.w =w\n",
        "    self.h =h\n",
        "  def area(self):\n",
        "    return self.w*self.h\n",
        "\n",
        "def print_area(shape):\n",
        "  print(\"the area is \", shape.area())\n",
        "\n",
        "circle=Circle(5)\n",
        "rect= Rectangle(2,4)\n",
        "print_area(circle)\n",
        "print_area(rect)"
      ],
      "metadata": {
        "colab": {
          "base_uri": "https://localhost:8080/"
        },
        "id": "EMhxe8FfNmMS",
        "outputId": "0e0396b9-e2a0-4f1c-9130-af0f856d0a69"
      },
      "execution_count": 47,
      "outputs": [
        {
          "output_type": "stream",
          "name": "stdout",
          "text": [
            "the area is  78.53981633974483\n",
            "the area is  8\n"
          ]
        }
      ]
    },
    {
      "cell_type": "code",
      "source": [
        "# Q.10. Implement encapsulation in a `BankAccount` class with private attributes for `balance` and `account_number`. Include methods for deposit, withdrawal, and balance inquiry.\n",
        "\n",
        "\n",
        "class Account:\n",
        "    def __init__(self, bal , acc):\n",
        "        self.__bal = bal\n",
        "        self.__acc_n= acc\n",
        "    def debit (self , amount):\n",
        "        self.__bal -=amount\n",
        "        print(\"RS\",amount,\"was debited\")\n",
        "        print(\"your total bal, is =\",self.get_bal())\n",
        "    def credit (self , amount):\n",
        "        self.__bal += amount\n",
        "        print(\"RS\",amount,\"was credited\")\n",
        "        print(\"your total bal, is =\",self.get_bal())\n",
        "    def get_bal(self):\n",
        "        return self.__bal\n",
        "\n",
        "ac1 = Account(10000,12345)\n",
        "ac1._Account__bal\n",
        "ac1.credit(1000)\n",
        "ac1.debit(1200)\n",
        "ac1.credit(1200000)"
      ],
      "metadata": {
        "colab": {
          "base_uri": "https://localhost:8080/"
        },
        "id": "hClPiKRqSKgR",
        "outputId": "934616dc-c3a6-4786-b280-e666f5491760"
      },
      "execution_count": 57,
      "outputs": [
        {
          "output_type": "stream",
          "name": "stdout",
          "text": [
            "RS 1000 was credited\n",
            "your total bal, is = 11000\n",
            "RS 1200 was debited\n",
            "your total bal, is = 9800\n",
            "RS 1200000 was credited\n",
            "your total bal, is = 1209800\n"
          ]
        }
      ]
    },
    {
      "cell_type": "code",
      "source": [
        "# Q. 11  Write a class that overrides the `__str__` and `__add__` magic methods. What will these methods allow you to do?\n",
        "\n",
        "class customize:\n",
        "  def __init__(self,name,value):\n",
        "    self.name=name\n",
        "    self.value=value\n",
        "  def __str__(self):\n",
        "    return f\"customize(name: {self.name},value : {self.value})\"\n",
        "\n",
        "  def __add__(self,other):\n",
        "    if isinstance(other,customize):\n",
        "      return\n",
        "customize(self.name + other.name ,self.value + other.value)\n",
        "return\n",
        "\n",
        "a = customize(\"A\",10)\n",
        "b = customize(\"B\",20)\n",
        "\n",
        "print(a)\n",
        "print(a+b)"
      ],
      "metadata": {
        "id": "I_4LGCBpsNdx"
      },
      "execution_count": null,
      "outputs": []
    },
    {
      "cell_type": "code",
      "source": [
        "from os import times_result\n",
        "# Q>12. Create a decorator that measures and prints the execution time of a function.\n",
        "\n",
        "import time\n",
        "def timer_decorator(func):\n",
        "  def timer():\n",
        "    start = time.time()\n",
        "    func()\n",
        "    end =time.time()\n",
        "    print(\"time require to run these code is \", end-start)\n",
        "  return timer\n",
        "@timer_decorator\n",
        "def func_test():\n",
        "  print(11*1000)\n",
        "func_test()"
      ],
      "metadata": {
        "colab": {
          "base_uri": "https://localhost:8080/"
        },
        "id": "4hJOtmK5sw1Z",
        "outputId": "90b3eeed-3298-4dd8-c706-d19774af90df"
      },
      "execution_count": 3,
      "outputs": [
        {
          "output_type": "stream",
          "name": "stdout",
          "text": [
            "11000\n",
            "time require to run these code is  7.796287536621094e-05\n"
          ]
        }
      ]
    },
    {
      "cell_type": "code",
      "source": [
        "# Q>13. Explain the concept of the Diamond Problem in multiple inheritance. How does Python resolve it?\n",
        "\n",
        "# ..dimond problem occurs when a class inherits from 2 or more than 2 class will lead to ambiguity in execution of method.\n",
        "# .. to remove diamond problem python uses method resolution order (MRO)algorithm, that means the clss that inherit 1st in derived class will be called.\n",
        "\n",
        "class p_class1:\n",
        "  def method1 (self):\n",
        "    print(\"defines parent1\")\n",
        "class p_class2:\n",
        "  def method1(self):\n",
        "    print(\"defines parent 2\")\n",
        "class child_class(p_class1,p_class2):\n",
        "  def method(self):\n",
        "    print(\"defines child class\")\n",
        "\n",
        "c1 = child_class()\n",
        "c1.method1()"
      ],
      "metadata": {
        "colab": {
          "base_uri": "https://localhost:8080/"
        },
        "id": "9eQrF0druJEe",
        "outputId": "5292bdb8-7ca3-42af-d45e-864e45d09bd1"
      },
      "execution_count": 6,
      "outputs": [
        {
          "output_type": "stream",
          "name": "stdout",
          "text": [
            "defines parent1\n"
          ]
        }
      ]
    },
    {
      "cell_type": "code",
      "source": [
        "# Q.14. Write a class method that keeps track of the number of instances created from a class.\n",
        "\n",
        "class my_class:\n",
        "  instance_ =0\n",
        "  def __init__(self):\n",
        "    my_class.instance_ += 1\n",
        "\n",
        "  @classmethod\n",
        "  def get_count(cls):\n",
        "    return cls.instance_\n",
        "\n",
        "A =my_class()\n",
        "B =my_class()\n",
        "C =my_class()\n",
        "D =my_class()\n",
        "print(my_class.get_count())"
      ],
      "metadata": {
        "colab": {
          "base_uri": "https://localhost:8080/"
        },
        "id": "Fk0KxR8KxvQI",
        "outputId": "67b57fb5-8730-4c4c-93be-882b8e5c7515"
      },
      "execution_count": 7,
      "outputs": [
        {
          "output_type": "stream",
          "name": "stdout",
          "text": [
            "4\n"
          ]
        }
      ]
    },
    {
      "cell_type": "code",
      "source": [
        "# Q.15 Implement a static method in a class that checks if a given year is a leap year.\n",
        "\n",
        "class check_leap:\n",
        "  @staticmethod\n",
        "  def is_leap_year(year):\n",
        "    return year % 4 == 0 and(year % 100 !=0 or year%400 ==0)\n",
        "\n",
        "print(check_leap.is_leap_year(2022))\n",
        "print(check_leap.is_leap_year(2056))\n",
        "\n",
        "print(check_leap.is_leap_year(2013))\n",
        "\n",
        "print(check_leap.is_leap_year(2020))\n",
        "\n",
        "print(check_leap.is_leap_year(2018))\n"
      ],
      "metadata": {
        "colab": {
          "base_uri": "https://localhost:8080/"
        },
        "id": "UMnEmdOazWTe",
        "outputId": "fa7a3df1-29cb-43dc-8876-7fe605cf1d20"
      },
      "execution_count": 9,
      "outputs": [
        {
          "output_type": "stream",
          "name": "stdout",
          "text": [
            "False\n",
            "True\n",
            "False\n",
            "True\n",
            "False\n"
          ]
        }
      ]
    },
    {
      "cell_type": "code",
      "source": [],
      "metadata": {
        "id": "SQ1zRbHu0clI"
      },
      "execution_count": null,
      "outputs": []
    }
  ]
}