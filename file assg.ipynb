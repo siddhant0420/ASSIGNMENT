{
 "cells": [
  {
   "cell_type": "markdown",
   "id": "5ff453a0-e082-4e9c-b3ed-ddef0a914d9b",
   "metadata": {},
   "source": [
    "# Q,1 Discuss the scenarios where multithreading is preferable to multiprocessing and scenarios where multiprocessing is a better choice."
   ]
  },
  {
   "cell_type": "code",
   "execution_count": null,
   "id": "bd038dc2-ef54-49f1-a776-bc18f2d0fa52",
   "metadata": {},
   "outputs": [],
   "source": []
  },
  {
   "cell_type": "code",
   "execution_count": 2,
   "id": "4628b793-2e47-4089-8b41-4febb8f17e5a",
   "metadata": {},
   "outputs": [],
   "source": [
    "# it depends on the nature of the task which should be selected.;\n",
    "# >> multithreading:-\n",
    "# .. it is preferable when we need to manage multiple threads running within a same process.\n",
    "# .. when we need to share data frequently at that time multithreaing is preferable.\n",
    "# .. it is use when the task doesnot consumed much memory.\n",
    "# .. it is used where realtime system requires a fast responses.\n",
    "\n",
    "# >> multiprocessing :-\n",
    "\n",
    "# .. multipricessing is preferable in high memory consuming tasks.\n",
    "# .. when task do not need to share a data frequently.\n",
    "# .. when we need to isolate the process we use multiprocessing.\n"
   ]
  },
  {
   "cell_type": "markdown",
   "id": "861be8c7-736b-4f0c-8c26-b2522002c551",
   "metadata": {},
   "source": [
    "# Q.2 Describe what a process pool is and how it helps in managing multiple processes efficiently.\n"
   ]
  },
  {
   "cell_type": "code",
   "execution_count": 10,
   "id": "4f8eb6ae-ea60-491f-b7d6-76c3ef9f28da",
   "metadata": {},
   "outputs": [],
   "source": [
    "# ... it is a collection of processes that are managed by controller process.\n",
    "# ... it is used to efficiently handle multiple tasks or workload.\n",
    "# ... pool is a predefined number of worker processes.\n",
    "# ... in pool tasks are distributed among the available worker.\n",
    "# ... it is usefull when in system where process creation is expenssive due to factors like memory."
   ]
  },
  {
   "cell_type": "markdown",
   "id": "ac9924e0-9b07-472b-8c5c-5c5471abc42b",
   "metadata": {},
   "source": [
    "# Q 3. Explain what multiprocessing is and why it is used in Python programs.\n",
    "\n",
    "\n"
   ]
  },
  {
   "cell_type": "code",
   "execution_count": 13,
   "id": "b362f0c2-6375-47ca-b4ce-0b1ac760ceb6",
   "metadata": {},
   "outputs": [],
   "source": [
    "# multiprocessing in python allows you to run multiple processes simultaneously.\n",
    "# ..it allows parallel execution of code.\n",
    "# .. multipricessing is preferable in high memory consuming tasks.\n",
    "# .. when task do not need to share a data frequently.\n",
    "# .. when we need to isolate the process we use multiprocessing."
   ]
  },
  {
   "cell_type": "markdown",
   "id": "c1f45f96-0a7b-4716-9b27-ae91659623d5",
   "metadata": {},
   "source": [
    "# Q .4 Write a Python program using multithreading where one thread adds numbers to a list, and anotherthread removes numbers from the list. Implement a mechanism to avoid race conditions using threading.Lock."
   ]
  },
  {
   "cell_type": "code",
   "execution_count": 18,
   "id": "48bf2e16-92df-416d-94e0-21bfb57205d9",
   "metadata": {},
   "outputs": [
    {
     "name": "stdout",
     "output_type": "stream",
     "text": [
      "Added: 75 | List: [75]\n",
      "Removed:75 | List:[]\n",
      "Added: 92 | List: [92]\n",
      "Added: 3 | List: [92, 3]\n",
      "Added: 11 | List: [92, 3, 11]\n",
      "Added: 84 | List: [92, 3, 11, 84]\n",
      "Added: 47 | List: [92, 3, 11, 84, 47]\n",
      "Added: 75 | List: [92, 3, 11, 84, 47, 75]\n",
      "Added: 20 | List: [92, 3, 11, 84, 47, 75, 20]\n",
      "Added: 34 | List: [92, 3, 11, 84, 47, 75, 20, 34]\n",
      "Added: 91 | List: [92, 3, 11, 84, 47, 75, 20, 34, 91]\n",
      "final list [92, 3, 11, 84, 47, 75, 20, 34, 91]\n"
     ]
    }
   ],
   "source": [
    "import threading\n",
    "import time\n",
    "import random\n",
    "\n",
    "list = []\n",
    "list_lock= threading.Lock()\n",
    "def add_num():\n",
    "    for _ in range(10):\n",
    "        number = random.randint(1,100)\n",
    "        with list_lock:\n",
    "            list.append(number)\n",
    "            print(f\"Added: {number} | List: {list}\")\n",
    "        time.sleep (random.uniform(0.1,0.5))\n",
    "def remove_num():\n",
    "    for _ in range(10):\n",
    "        with list_lock:\n",
    "            if list:\n",
    "                removed = list.pop(0)\n",
    "                print(f\"Removed:{removed} | List:{list}\")\n",
    "                time.sleep(random.uniform(0.1,0.5))\n",
    "\n",
    "thread1= threading.Thread(target=add_num)\n",
    "thread2= threading.Thread(target=remove_num)\n",
    "\n",
    "thread1.start()\n",
    "thread2.start()\n",
    "\n",
    "thread1.join()\n",
    "thread2.join()\n",
    "print(\"final list\",list)"
   ]
  },
  {
   "cell_type": "markdown",
   "id": "546d47a5-090f-44fc-a87e-df0e0aa4a1d2",
   "metadata": {},
   "source": [
    "#  Q.5 Describe the methods and tools available in Python for safely sharing data between threads and processes."
   ]
  },
  {
   "cell_type": "code",
   "execution_count": 21,
   "id": "2cddedfb-bb7b-4689-883c-2324ff43ade0",
   "metadata": {},
   "outputs": [],
   "source": [
    "# pyhton has various methods and tools for sharing data between threads and processes.\n",
    "# for threads:-\n",
    "# 1, LOCk=\n",
    "# simplest mechanism to prevent race condition.\n",
    "# 2, Rlock=\n",
    "# usefull then thread need to re-enter a critical section.\n",
    "# 3, Event=\n",
    "# allows thread to wait for certain condition.\n",
    "# 4,condition=\n",
    "# useful for complex scenarios.\n",
    "# for processes:-\n",
    "# 1, Queue=\n",
    "# it insure safe data transfer.\n",
    "# 2, value and arrays=\n",
    "# it allows simple data sharing between the processes.\n",
    "# 3, pipe=\n",
    "# it create a pair of connected endpoints."
   ]
  },
  {
   "cell_type": "markdown",
   "id": "bdf38eb4-9778-4375-b482-ffc1b24549e5",
   "metadata": {},
   "source": [
    "# Q.6 Discuss why it’s crucial to handle exceptions in concurrent programs and the techniques available for doing so."
   ]
  },
  {
   "cell_type": "code",
   "execution_count": 24,
   "id": "184c8a0f-b630-45cb-b7a7-9e8dc499305d",
   "metadata": {},
   "outputs": [],
   "source": [
    "# >> to avoid resource leaking.\n",
    "# >> to prevent silent failure like, incomplete tasks, data corruption.\n",
    "# >> it ensure programe stability as unhandling exception can lead to entire application crash.\n",
    "# >> it avoid deadlocks and inconsistencies.\n",
    "#  THE TECH AVAILABLE FOR HANDALING EXCEPTIONS:-\n",
    "# >> use of try-except block inside the threads.\n",
    "# >> use of threading.thread with exception tracking.\n",
    "# >> use of multiprocessing.pool with error handaling\n",
    "# >> use logging to capture detailed logs,which can crucial for debugging.\n",
    "    "
   ]
  },
  {
   "cell_type": "markdown",
   "id": "ea9e1e42-331e-4481-996f-e4efb20b8c7e",
   "metadata": {},
   "source": [
    "# Q .7 Create a program that uses a thread pool to calculate the factorial of numbers from 1 to 10 concurrently. Use concurrent.futures.ThreadPoolExecutor to manage the threads."
   ]
  },
  {
   "cell_type": "code",
   "execution_count": 34,
   "id": "0df52973-fce2-45f6-9d53-a7d6de1be146",
   "metadata": {},
   "outputs": [
    {
     "ename": "TypeError",
     "evalue": "'list' object is not callable",
     "output_type": "error",
     "traceback": [
      "\u001b[1;31m---------------------------------------------------------------------------\u001b[0m",
      "\u001b[1;31mTypeError\u001b[0m                                 Traceback (most recent call last)",
      "Cell \u001b[1;32mIn[34], line 12\u001b[0m\n\u001b[0;32m     10\u001b[0m         \u001b[38;5;28mprint\u001b[39m(\u001b[38;5;124mf\u001b[39m\u001b[38;5;124m\"\u001b[39m\u001b[38;5;124mFactorial of \u001b[39m\u001b[38;5;132;01m{\u001b[39;00mnumber\u001b[38;5;132;01m}\u001b[39;00m\u001b[38;5;124m is \u001b[39m\u001b[38;5;132;01m{\u001b[39;00mresult\u001b[38;5;132;01m}\u001b[39;00m\u001b[38;5;124m\"\u001b[39m)\n\u001b[0;32m     11\u001b[0m \u001b[38;5;28;01mif\u001b[39;00m \u001b[38;5;18m__name__\u001b[39m\u001b[38;5;241m==\u001b[39m\u001b[38;5;124m\"\u001b[39m\u001b[38;5;124m__main__\u001b[39m\u001b[38;5;124m\"\u001b[39m:\n\u001b[1;32m---> 12\u001b[0m     main()\n",
      "Cell \u001b[1;32mIn[34], line 8\u001b[0m, in \u001b[0;36mmain\u001b[1;34m()\u001b[0m\n\u001b[0;32m      6\u001b[0m nums \u001b[38;5;241m=\u001b[39m \u001b[38;5;28mrange\u001b[39m(\u001b[38;5;241m1\u001b[39m,\u001b[38;5;241m11\u001b[39m)\n\u001b[0;32m      7\u001b[0m \u001b[38;5;28;01mwith\u001b[39;00m concurrent\u001b[38;5;241m.\u001b[39mfutures\u001b[38;5;241m.\u001b[39mThreadPoolExecutor() \u001b[38;5;28;01mas\u001b[39;00m executor:\n\u001b[1;32m----> 8\u001b[0m     results \u001b[38;5;241m=\u001b[39m \u001b[38;5;28mlist\u001b[39m(executor\u001b[38;5;241m.\u001b[39mmap(factorial,nums))\n\u001b[0;32m      9\u001b[0m \u001b[38;5;28;01mfor\u001b[39;00m number , result \u001b[38;5;129;01min\u001b[39;00m \u001b[38;5;28mzip\u001b[39m (numbers,result):\n\u001b[0;32m     10\u001b[0m     \u001b[38;5;28mprint\u001b[39m(\u001b[38;5;124mf\u001b[39m\u001b[38;5;124m\"\u001b[39m\u001b[38;5;124mFactorial of \u001b[39m\u001b[38;5;132;01m{\u001b[39;00mnumber\u001b[38;5;132;01m}\u001b[39;00m\u001b[38;5;124m is \u001b[39m\u001b[38;5;132;01m{\u001b[39;00mresult\u001b[38;5;132;01m}\u001b[39;00m\u001b[38;5;124m\"\u001b[39m)\n",
      "\u001b[1;31mTypeError\u001b[0m: 'list' object is not callable"
     ]
    }
   ],
   "source": [
    "import concurrent.futures\n",
    "import math\n",
    "def factorial(n):\n",
    "    return math.factorial(n)\n",
    "def main():\n",
    "    nums = range(1,11)\n",
    "    with concurrent.futures.ThreadPoolExecutor() as executor:\n",
    "        results = list(executor.map(factorial,nums))\n",
    "    for number , result in zip (numbers,result):\n",
    "        print(f\"Factorial of {number} is {result}\")\n",
    "if __name__==\"__main__\":\n",
    "    main()"
   ]
  },
  {
   "cell_type": "markdown",
   "id": "1bd1052b-45b6-44a0-bb60-a9fe18a16786",
   "metadata": {},
   "source": [
    "# Q 8. Create a Python program that uses multiprocessing.Pool to compute the square of numbers from 1 to 10 in parallel. Measure the time taken to perform this computation using a pool of different sizes (e.g., 2, 4, 8 processes)."
   ]
  },
  {
   "cell_type": "code",
   "execution_count": 2,
   "id": "4c179160-2cba-42f2-9a96-d08a9578ce68",
   "metadata": {},
   "outputs": [
    {
     "ename": "IndentationError",
     "evalue": "expected an indented block after 'for' statement on line 15 (3024950042.py, line 16)",
     "output_type": "error",
     "traceback": [
      "\u001b[1;36m  Cell \u001b[1;32mIn[2], line 16\u001b[1;36m\u001b[0m\n\u001b[1;33m    parallel_square_computation(pool_size)\u001b[0m\n\u001b[1;37m                                          ^\u001b[0m\n\u001b[1;31mIndentationError\u001b[0m\u001b[1;31m:\u001b[0m expected an indented block after 'for' statement on line 15\n"
     ]
    }
   ],
   "source": [
    "import multiprocessing\n",
    "import time\n",
    "def compute_square(number):\n",
    "    return number *number\n",
    "def parallel_square_computation(pool_size):\n",
    "    numbers = list(range(1,11))\n",
    "    print(f\"\\nusing a pool of {pool_size} processors:\")\n",
    "    start_time = time.time()\n",
    "    with multiprocesssing.pool(pool_size) as pool:\n",
    "        result = pool.map(compute_square , numbers)\n",
    "    end_time = time.time()\n",
    "    print(f\"Squares:{result}\")\n",
    "    print(f\"Time taken: {end_time-start_time:.6f} seconds\")\n",
    "if __name__==\"__main__\":\n",
    "    for pool_size in [2,4,6,8]:\n",
    "parallel_square_computation(pool_size)"
   ]
  },
  {
   "cell_type": "code",
   "execution_count": null,
   "id": "da2849f8-738e-4472-8884-29cc3962b46a",
   "metadata": {},
   "outputs": [],
   "source": []
  }
 ],
 "metadata": {
  "kernelspec": {
   "display_name": "Python 3 (ipykernel)",
   "language": "python",
   "name": "python3"
  },
  "language_info": {
   "codemirror_mode": {
    "name": "ipython",
    "version": 3
   },
   "file_extension": ".py",
   "mimetype": "text/x-python",
   "name": "python",
   "nbconvert_exporter": "python",
   "pygments_lexer": "ipython3",
   "version": "3.12.4"
  }
 },
 "nbformat": 4,
 "nbformat_minor": 5
}
