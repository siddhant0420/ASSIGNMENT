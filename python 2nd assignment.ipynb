{
 "cells": [
  {
   "cell_type": "raw",
   "id": "1051f253-a30b-4e9f-885a-55e8a408a2af",
   "metadata": {},
   "source": [
    "## 1..\n",
    "Discuss string slicing and provide examples.\n",
    "\n",
    "sol. strings are unchangable order of characters.\n",
    "....index slicing is the way to access specific element of the character.\n"
   ]
  },
  {
   "cell_type": "code",
   "execution_count": 5,
   "id": "5a0f6efd-59dd-4a7a-96d7-380b1b34a4e5",
   "metadata": {},
   "outputs": [
    {
     "data": {
      "text/plain": [
       "'sidd'"
      ]
     },
     "execution_count": 5,
     "metadata": {},
     "output_type": "execute_result"
    }
   ],
   "source": [
    "name = \"siddhant sahare\"\n",
    "name[0:4]\n"
   ]
  },
  {
   "cell_type": "code",
   "execution_count": 7,
   "id": "3ed9830e-1a02-4dc5-a8ad-f4be47cbd53c",
   "metadata": {},
   "outputs": [
    {
     "data": {
      "text/plain": [
       "'bhop'"
      ]
     },
     "execution_count": 7,
     "metadata": {},
     "output_type": "execute_result"
    }
   ],
   "source": [
    "place = \" bhopal, mp \"\n",
    "place[1:5]"
   ]
  },
  {
   "cell_type": "raw",
   "id": "13482c7a-2150-4470-a8df-d747b14e93f9",
   "metadata": {},
   "source": [
    "##@  2..\n",
    "Explain the key features of lists in Python.\n",
    "\n",
    "sol..list is a built-in data type in pyhton that can store set of values.\n",
    ".... these values can be either 'string,int,float or any data type'.\n",
    ".... list can store data which can be modified i.e it is mutable.\n",
    ".... in list we can access each specifc element using indexing , slicing."
   ]
  },
  {
   "cell_type": "code",
   "execution_count": 1,
   "id": "6ec71d80-f895-4d38-9437-39c0007411ba",
   "metadata": {},
   "outputs": [],
   "source": [
    "list =[123,'ram lakkhan',22.12,]"
   ]
  },
  {
   "cell_type": "code",
   "execution_count": 3,
   "id": "e97445d6-a87f-42f7-a809-2f642da07b57",
   "metadata": {},
   "outputs": [
    {
     "data": {
      "text/plain": [
       "[123, 'ram lakkhan', 22.12]"
      ]
     },
     "execution_count": 3,
     "metadata": {},
     "output_type": "execute_result"
    }
   ],
   "source": [
    "list"
   ]
  },
  {
   "cell_type": "raw",
   "id": "dc257500-d44d-4d54-aeb2-8c2a76bebdaf",
   "metadata": {},
   "source": [
    "## 3..\n",
    "Describe how to access,modify, and delete elements in a list with examples.\n",
    "\n",
    "sol. list is a orderd and mutable collection of element.\n",
    ".... list can be modified through using indexing and slicing.\n",
    ".... list are mutable that is it is subjected to changes.\n",
    "methods use for modify;\n",
    "....it can be modify using following methods\n",
    "***list.append()\n",
    "***list.sort()\n",
    "*** list. remove()"
   ]
  },
  {
   "cell_type": "code",
   "execution_count": 9,
   "id": "d233f838-914d-46b8-9360-74c3ed6b92da",
   "metadata": {},
   "outputs": [
    {
     "data": {
      "text/plain": [
       "33"
      ]
     },
     "execution_count": 9,
     "metadata": {},
     "output_type": "execute_result"
    }
   ],
   "source": [
    "##example\n",
    "a = [11,22,33,44,55,66]\n",
    "##access\n",
    "a[2]"
   ]
  },
  {
   "cell_type": "code",
   "execution_count": 43,
   "id": "7ddb9abf-2ee4-419b-be7e-081ff397e251",
   "metadata": {},
   "outputs": [],
   "source": [
    "## modify\n",
    "a = [11,22,33,44,55,66]\n",
    "a.append(\"siddh\")"
   ]
  },
  {
   "cell_type": "code",
   "execution_count": 45,
   "id": "2a11d14a-db71-430f-a3cf-b177b4dc0533",
   "metadata": {},
   "outputs": [
    {
     "data": {
      "text/plain": [
       "[11, 22, 33, 44, 55, 66, 'siddh']"
      ]
     },
     "execution_count": 45,
     "metadata": {},
     "output_type": "execute_result"
    }
   ],
   "source": [
    "a"
   ]
  },
  {
   "cell_type": "code",
   "execution_count": 47,
   "id": "b7d860fe-0efa-4108-a293-8374b53eb456",
   "metadata": {},
   "outputs": [],
   "source": [
    "a.remove(33)"
   ]
  },
  {
   "cell_type": "code",
   "execution_count": 49,
   "id": "f2440f16-dbe3-4963-8787-e88234bb54a9",
   "metadata": {},
   "outputs": [
    {
     "data": {
      "text/plain": [
       "[11, 22, 44, 55, 66, 'siddh']"
      ]
     },
     "execution_count": 49,
     "metadata": {},
     "output_type": "execute_result"
    }
   ],
   "source": [
    "a"
   ]
  },
  {
   "cell_type": "raw",
   "id": "bc3840ab-4980-4bb4-b7ac-1322c89f08a3",
   "metadata": {},
   "source": [
    "##@ 4..\n",
    "Compare and contrast tuples and lists with examples.\n",
    "sol.. compare between the tuples and list\n",
    ">>>tuples==\n",
    "....tuples are the ordered and unchangable collection of element.\n",
    "....tuples are immutable i.e. once created can not be changed.\n",
    "....in tuples we can access the element using indexing and slicing but can not modified it.\n"
   ]
  },
  {
   "cell_type": "code",
   "execution_count": 5,
   "id": "a3675239-da96-4226-acb2-5da7d5165727",
   "metadata": {},
   "outputs": [
    {
     "data": {
      "text/plain": [
       "(11, 22, 33, 44, 55, 66, 77)"
      ]
     },
     "execution_count": 5,
     "metadata": {},
     "output_type": "execute_result"
    }
   ],
   "source": [
    "### example for tuples\n",
    "\n",
    "a=(11,22,33,44,55,66,77)\n",
    "a"
   ]
  },
  {
   "cell_type": "raw",
   "id": "29ddac03-97f9-4f97-9254-39a6377a1c7f",
   "metadata": {},
   "source": [
    "a.append()## it will show an error as tuples are immutable.\n",
    ">>>list==\n",
    ".... list are ordered but mutable collection of elements.\n",
    ".... it can be change after creation.\n",
    ".... in list we can access as well as modify the elements.\n"
   ]
  },
  {
   "cell_type": "code",
   "execution_count": 9,
   "id": "b31309c3-4406-473e-a340-fe77c74b7dd9",
   "metadata": {},
   "outputs": [
    {
     "data": {
      "text/plain": [
       "[12, 23, 34, 45, 13, 24]"
      ]
     },
     "execution_count": 9,
     "metadata": {},
     "output_type": "execute_result"
    }
   ],
   "source": [
    "a=[12,23,34,45,13,24]\n",
    "a"
   ]
  },
  {
   "cell_type": "code",
   "execution_count": 11,
   "id": "8aaf4626-7ac0-4edd-987b-bae22b7443e6",
   "metadata": {},
   "outputs": [],
   "source": [
    "a.sort()"
   ]
  },
  {
   "cell_type": "code",
   "execution_count": 13,
   "id": "48aa0d63-8526-439b-b241-9ba684952136",
   "metadata": {},
   "outputs": [
    {
     "data": {
      "text/plain": [
       "[12, 13, 23, 24, 34, 45]"
      ]
     },
     "execution_count": 13,
     "metadata": {},
     "output_type": "execute_result"
    }
   ],
   "source": [
    "a"
   ]
  },
  {
   "cell_type": "raw",
   "id": "7ea8a69c-d7f6-4d07-88f4-520858c3ab57",
   "metadata": {},
   "source": [
    "## 5..\n",
    "Describe the key features of sets and provide examples of their use.\n",
    "\n",
    "sol.. key features of sets,\n",
    "....sets are the unordered collection of items.\n",
    ".... sets are mutable.\n",
    "....but each element of set is unique and immutable."
   ]
  },
  {
   "cell_type": "code",
   "execution_count": 15,
   "id": "80a9ac97-521b-40aa-afd8-e00787c7507f",
   "metadata": {},
   "outputs": [],
   "source": [
    "set={11,22,11,22,33,44,23,65,223,111}"
   ]
  },
  {
   "cell_type": "code",
   "execution_count": 17,
   "id": "0b957b9b-d5c4-4c5c-9be6-199cf90cdc36",
   "metadata": {},
   "outputs": [
    {
     "data": {
      "text/plain": [
       "{11, 22, 23, 33, 44, 65, 111, 223}"
      ]
     },
     "execution_count": 17,
     "metadata": {},
     "output_type": "execute_result"
    }
   ],
   "source": [
    "set"
   ]
  },
  {
   "cell_type": "code",
   "execution_count": 19,
   "id": "c094d1f9-fa41-43f8-9542-102cc089b869",
   "metadata": {},
   "outputs": [],
   "source": [
    "set.add('sidd')"
   ]
  },
  {
   "cell_type": "code",
   "execution_count": 21,
   "id": "20c33e60-bf50-4393-9762-27f76d9881d3",
   "metadata": {},
   "outputs": [
    {
     "data": {
      "text/plain": [
       "{11, 111, 22, 223, 23, 33, 44, 65, 'sidd'}"
      ]
     },
     "execution_count": 21,
     "metadata": {},
     "output_type": "execute_result"
    }
   ],
   "source": [
    "set"
   ]
  },
  {
   "cell_type": "code",
   "execution_count": 23,
   "id": "345ddd09-fa86-4a7a-a870-2acfa31e0c52",
   "metadata": {},
   "outputs": [],
   "source": [
    "set.clear()"
   ]
  },
  {
   "cell_type": "code",
   "execution_count": 25,
   "id": "fbfc451c-1ec4-4b7a-93c7-6a7953e95b47",
   "metadata": {},
   "outputs": [
    {
     "data": {
      "text/plain": [
       "set()"
      ]
     },
     "execution_count": 25,
     "metadata": {},
     "output_type": "execute_result"
    }
   ],
   "source": [
    "set"
   ]
  },
  {
   "cell_type": "raw",
   "id": "e9158cc7-d2d3-4f95-95f2-083e45501860",
   "metadata": {},
   "source": [
    "##6.. Discuss the use cases of tuples and sets in Python programming.\n",
    "\n",
    "sol..use case of tuples and sets\n",
    ">>>tuples==\n",
    "..tuple is a on of built-in data tyoe in python that can store  collection of data.\n",
    "..tuples can use to store multiple items in an variable.\n",
    "..tuples are use to store hetrogeneous a d homogeneous items.\n"
   ]
  },
  {
   "cell_type": "code",
   "execution_count": 31,
   "id": "fac9c56a-f10b-4ca8-8d7b-2acf4ebebfee",
   "metadata": {},
   "outputs": [],
   "source": [
    "tuples=('ball','apple','cat',123)"
   ]
  },
  {
   "cell_type": "code",
   "execution_count": 33,
   "id": "2b5094b7-92b8-4666-9b11-dc84fc53504c",
   "metadata": {},
   "outputs": [
    {
     "data": {
      "text/plain": [
       "('ball', 'apple', 'cat', 123)"
      ]
     },
     "execution_count": 33,
     "metadata": {},
     "output_type": "execute_result"
    }
   ],
   "source": [
    "tuples"
   ]
  },
  {
   "cell_type": "code",
   "execution_count": 35,
   "id": "0702475e-0998-42e5-8903-84077a8fea98",
   "metadata": {},
   "outputs": [
    {
     "data": {
      "text/plain": [
       "tuple"
      ]
     },
     "execution_count": 35,
     "metadata": {},
     "output_type": "execute_result"
    }
   ],
   "source": [
    "type(tuples)"
   ]
  },
  {
   "cell_type": "raw",
   "id": "34504414-3618-402f-8994-3cb5396ea2e2",
   "metadata": {},
   "source": [
    ">>>sets==\n",
    "..sets are use to make a list of unique element.\n",
    "..sets are use to check whether an element are present in a list or not."
   ]
  },
  {
   "cell_type": "code",
   "execution_count": 37,
   "id": "fe65d4cf-f8b7-4006-9a8b-0abb3b6e1eaa",
   "metadata": {},
   "outputs": [],
   "source": [
    "set={12,44,13,23,'aman'}"
   ]
  },
  {
   "cell_type": "code",
   "execution_count": 39,
   "id": "83c41471-6aca-4685-a925-193c0b2655d5",
   "metadata": {},
   "outputs": [
    {
     "data": {
      "text/plain": [
       "{12, 13, 23, 44, 'aman'}"
      ]
     },
     "execution_count": 39,
     "metadata": {},
     "output_type": "execute_result"
    }
   ],
   "source": [
    "set"
   ]
  },
  {
   "cell_type": "raw",
   "id": "9e15527f-4230-4c0e-b52b-31b5f59d9b21",
   "metadata": {},
   "source": [
    "## 7..\n",
    "Describe how to add, modify and delete items in a dictionary with examples.\n",
    "\n",
    "sol.. dictionary store items in key:value pairs.\n",
    "....to add and modify the items in a dictionary we call the function as 'dict.update(xyz)'.\n",
    ".... for deleting the items we call a function i.e.'pop(key)'\n"
   ]
  },
  {
   "cell_type": "code",
   "execution_count": 47,
   "id": "b114fd1a-fc83-4a5a-81ec-651d81f9c021",
   "metadata": {},
   "outputs": [
    {
     "data": {
      "text/plain": [
       "{'name': 'siddhant', 'place': 'madhya pradesh'}"
      ]
     },
     "execution_count": 47,
     "metadata": {},
     "output_type": "execute_result"
    }
   ],
   "source": [
    "##example\n",
    "student={\n",
    "    'name':'siddhant',\n",
    "    'place':'madhya pradesh'\n",
    "}\n",
    "student"
   ]
  },
  {
   "cell_type": "code",
   "execution_count": 57,
   "id": "f7ec1be4-933e-4195-a180-9e28d258b124",
   "metadata": {},
   "outputs": [],
   "source": [
    "student.update({'education':'b.tech'})"
   ]
  },
  {
   "cell_type": "code",
   "execution_count": 59,
   "id": "6458dca9-f169-495c-9ecd-68ae31f7b9ce",
   "metadata": {},
   "outputs": [
    {
     "data": {
      "text/plain": [
       "{'name': 'siddhant', 'place': 'madhya pradesh', 'education': 'b.tech'}"
      ]
     },
     "execution_count": 59,
     "metadata": {},
     "output_type": "execute_result"
    }
   ],
   "source": [
    "student"
   ]
  },
  {
   "cell_type": "code",
   "execution_count": 61,
   "id": "9df9b898-a0df-42f5-a8e4-403e5a366ca6",
   "metadata": {},
   "outputs": [
    {
     "data": {
      "text/plain": [
       "'madhya pradesh'"
      ]
     },
     "execution_count": 61,
     "metadata": {},
     "output_type": "execute_result"
    }
   ],
   "source": [
    "## deleting\n",
    "student.pop('place')"
   ]
  },
  {
   "cell_type": "code",
   "execution_count": 63,
   "id": "5dc19cbb-40f6-4221-980d-1f048c8f29d2",
   "metadata": {},
   "outputs": [
    {
     "data": {
      "text/plain": [
       "{'name': 'siddhant', 'education': 'b.tech'}"
      ]
     },
     "execution_count": 63,
     "metadata": {},
     "output_type": "execute_result"
    }
   ],
   "source": [
    "student"
   ]
  },
  {
   "cell_type": "raw",
   "id": "486a4406-c4c3-4872-ae04-ec18ae9a450f",
   "metadata": {},
   "source": [
    "## 8. Discuss the importance of dictionary keys being immutable and provide examples.\n",
    "\n",
    "sol..importance of dictionary keys being immutable .\n",
    "....being immutable it ensures the consistence behaviour of the dictionaries.\n",
    "....it prevent the accidental modification in dictionaries .\n",
    "....for hashing keys must be fixed to access quick values."
   ]
  },
  {
   "cell_type": "code",
   "execution_count": 73,
   "id": "2d56ef5b-df40-4ae5-bd4d-fc42c699b398",
   "metadata": {},
   "outputs": [
    {
     "data": {
      "text/plain": [
       "{'name': 'siddhant'}"
      ]
     },
     "execution_count": 73,
     "metadata": {},
     "output_type": "execute_result"
    }
   ],
   "source": [
    "## example \n",
    "dict={\n",
    "    'name':'siddhant'\n",
    "    \n",
    "    \n",
    "}\n",
    "dict"
   ]
  },
  {
   "cell_type": "code",
   "execution_count": null,
   "id": "1d07da13-c415-4428-a30c-5ce41e2da6c2",
   "metadata": {},
   "outputs": [],
   "source": [
    "dict"
   ]
  }
 ],
 "metadata": {
  "kernelspec": {
   "display_name": "Python 3 (ipykernel)",
   "language": "python",
   "name": "python3"
  },
  "language_info": {
   "codemirror_mode": {
    "name": "ipython",
    "version": 3
   },
   "file_extension": ".py",
   "mimetype": "text/x-python",
   "name": "python",
   "nbconvert_exporter": "python",
   "pygments_lexer": "ipython3",
   "version": "3.12.4"
  }
 },
 "nbformat": 4,
 "nbformat_minor": 5
}
