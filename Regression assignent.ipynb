{
 "cells": [
  {
   "cell_type": "markdown",
   "id": "31248e4e-1b64-46fc-97eb-d11f7309d790",
   "metadata": {},
   "source": [
    "# Q.1 What is Simple Linear Regression ?"
   ]
  },
  {
   "cell_type": "code",
   "execution_count": 2,
   "id": "ed66b54f-a624-44d2-96d4-341d90e37278",
   "metadata": {},
   "outputs": [],
   "source": [
    "# It is an staistical measure to calculate the reletionsjhip betweem the two variable .\n",
    "\n",
    "# Two types of variable:\n",
    "# Independent variable is that whch use to make prediction. denoted bby x .\n",
    "# Dependent variable is that which is been predicted , denoted by Y.\n",
    "\n",
    "# The goal is to find a best fit model."
   ]
  },
  {
   "cell_type": "markdown",
   "id": "4e02eee5-e66e-48d8-bb56-74e763b471b5",
   "metadata": {},
   "source": [
    "# Q. 2 What are the key assumptions of Simple Linear Regression ?"
   ]
  },
  {
   "cell_type": "code",
   "execution_count": 5,
   "id": "a5087c26-7535-43d8-801a-c80cabadbb07",
   "metadata": {},
   "outputs": [],
   "source": [
    "# SLR relies on the assumptions to ensure the validity and reliability of the model.\n",
    "# The Assumptions are :-\n",
    "# 1, Independence :-\n",
    "#     There should be no correletion between the residuals.\n",
    "# 2, Homoscedasticity :\n",
    "#     The variance of the residuals is constant across all levels of the independent variable.\n",
    "# 3, Normality of residuals :\n",
    "#     The residual are normally distributed especially important for hypothesis testing.\n",
    "# 4, Correct the model specification :-\n",
    "#     The model include the relevent variables and exclude the irrelevent one.\n",
    "\n",
    "# Violation of these assumption can lead to inaccuracy in the result."
   ]
  },
  {
   "cell_type": "markdown",
   "id": "99b990eb-4095-4687-870e-c822bac0d974",
   "metadata": {},
   "source": [
    "# Q.3 What does the coefficient m represent in the equation Y=mX+c ?"
   ]
  },
  {
   "cell_type": "code",
   "execution_count": 8,
   "id": "80d70128-5db7-4f11-89bb-fa197a407afa",
   "metadata": {},
   "outputs": [],
   "source": [
    "# The coefficient m represents the slope of the line . \n",
    "\n",
    "# > if m > 0 : The line slopes upward , indicate the positive reletion between x and y .\n",
    "# > if m < 0 : The line slopes downward , indicates the negetive reletion between x and y .\n",
    "# > if m = 0 : The line is horizontal , indiactes the no reletion between x and y . "
   ]
  },
  {
   "cell_type": "markdown",
   "id": "93494853-566d-4444-8935-1bdb7e1485fa",
   "metadata": {},
   "source": [
    "# Q.4  What does the intercept c represent in the equation Y=mX+c ?"
   ]
  },
  {
   "cell_type": "code",
   "execution_count": 11,
   "id": "c8a8a6f1-9115-4611-9d51-019a2a6a9526",
   "metadata": {},
   "outputs": [],
   "source": [
    "# c represents the baseline value of y when there is no contribution from the mx term.\n",
    "# It shows the value of y when the x is zero.\n"
   ]
  },
  {
   "cell_type": "markdown",
   "id": "c48b2dd0-63f7-474e-b889-6359b9cd6ee2",
   "metadata": {},
   "source": [
    "# Q.5  How do we calculate the slope m in Simple Linear Regression?"
   ]
  },
  {
   "cell_type": "code",
   "execution_count": 14,
   "id": "edb5049c-ed10-4aae-b4c9-78ef982d7f93",
   "metadata": {},
   "outputs": [],
   "source": [
    "# First we calculate mean for both x and y.\n",
    "# Then we calculate the deviation.\n",
    "# then compute coveriance.(Numerator)\n",
    "# Compute variance of x.(Denominator)\n",
    "# then devide to get a slope.\n"
   ]
  },
  {
   "cell_type": "markdown",
   "id": "7661b75a-26d9-4c19-a995-2b139187bb5b",
   "metadata": {},
   "source": [
    "# Q.6 What is the purpose of the least squares method in Simple Linear Regression ?"
   ]
  },
  {
   "cell_type": "code",
   "execution_count": 17,
   "id": "a931e1b4-32f1-4587-8487-d9a6abb4ca6f",
   "metadata": {},
   "outputs": [],
   "source": [
    "# > The purpose is to find the best fit line for the data so that to minimize the sum of the squared differeneces between\n",
    "#   the observe value and predicted value.\n",
    "# > Its objective is to minimize the error.\n",
    "#  WHY SQUARED DIFFERENECE ? \n",
    "# > squaring ensures that positive and negetive differences dont cancel each other."
   ]
  },
  {
   "cell_type": "markdown",
   "id": "2edf96b3-06c0-4bae-960c-b2c1242eb9d7",
   "metadata": {},
   "source": [
    "# Q.7  How is the coefficient of determination (R²) interpreted in Simple Linear Regression ?"
   ]
  },
  {
   "cell_type": "code",
   "execution_count": 20,
   "id": "39655422-aa4a-449d-9ea7-2492ef0e9ab6",
   "metadata": {},
   "outputs": [],
   "source": [
    "# > R2 in simple linear regression measures the proportion of the variation in the dependent variable that is \n",
    "# explained by the independent variable through the regression model. \n",
    "\n",
    "# > R2 provides a measure of how well the independent variable explains the variability in the dependent variable in the context of the regression model.\n"
   ]
  },
  {
   "cell_type": "markdown",
   "id": "a42c21d4-4270-411b-9d98-58b0429841cd",
   "metadata": {},
   "source": [
    "# Q.8 What is Multiple Linear Regression ?"
   ]
  },
  {
   "cell_type": "code",
   "execution_count": 23,
   "id": "226bd0e0-3673-44df-87a6-61597aa39670",
   "metadata": {},
   "outputs": [],
   "source": [
    "# > Multiple linear regression is a statistical method used to model the relationship between one dependent variable and two or more independent variables.\n",
    "# > It extends simple linear regression, which deals with one independent  variable , to account for multiple predictors."
   ]
  },
  {
   "cell_type": "markdown",
   "id": "f3d0cdb4-d04f-4e7a-9399-aca574b61603",
   "metadata": {},
   "source": [
    "# Q.9 What is the main difference between Simple and Multiple Linear Regression ?"
   ]
  },
  {
   "cell_type": "code",
   "execution_count": 27,
   "id": "aefaae51-a283-48b2-b4be-47c928b941da",
   "metadata": {},
   "outputs": [],
   "source": [
    "# In a simple linear regression we used to model the reletionship between one dependent variable and one independent variable.\n",
    "# while in multiple linear regression we used to model the reletionship between the one dependent variable and more then one idependent variable."
   ]
  },
  {
   "cell_type": "markdown",
   "id": "3198bdb4-f339-42b5-bb9e-d640ae511a25",
   "metadata": {},
   "source": [
    "# Q.10 What are the key assumptions of Multiple Linear Regression ?"
   ]
  },
  {
   "cell_type": "code",
   "execution_count": 30,
   "id": "34f0de43-cee2-42dd-9d90-b51d6d792d21",
   "metadata": {},
   "outputs": [],
   "source": [
    "# > Linearity :\n",
    "#         reletion between the dependent and independent variables should be linear.\n",
    "# > Independence of error :\n",
    "#         The error should be independence of each other.\n",
    "# > The variance of resiaduals should be constant accross all the levels of independent variables.\n",
    "# > Normality of residuals :\n",
    "#         THe residual should follow a normal distribution .\n",
    "# > All the relevent variable should be included in the model and exclude irrelevent variable from the module."
   ]
  },
  {
   "cell_type": "markdown",
   "id": "c585fe16-0d38-4340-956a-b6376d0ca475",
   "metadata": {},
   "source": [
    "# Q. 11 What is heteroscedasticity, and how does it affect the results of a Multiple Linear Regression model ?"
   ]
  },
  {
   "cell_type": "code",
   "execution_count": 33,
   "id": "9ba3828a-e20f-458c-94ba-17924c477c0e",
   "metadata": {},
   "outputs": [],
   "source": [
    "# > Heteroscedasticity occurs when the variance of the residuals in a regression model is not constant across all the levels of the independent variable.\n",
    "\n",
    "#  How it affect the result of a multiple linear regression model ;\n",
    "# 1. unreliable standard errors :\n",
    "#          The estimated standard errors of the regression coefficient become biased.\n",
    "# 2. Invalid staistical Tests :\n",
    "#          because standard errors are unreliable , t-testand F-tests used to determine the significance of predictors may become invalid.\n",
    "# 3.Reduced Predictive performance :\n",
    "#          heteroscedasticity can impact the models ability to make accurate predictions."
   ]
  },
  {
   "cell_type": "markdown",
   "id": "d6109d55-1df7-438a-8150-31eead6d0332",
   "metadata": {},
   "source": [
    "# Q.12 How can you improve a Multiple Linear Regression model with high multicollinearity ?"
   ]
  },
  {
   "cell_type": "code",
   "execution_count": null,
   "id": "cde563e5-435a-437a-aefa-94c5286013c4",
   "metadata": {},
   "outputs": [],
   "source": []
  },
  {
   "cell_type": "markdown",
   "id": "814c5be2-10c1-4bcf-a41a-90723b674124",
   "metadata": {},
   "source": [
    "# Q. 13 What are some common techniques for transforming categorical variables for use in regression models ?"
   ]
  },
  {
   "cell_type": "code",
   "execution_count": null,
   "id": "7e6d9580-2f21-40f4-b4fa-bc2d49cbb38a",
   "metadata": {},
   "outputs": [],
   "source": []
  }
 ],
 "metadata": {
  "kernelspec": {
   "display_name": "Python 3 (ipykernel)",
   "language": "python",
   "name": "python3"
  },
  "language_info": {
   "codemirror_mode": {
    "name": "ipython",
    "version": 3
   },
   "file_extension": ".py",
   "mimetype": "text/x-python",
   "name": "python",
   "nbconvert_exporter": "python",
   "pygments_lexer": "ipython3",
   "version": "3.12.4"
  }
 },
 "nbformat": 4,
 "nbformat_minor": 5
}
