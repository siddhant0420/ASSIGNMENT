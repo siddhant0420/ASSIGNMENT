{
 "cells": [
  {
   "cell_type": "raw",
   "id": "0fa76250-a74b-4990-aca6-3cb8c30fe2af",
   "metadata": {},
   "source": [
    " question.1;## explain the key features of Python that make it a popular choice for programming ?\n",
    "\n",
    " ->  key features of python;\n",
    " ... python is a  high level language.\n",
    " ... python is a free and open source.\n",
    " ... pyhton is easy to learn .\n",
    " ... pyhton has a access of huge libraries.\n",
    " ... python has a large active communities.\n",
    " ... python is still evolving continuously.\n",
    "... python has a wide spread use in various industries."
   ]
  },
  {
   "cell_type": "code",
   "execution_count": 44,
   "id": "291f1ec8-cac2-4194-aa09-2f5642bed3df",
   "metadata": {},
   "outputs": [
    {
     "name": "stdout",
     "output_type": "stream",
     "text": [
      "False\n"
     ]
    }
   ],
   "source": [
    "# question 2 ;## Describe the role of predefined keywords in Python and provide examples of how they are used in a\r",
    "# programe.0 ->\n",
    "# ... predefined key words in python are those words which has specific meaning .\n",
    "# ...predefined keyword can not be use as identifiers.\n",
    "# ... they are case sensetive and can not be overridden.\n",
    "# ...examples; if, else,for , while etc. \n",
    "#  example=\n",
    "X = 20\n",
    "if (X >= 35):\n",
    "    print(\"True\")\r",
    "else:\n",
    "    print(\"False\")"
   ]
  },
  {
   "cell_type": "code",
   "execution_count": 42,
   "id": "5348fa0f-44e2-4e44-a1a2-1fda10a1ddfd",
   "metadata": {},
   "outputs": [
    {
     "name": "stdout",
     "output_type": "stream",
     "text": [
      "None\n",
      "[2, 4, 6, 8, 10, 20]\n",
      "('sidd', 'ram', 'sham', 'vinod')\n"
     ]
    }
   ],
   "source": [
    "# Question .3 == Compare and contrast mutable and immutable ob\f",
    "ects in Python with examples.\n",
    "\n",
    "# -> MUTABLE OBJECT.. Mutable objects are those which can be change after it creation.\n",
    "#                     exmaple of mutable objects is {list, dictionary,etc}\n",
    "# example=\n",
    "list=[2,4,6,8,10]\n",
    "print(list.append(20))\n",
    "print(list)\n",
    "\n",
    "\n",
    "\n",
    "\n",
    "# -> IMUTABLE OBJECT.. immutable object can not be change once it created.\n",
    "#                      example if imutable object is {tuple,strings}\n",
    "#    EXAMPLE..=\n",
    "name=(\"sidd\",\"ram\",\"sham\",\"vinod\")\n",
    "print(name)\n",
    "## since tuples are immutable it is not subjected to any changes"
   ]
  },
  {
   "cell_type": "code",
   "execution_count": 23,
   "id": "f8014fbf-19bc-44e5-b8d5-87889a526357",
   "metadata": {},
   "outputs": [
    {
     "name": "stdout",
     "output_type": "stream",
     "text": [
      "eligible for driving licence\n"
     ]
    }
   ],
   "source": [
    "# Question 4.\n",
    "#,Discuss the different types of operators in Python and provide examples of how they are used?\n",
    "\n",
    "# -> python has different operators such as;\n",
    "# 1, Arithmetic operator {+,-,*,%,**}\n",
    "# 2. Relational operator {==,>=,<=,!=}\n",
    "# 3.logical operator {or,not,and}\n",
    "# 4.Assignment operator{+=,-=,*=,%=}\n",
    "# 5.membership operator {True,False}\n",
    "# example =\n",
    "# 1,\n",
    "\n",
    "\n",
    "a=23\n",
    "b=37\n",
    "c=20\n",
    "a+b*c\n",
    "\n",
    "\n",
    "#2,\n",
    "age= 29\n",
    "if (age >= 18):\n",
    "    print(\"eligible for driving licence\")\n",
    "else:\n",
    "    print(\"try once you complete the age of 18\")"
   ]
  },
  {
   "cell_type": "code",
   "execution_count": 25,
   "id": "75f6553b-c11b-45be-acb1-61b6b029015e",
   "metadata": {},
   "outputs": [
    {
     "data": {
      "text/plain": [
       "80"
      ]
     },
     "execution_count": 25,
     "metadata": {},
     "output_type": "execute_result"
    }
   ],
   "source": [
    "# Question .5.\n",
    "\n",
    "# explain the concept of type casting in Python with examples.\n",
    "# ->..\n",
    "# ...while coding in a python we need to change the data type,for that type casting is used to change the data type\n",
    "# ... python has a built-in function for type casting for example, int(),float(),string().\n",
    "# ...type casting is very useful while performing operations.\n",
    "\n",
    "# example;\n",
    "a=25\n",
    "b='45'\n",
    "c=10\n",
    "##now here we apply type casting on 'b' to convert into an int,\n",
    "b=int(b)\n",
    "a+b+c"
   ]
  },
  {
   "cell_type": "raw",
   "id": "52c672b2-3e0b-4680-878a-ffe743dc6ba6",
   "metadata": {},
   "source": [
    " Question .6 \n",
    ". How do conditional statements work in Python? Illustrate with examples.\n",
    "\n",
    "->.. \n",
    "...conditional statement provide you the way to to control the flow of the program based on the specific condition.\n",
    "...it allow u to code according to the specific condition.\n",
    "\n"
   ]
  },
  {
   "cell_type": "code",
   "execution_count": 62,
   "id": "04e5f704-8aee-4353-8e96-89f984a7aef3",
   "metadata": {},
   "outputs": [
    {
     "name": "stdin",
     "output_type": "stream",
     "text": [
      "enter your marks 67\n"
     ]
    },
    {
     "name": "stdout",
     "output_type": "stream",
     "text": [
      "perform average\n"
     ]
    }
   ],
   "source": [
    "##examples===\n",
    "marks = input(\"enter your marks\")\n",
    "if (marks>='90'):\n",
    "    print(\"your grade is A\")\n",
    "\n",
    "elif(marks>='80' and marks<='90'):\n",
    "    print(\"your grade is B\")\n",
    "\n",
    "else:\n",
    "    print(\"perform average\")"
   ]
  },
  {
   "cell_type": "raw",
   "id": "dda1d115-7869-488c-82b2-567a92139655",
   "metadata": {},
   "source": [
    "#question 7..\n",
    " Describe the different types of loops in Python and their use cases with examples.\n",
    "->..\n",
    "...loops we use in coding to repeat the code untill it does not fulfill an specific task.\n",
    "... loos are of two types i.e. {while loop , for loop};\n",
    "...while loop repeat the execution of block of code untill the specific condition is True.\n",
    "...for loop repeat the code untill all the items has been processed."
   ]
  },
  {
   "cell_type": "code",
   "execution_count": 3,
   "id": "be072d11-1532-4850-9399-ad845c9e78d1",
   "metadata": {},
   "outputs": [
    {
     "name": "stdout",
     "output_type": "stream",
     "text": [
      "0\n",
      "1\n",
      "2\n",
      "3\n",
      "4\n",
      "5\n",
      "6\n",
      "7\n",
      "8\n",
      "9\n",
      "10\n"
     ]
    }
   ],
   "source": [
    "#example for while loop\n",
    "x=0\n",
    "while x<=10:\n",
    "    print(x)\n",
    "    x+=1"
   ]
  },
  {
   "cell_type": "code",
   "execution_count": 5,
   "id": "a83b0833-e392-47d2-b247-adb2a9279409",
   "metadata": {},
   "outputs": [
    {
     "name": "stdout",
     "output_type": "stream",
     "text": [
      "1\n",
      "2\n",
      "3\n",
      "4\n",
      "5\n",
      "6\n",
      "7\n",
      "8\n"
     ]
    }
   ],
   "source": [
    "#example of for loop\n",
    "\n",
    "i=(1,2,3,4,5,6,7,8)\n",
    "for el in i :\n",
    "    print(el)\n",
    "else:\n",
    "    (\"the end\")"
   ]
  },
  {
   "cell_type": "code",
   "execution_count": null,
   "id": "13570a93-8f13-4805-b69b-efec4e6b6c14",
   "metadata": {},
   "outputs": [],
   "source": []
  }
 ],
 "metadata": {
  "kernelspec": {
   "display_name": "Python 3 (ipykernel)",
   "language": "python",
   "name": "python3"
  },
  "language_info": {
   "codemirror_mode": {
    "name": "ipython",
    "version": 3
   },
   "file_extension": ".py",
   "mimetype": "text/x-python",
   "name": "python",
   "nbconvert_exporter": "python",
   "pygments_lexer": "ipython3",
   "version": "3.12.4"
  }
 },
 "nbformat": 4,
 "nbformat_minor": 5
}
