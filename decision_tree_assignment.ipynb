{
  "nbformat": 4,
  "nbformat_minor": 0,
  "metadata": {
    "colab": {
      "provenance": []
    },
    "kernelspec": {
      "name": "python3",
      "display_name": "Python 3"
    },
    "language_info": {
      "name": "python"
    }
  },
  "cells": [
    {
      "cell_type": "markdown",
      "source": [],
      "metadata": {
        "id": "CShr5ptMZslN"
      }
    },
    {
      "cell_type": "code",
      "execution_count": null,
      "metadata": {
        "id": "uzZVrNgWZXZU"
      },
      "outputs": [],
      "source": [
        "# Q.1What is a Decision Tree, and how does it work ?\n",
        "\n",
        "# Ans :=A Decision Tree is a popular machine learning algorithm used for both classification and regression tasks.\n",
        "# It models decisions and their possible consequences, including outcomes, resource costs, and utility. In essence,\n",
        "# it's a flowchart-like structure where each internal node represents a decision,\n",
        "# each branch represents the outcome of that decision, and each leaf node represents a final decision or classification.\n",
        "\n",
        "# How It Works:\n",
        "\n",
        "# 1.Root Node:\n",
        "#             The process begins at the root node, which contains the entire dataset.\n",
        "#             The algorithm selects the best feature (or attribute) that splits the data in the most meaningful way.\n",
        "#             The goal is to divide the data into subsets that are as pure (or homogeneous) as possible.\n",
        "# 2.Splitting:\n",
        "#             The data is split based on the selected feature. This step is repeated recursively at each subsequent node.\n",
        "# 3.Recursive Process:\n",
        "#             The splitting continues until one of the stopping conditions is met:\n",
        "#             The dataset at the node is pure.\"\"\""
      ]
    },
    {
      "cell_type": "code",
      "source": [
        "# Q.2 What are impurity measures in Decision Trees ?\n",
        "\n",
        "# Ans:In Decision Trees, impurity measures help determine how to split the data at each node by evaluating the \"purity\" of the data within that node.\n",
        "#     The goal is to split the data in such a way that each child node becomes increasingly pure, meaning that the data points in each node are more\n",
        "#     similar to each other in terms of the target variable.\n",
        "\n",
        "#     Here are the most common impurity measures used:\n",
        "\n",
        "#     1.Gini impurity:\n",
        "#     2.Entropy:\n",
        "#     3.Classification Error:\n"
      ],
      "metadata": {
        "id": "JPer6vflZrrl"
      },
      "execution_count": null,
      "outputs": []
    },
    {
      "cell_type": "code",
      "source": [
        "# Q.3 What is the mathematical formula for Gini Impurity\t?\n",
        "\n",
        "# Ans := Gini(D)= Gini(D)=1−(pA^2+pB^2)"
      ],
      "metadata": {
        "id": "Uz08MkHtdDV3"
      },
      "execution_count": null,
      "outputs": []
    },
    {
      "cell_type": "code",
      "source": [
        "# Q.4 What is the mathematical formula for Entropy ?\n",
        "\n"
      ],
      "metadata": {
        "id": "vqrDlCTggtej"
      },
      "execution_count": null,
      "outputs": []
    },
    {
      "cell_type": "code",
      "source": [
        "# Q.5 What is Information Gain, and how is it used in Decision Trees ?\n",
        "\n",
        "# Ans : Information Gain (IG) is a measure used in decision trees to quantify how much information is gained from splitting a dataset based on a particular feature.\n",
        "#       It is used to evaluate which feature to split on at each node in the tree.\n",
        "#       In simple terms, Information Gain tells us how much uncertainty (or entropy)\n",
        "#       is reduced after making a split based on a specific feature.\n",
        "\n",
        "#       How Information Gain is Used :\n",
        "\n",
        "#       1.Starting Point:\n",
        "#       Parent Node:\n",
        "#       2.Evaluating Possible Splits:\n",
        "#       3.Calculating Information Gain:\n",
        "#       4.Choosing the Best Splits\n"
      ],
      "metadata": {
        "id": "LAeO6D7whLuq"
      },
      "execution_count": null,
      "outputs": []
    },
    {
      "cell_type": "code",
      "source": [
        "# Q.6  What is the difference between Gini Impurity and Entropy ?\n",
        "\n",
        "# Ans:\n",
        "# Gini Impurity and Entropy are both impurity measures used in decision trees to evaluate the quality of splits at each node.\n",
        "# They are used to quantify how \"impure\" a node is and help in selecting the best feature to split on.\n",
        "# While both measures are used to guide the decision tree-building process, they have some differences in terms of calculation, interpretation, and performance.\n",
        "\n",
        "#  Let's explore these differences:\n",
        "\n",
        "# 1.Range of Values :\n",
        "# Gini Impurity:\n",
        "\n",
        "# The Gini value ranges from 0 to 1.\n",
        "\n",
        "# 0 indicates a perfectly pure node.\n",
        "\n",
        "# 1 indicates maximum impurity.\n",
        "\n",
        "# .Entropy:\n",
        "\n",
        "# >Entropy also ranges from 0 to log₂(C),\n",
        "# >where C is the number of unique classes.\n",
        "# >For binary classification (two classes), the maximum entropy is 1.\n",
        "# >0 entropy indicates perfect purity, where all instances belong to a single class.\n",
        "\n",
        "# 2.Interpretation:\n",
        "# Gini Impurity:\n",
        "# >Gini is a measure of impurity or disorder. A lower Gini value indicates that the node is more \"pure\" .\n",
        "# >It focuses on minimizing the probability of misclassifying a randomly chosen element in the dataset.\n",
        "\n",
        "# Entropy:\n",
        "\n",
        "# > Entropy is a measure of uncertainty or disorder in a node.\n",
        "# > It quantifies the amount of information required to describe the state of the system. Higher entropy means more uncertainty or mixed class labels in the node.\n"
      ],
      "metadata": {
        "id": "dLraJUA2igJP"
      },
      "execution_count": null,
      "outputs": []
    },
    {
      "cell_type": "code",
      "source": [
        "# Q.7 What is the mathematical explanation behind Decision Trees?\n",
        "\n",
        "# Ans :=\n",
        "# 1. Recursive Binary Splitting:\n",
        "# At each step, the tree chooses the feature and threshold that will best split the data into subgroups that are as \"pure\" as possible.\n",
        "# 2.Splitting Criterion:\n",
        "# The decision to split the data at a node is based on minimizing an impurity measure, such as Gini Impurity or Entropy for classification tasks.\n",
        "# 3.Stopping Criteria:\n",
        "# The splitting process continues recursively until a stopping criterion is met, such as:\n",
        "# > The tree reaches a maximum depth,\n",
        "# > A node contains fewer than a minimum number of samples (or data points) for a valid split,\n",
        "# > The impurity at the node is below a certain threshold.\n",
        "# 4. Pruning (Post-Processing):\n",
        "# Pruning is a technique used to reduce the size of the tree and avoid overfitting.\n",
        "# It involves removing branches that provide little predictive power or are overly specific to the training data.\n",
        "# 5.Decision Making (Prediction):\n",
        "# Once the decision tree is built, predictions are made by traversing the tree starting from the root node.\n",
        "# The data point follows the conditions of each node until it reaches a leaf node, where the final class label (for classification) or predicted value (for regression) is returned."
      ],
      "metadata": {
        "id": "qUuwfjDUkxuA"
      },
      "execution_count": null,
      "outputs": []
    },
    {
      "cell_type": "code",
      "source": [
        "# Q.8 What is Pre-Pruning in Decision Trees?\n",
        "\n",
        "# Ans :\n",
        "# Pre-Pruning: This method limits the growth of the tree by applying conditions like maximum depth or minimum samples in a node before further splitting."
      ],
      "metadata": {
        "id": "lHUTogW1mThr"
      },
      "execution_count": null,
      "outputs": []
    },
    {
      "cell_type": "code",
      "source": [
        "# Q9 What is Post-Pruning in Decision Trees ?\n",
        "\n",
        "# Ans:Post-Pruning is a technique used in decision trees to reduce the size of the tree after it has been fully grown.\n",
        "# The main goal of post-pruning is to avoid overfitting, which occurs when the tree becomes too complex and starts to\n",
        "# model noise in the training data rather than generalizing to new data."
      ],
      "metadata": {
        "id": "8XJzO-cVmtHQ"
      },
      "execution_count": null,
      "outputs": []
    },
    {
      "cell_type": "code",
      "source": [
        "# Q.10 What is the difference between Pre-Pruning and Post-Pruning ?\n",
        "\n",
        "# Ans:\n",
        "# 1. Pre-Pruning :\n",
        "# pre-pruning refers to the process of stopping the tree from growing further before it reaches its maximum depth or size.\n",
        "# 2.Post-Pruning :\n",
        "# Post-pruning occurs after the tree has been fully grown, meaning the tree is first allowed to grow to its maximum size,\n",
        "# and then unnecessary or overly specific branches are pruned back."
      ],
      "metadata": {
        "id": "_ZRooUzsoAfd"
      },
      "execution_count": null,
      "outputs": []
    },
    {
      "cell_type": "code",
      "source": [
        "# Q.11 What is a Decision Tree Regressor ?\n",
        "\n",
        "# Ans :=\n",
        "# A Decision Tree Regressor is a type of decision tree model specifically designed for regression tasks.\n",
        "# In contrast to a Decision Tree Classifier, which is used for classification tasks (where the target variable is categorical),\n",
        "# a Decision Tree Regressor is used to predict continuous (numerical) values.\n",
        "\n",
        "# Key Points of a Decision Tree Regressor:\n",
        "# >Output:\n",
        "# The output of a Decision Tree Regressor is a continuous numerical value, not a class label.\n",
        "# >Splitting Criterion:\n",
        "# Instead of using Gini Impurity or Entropy like in classification trees, Decision Tree Regressors use metrics like mean squared error (MSE) or variance reduction.\n",
        "# >Leaf Nodes:\n",
        "# Each leaf node contains the mean value of the target variable for all the data points that belong to that leaf node."
      ],
      "metadata": {
        "id": "v_eTuN8UozYo"
      },
      "execution_count": null,
      "outputs": []
    },
    {
      "cell_type": "code",
      "source": [
        "# Q.12 What are the advantages and disadvantages of Decision Trees ?\n",
        "# Ans :\n",
        "# Advantages of Decision Trees:\n",
        "# >Easy to Understand and Interpret:\n",
        "# >No Need for Feature Scaling:\n",
        "# >Handles Both Categorical and Numerical Data:\n",
        "# >Non-linear Relationships\n",
        "\n",
        "# Disadvantages of Decision Trees:\n",
        "# 1.Overfitting\n",
        "# 2.Instability\n",
        "# 3.Biased Toward Features with More Categories\n",
        "# 4.Poor Performance on Imbalanced Datasets"
      ],
      "metadata": {
        "id": "y-Axm8Fypnwx"
      },
      "execution_count": null,
      "outputs": []
    },
    {
      "cell_type": "code",
      "source": [
        "# Q>13How does a Decision Tree handle missing values ?\n",
        "\n",
        "# Ans : Here are the common approaches:\n",
        "\n",
        "# 1.Distribution of Missing Instances\n",
        "# 2.Ignoring Missing Values in Splits\n",
        "# 3.Treating Missing Values as a Separate Category"
      ],
      "metadata": {
        "id": "fM8mBCiWrIVO"
      },
      "execution_count": null,
      "outputs": []
    },
    {
      "cell_type": "code",
      "source": [
        "# 14 How does a Decision Tree handle categorical features?\n",
        "\n",
        "# Ans:\n",
        "# >Decision trees can directly split data based on categorical values by creating branches for each category.\n",
        "# >The split is based on impurity measures like Gini Index or Information Gain, ensuring the most homogeneous sub-nodes are created.\n",
        "# >Threshold-Based Splitting."
      ],
      "metadata": {
        "id": "vTB-h4bbrqnt"
      },
      "execution_count": null,
      "outputs": []
    },
    {
      "cell_type": "code",
      "source": [
        "# 15 What are some real-world applications of Decision Trees ?\n",
        "\n",
        "# Ans:\n",
        "# 1. Business and Marketing\n",
        "# 2. Finance\n",
        "# 3. Healthcare\n",
        "# 4. Machine Learning\n",
        "# 5. Operations Research"
      ],
      "metadata": {
        "id": "dm5B4ueNsLkx"
      },
      "execution_count": null,
      "outputs": []
    },
    {
      "cell_type": "code",
      "source": [
        "# Q.16 Write a Python program to train a Decision Tree Classifier on the Iris dataset and print the model accuracy ?\n",
        "\n",
        "# Ans:\n",
        "# Import necessary libraries\n",
        "from sklearn.datasets import load_iris\n",
        "from sklearn.model_selection import train_test_split\n",
        "from sklearn.tree import DecisionTreeClassifier\n",
        "from sklearn.metrics import accuracy_score\n",
        "\n",
        "# Load the Iris dataset\n",
        "iris = load_iris()\n",
        "X = iris.data  # Features\n",
        "y = iris.target  # Target labels\n",
        "\n",
        "# Split the dataset into training and testing sets\n",
        "X_train, X_test, y_train, y_test = train_test_split(X, y, test_size=0.3, random_state=42)\n",
        "\n",
        "# Initialize the Decision Tree Classifier\n",
        "classifier = DecisionTreeClassifier(random_state=42)\n",
        "\n",
        "# Train the classifier\n",
        "classifier.fit(X_train, y_train)\n",
        "\n",
        "# Predict the labels on the test set\n",
        "y_pred = classifier.predict(X_test)\n",
        "\n",
        "# Calculate the accuracy of the model\n",
        "accuracy = accuracy_score(y_test, y_pred)\n",
        "\n",
        "# Print the accuracy of the model\n",
        "print(f\"Model Accuracy: {accuracy * 100:.2f}%\")"
      ],
      "metadata": {
        "colab": {
          "base_uri": "https://localhost:8080/"
        },
        "id": "0GyNObAwGW1T",
        "outputId": "535b07cc-99c3-455c-c456-6ddbc0854371"
      },
      "execution_count": 3,
      "outputs": [
        {
          "output_type": "stream",
          "name": "stdout",
          "text": [
            "Model Accuracy: 100.00%\n"
          ]
        }
      ]
    },
    {
      "cell_type": "code",
      "source": [
        "# Q.17 Write a Python program to train a Decision Tree Classifier using Gini Impurity as the criterion and print the feature importances ?\n",
        "\n",
        "# Ans :\n",
        "# Import necessary libraries\n",
        "from sklearn.datasets import load_iris\n",
        "from sklearn.model_selection import train_test_split\n",
        "from sklearn.tree import DecisionTreeClassifier\n",
        "\n",
        "# Load the Iris dataset\n",
        "iris = load_iris()\n",
        "X = iris.data  # Features\n",
        "y = iris.target  # Target labels\n",
        "\n",
        "# Split the dataset into training and testing sets\n",
        "X_train, X_test, y_train, y_test = train_test_split(X, y, test_size=0.3, random_state=42)\n",
        "\n",
        "# Initialize the Decision Tree Classifier with Gini Impurity as the criterion\n",
        "classifier = DecisionTreeClassifier(criterion='gini', random_state=42)\n",
        "\n",
        "# Train the classifier\n",
        "classifier.fit(X_train, y_train)\n",
        "\n",
        "# Get the feature importances\n",
        "feature_importances = classifier.feature_importances_\n",
        "\n",
        "# Print the feature importances\n",
        "print(\"Feature Importances:\")\n",
        "for feature, importance in zip(iris.feature_names, feature_importances):\n",
        "    print(f\"{feature}: {importance:.4f}\")\n"
      ],
      "metadata": {
        "colab": {
          "base_uri": "https://localhost:8080/"
        },
        "id": "uSNE1YFPG5vE",
        "outputId": "aea1692b-e4ba-487b-f393-f3e9a75fd356"
      },
      "execution_count": 4,
      "outputs": [
        {
          "output_type": "stream",
          "name": "stdout",
          "text": [
            "Feature Importances:\n",
            "sepal length (cm): 0.0000\n",
            "sepal width (cm): 0.0191\n",
            "petal length (cm): 0.8933\n",
            "petal width (cm): 0.0876\n"
          ]
        }
      ]
    },
    {
      "cell_type": "code",
      "source": [
        "# Q.18 Write a Python program to train a Decision Tree Classifier using Entropy as the splitting criterion and print the model accuracy ?\n",
        "\n",
        "# Ans :\n",
        "# Import necessary libraries\n",
        "from sklearn.datasets import load_iris\n",
        "from sklearn.model_selection import train_test_split\n",
        "from sklearn.tree import DecisionTreeClassifier\n",
        "from sklearn.metrics import accuracy_score\n",
        "\n",
        "# Load the Iris dataset\n",
        "iris = load_iris()\n",
        "X = iris.data  # Features\n",
        "y = iris.target  # Target labels\n",
        "\n",
        "# Split the dataset into training and testing sets\n",
        "X_train, X_test, y_train, y_test = train_test_split(X, y, test_size=0.3, random_state=42)\n",
        "\n",
        "# Initialize the Decision Tree Classifier with Entropy as the criterion\n",
        "classifier = DecisionTreeClassifier(criterion='entropy', random_state=42)\n",
        "\n",
        "# Train the classifier\n",
        "classifier.fit(X_train, y_train)\n",
        "\n",
        "# Predict the labels on the test set\n",
        "y_pred = classifier.predict(X_test)\n",
        "\n",
        "# Calculate the accuracy of the model\n",
        "accuracy = accuracy_score(y_test, y_pred)\n",
        "\n",
        "# Print the accuracy of the model\n",
        "print(f\"Model Accuracy: {accuracy * 100:.2f}%\")"
      ],
      "metadata": {
        "colab": {
          "base_uri": "https://localhost:8080/"
        },
        "id": "JPpC6dRlH5Om",
        "outputId": "b8af60b6-cac0-4ca0-8d43-0b08e974afaf"
      },
      "execution_count": 5,
      "outputs": [
        {
          "output_type": "stream",
          "name": "stdout",
          "text": [
            "Model Accuracy: 97.78%\n"
          ]
        }
      ]
    },
    {
      "cell_type": "code",
      "source": [
        "# Q.19Write a Python program to train a Decision Tree Regressor on a housing dataset and evaluate using Mean Squared Error (MSE) ?\n",
        "\n",
        "# Ans :\n",
        "# Import necessary libraries\n",
        "from sklearn.datasets import fetch_california_housing\n",
        "from sklearn.model_selection import train_test_split\n",
        "from sklearn.tree import DecisionTreeRegressor\n",
        "from sklearn.metrics import mean_squared_error\n",
        "\n",
        "# Load the California housing dataset\n",
        "california_housing = fetch_california_housing()\n",
        "X = california_housing.data  # Features\n",
        "y = california_housing.target  # Target (house value)\n",
        "\n",
        "# Split the dataset into training and testing sets\n",
        "X_train, X_test, y_train, y_test = train_test_split(X, y, test_size=0.3, random_state=42)\n",
        "\n",
        "# Initialize the Decision Tree Regressor\n",
        "regressor = DecisionTreeRegressor(random_state=42)\n",
        "\n",
        "# Train the regressor\n",
        "regressor.fit(X_train, y_train)\n",
        "\n",
        "# Make predictions on the test set\n",
        "y_pred = regressor.predict(X_test)\n",
        "\n",
        "# Calculate the Mean Squared Error (MSE)\n",
        "mse = mean_squared_error(y_test, y_pred)\n",
        "\n",
        "# Print the MSE\n",
        "print(f\"Mean Squared Error (MSE): {mse:.2f}\")\n",
        "# Print the accuracy of the model\n",
        "print(f\"Model Accuracy: {accuracy * 100:.2f}%\")"
      ],
      "metadata": {
        "colab": {
          "base_uri": "https://localhost:8080/"
        },
        "id": "g5UWU1y_I0NJ",
        "outputId": "2449a021-0853-4953-d824-8b8ff873da13"
      },
      "execution_count": 7,
      "outputs": [
        {
          "output_type": "stream",
          "name": "stdout",
          "text": [
            "Mean Squared Error (MSE): 0.53\n",
            "Model Accuracy: 97.78%\n"
          ]
        }
      ]
    },
    {
      "cell_type": "code",
      "source": [
        "# Q.20 Write a Python program to train a Decision Tree Classifier and visualize the tree using graphviz .\n",
        "\n",
        "# Import necessary libraries\n",
        "from sklearn.datasets import load_iris\n",
        "from sklearn.tree import DecisionTreeClassifier, export_graphviz\n",
        "from sklearn.model_selection import train_test_split\n",
        "from graphviz import Source\n",
        "\n",
        "# Load the Iris dataset\n",
        "iris = load_iris()\n",
        "X = iris.data  # Features\n",
        "y = iris.target  # Target labels\n",
        "\n",
        "# Split the dataset into training and testing sets\n",
        "X_train, X_test, y_train, y_test = train_test_split(X, y, test_size=0.3, random_state=42)\n",
        "\n",
        "# Initialize the Decision Tree Classifier\n",
        "classifier = DecisionTreeClassifier(random_state=42)\n",
        "\n",
        "# Train the classifier\n",
        "classifier.fit(X_train, y_train)\n",
        "\n",
        "# Export the trained decision tree to DOT format\n",
        "dot_data = export_graphviz(\n",
        "    classifier, out_file=None,\n",
        "    feature_names=iris.feature_names,\n",
        "    class_names=iris.target_names,\n",
        "    filled=True, rounded=True,\n",
        "    special_characters=True\n",
        ")\n",
        "\n",
        "# Visualize the tree using graphviz\n",
        "graph = Source(dot_data)\n",
        "graph.render(\"iris_decision_tree\")  # Saves the tree as a .pdf file\n",
        "graph.view()  # Open the decision tree visualization\n"
      ],
      "metadata": {
        "colab": {
          "base_uri": "https://localhost:8080/",
          "height": 35
        },
        "id": "5RuyFwcGJNk9",
        "outputId": "74754197-5d70-4025-97ca-7627f663acd9"
      },
      "execution_count": 8,
      "outputs": [
        {
          "output_type": "execute_result",
          "data": {
            "text/plain": [
              "'iris_decision_tree.pdf'"
            ],
            "application/vnd.google.colaboratory.intrinsic+json": {
              "type": "string"
            }
          },
          "metadata": {},
          "execution_count": 8
        }
      ]
    },
    {
      "cell_type": "code",
      "source": [
        "# Q.21Write a Python program to train a Decision Tree Classifier with a maximum depth of 3 and compare its accuracy with a fully grown tree .\n",
        "\n",
        "# Import necessary libraries\n",
        "from sklearn.datasets import load_iris\n",
        "from sklearn.model_selection import train_test_split\n",
        "from sklearn.tree import DecisionTreeClassifier\n",
        "from sklearn.metrics import accuracy_score\n",
        "\n",
        "# Load the Iris dataset\n",
        "iris = load_iris()\n",
        "X = iris.data  # Features\n",
        "y = iris.target  # Target labels\n",
        "\n",
        "# Split the dataset into training and testing sets\n",
        "X_train, X_test, y_train, y_test = train_test_split(X, y, test_size=0.3, random_state=42)\n",
        "\n",
        "# Initialize two Decision Tree Classifiers\n",
        "# 1. With a maximum depth of 3\n",
        "clf_max_depth_3 = DecisionTreeClassifier(max_depth=3, random_state=42)\n",
        "\n",
        "# 2. Fully grown tree (no depth limit)\n",
        "clf_full_tree = DecisionTreeClassifier(random_state=42)\n",
        "\n",
        "# Train both classifiers\n",
        "clf_max_depth_3.fit(X_train, y_train)\n",
        "clf_full_tree.fit(X_train, y_train)\n",
        "\n",
        "# Make predictions on the test set\n",
        "y_pred_max_depth_3 = clf_max_depth_3.predict(X_test)\n",
        "y_pred_full_tree = clf_full_tree.predict(X_test)\n",
        "\n",
        "# Calculate the accuracy of both models\n",
        "accuracy_max_depth_3 = accuracy_score(y_test, y_pred_max_depth_3)\n",
        "accuracy_full_tree = accuracy_score(y_test, y_pred_full_tree)\n",
        "\n",
        "# Print the accuracy of both models\n",
        "print(f\"Accuracy of Decision Tree with max depth 3: {accuracy_max_depth_3 * 100:.2f}%\")\n",
        "print(f\"Accuracy of Fully Grown Decision Tree: {accuracy_full_tree * 100:.2f}%\")\n"
      ],
      "metadata": {
        "colab": {
          "base_uri": "https://localhost:8080/"
        },
        "id": "nvrjMMJsJn-b",
        "outputId": "4abaceaa-1e7c-4c44-8a79-84adc8253ce5"
      },
      "execution_count": 9,
      "outputs": [
        {
          "output_type": "stream",
          "name": "stdout",
          "text": [
            "Accuracy of Decision Tree with max depth 3: 100.00%\n",
            "Accuracy of Fully Grown Decision Tree: 100.00%\n"
          ]
        }
      ]
    },
    {
      "cell_type": "code",
      "source": [
        "# Q.22Write a Python program to train a Decision Tree Classifier using min_samples_split=5 and compare its accuracy with a default tree.\n",
        "\n",
        "# Import necessary libraries\n",
        "from sklearn.datasets import load_iris\n",
        "from sklearn.model_selection import train_test_split\n",
        "from sklearn.tree import DecisionTreeClassifier\n",
        "from sklearn.metrics import accuracy_score\n",
        "\n",
        "# Load the Iris dataset\n",
        "iris = load_iris()\n",
        "X = iris.data  # Features\n",
        "y = iris.target  # Target labels\n",
        "\n",
        "# Split the dataset into training and testing sets\n",
        "X_train, X_test, y_train, y_test = train_test_split(X, y, test_size=0.3, random_state=42)\n",
        "\n",
        "# Initialize two Decision Tree Classifiers\n",
        "# 1. With min_samples_split=5\n",
        "clf_min_samples_split_5 = DecisionTreeClassifier(min_samples_split=5, random_state=42)\n",
        "\n",
        "# 2. Default Decision Tree (min_samples_split=2)\n",
        "clf_default = DecisionTreeClassifier(random_state=42)\n",
        "\n",
        "# Train both classifiers\n",
        "clf_min_samples_split_5.fit(X_train, y_train)\n",
        "clf_default.fit(X_train, y_train)\n",
        "\n",
        "# Make predictions on the test set\n",
        "y_pred_min_samples_split_5 = clf_min_samples_split_5.predict(X_test)\n",
        "y_pred_default = clf_default.predict(X_test)\n",
        "\n",
        "# Calculate the accuracy of both models\n",
        "accuracy_min_samples_split_5 = accuracy_score(y_test, y_pred_min_samples_split_5)\n",
        "accuracy_default = accuracy_score(y_test, y_pred_default)\n",
        "\n",
        "# Print the accuracy of both models\n",
        "print(f\"Accuracy of Decision Tree with min_samples_split=5: {accuracy_min_samples_split_5 * 100:.2f}%\")\n",
        "print(f\"Accuracy of Default Decision Tree: {accuracy_default * 100:.2f}%\")\n"
      ],
      "metadata": {
        "colab": {
          "base_uri": "https://localhost:8080/"
        },
        "id": "1MD233G1KOVq",
        "outputId": "6d7264b5-a9a9-46b2-e67e-9cc0a3014202"
      },
      "execution_count": 10,
      "outputs": [
        {
          "output_type": "stream",
          "name": "stdout",
          "text": [
            "Accuracy of Decision Tree with min_samples_split=5: 100.00%\n",
            "Accuracy of Default Decision Tree: 100.00%\n"
          ]
        }
      ]
    },
    {
      "cell_type": "code",
      "source": [
        "# Q.23 Write a Python program to apply feature scaling before training a Decision Tree Classifier and compare its accuracy with unscaled data.\n",
        "\n",
        "# Import necessary libraries\n",
        "from sklearn.datasets import load_iris\n",
        "from sklearn.model_selection import train_test_split\n",
        "from sklearn.tree import DecisionTreeClassifier\n",
        "from sklearn.metrics import accuracy_score\n",
        "from sklearn.preprocessing import StandardScaler\n",
        "\n",
        "# Load the Iris dataset\n",
        "iris = load_iris()\n",
        "X = iris.data  # Features\n",
        "y = iris.target  # Target labels\n",
        "\n",
        "# Split the dataset into training and testing sets\n",
        "X_train, X_test, y_train, y_test = train_test_split(X, y, test_size=0.3, random_state=42)\n",
        "\n",
        "# Apply feature scaling using StandardScaler\n",
        "scaler = StandardScaler()\n",
        "X_train_scaled = scaler.fit_transform(X_train)\n",
        "X_test_scaled = scaler.transform(X_test)\n",
        "\n",
        "# Initialize the Decision Tree Classifier\n",
        "classifier = DecisionTreeClassifier(random_state=42)\n",
        "\n",
        "# Train the model on unscaled data\n",
        "classifier.fit(X_train, y_train)\n",
        "\n",
        "# Make predictions on the test set with unscaled data\n",
        "y_pred_unscaled = classifier.predict(X_test)\n",
        "\n",
        "# Train the model on scaled data\n",
        "classifier.fit(X_train_scaled, y_train)\n",
        "\n",
        "# Make predictions on the test set with scaled data\n",
        "y_pred_scaled = classifier.predict(X_test_scaled)\n",
        "\n",
        "# Calculate the accuracy of both models\n",
        "accuracy_unscaled = accuracy_score(y_test, y_pred_unscaled)\n",
        "accuracy_scaled = accuracy_score(y_test, y_pred_scaled)\n",
        "\n",
        "# Print the accuracy of both models\n",
        "print(f\"Accuracy with Unscaled Data: {accuracy_unscaled * 100:.2f}%\")\n",
        "print(f\"Accuracy with Scaled Data: {accuracy_scaled * 100:.2f}%\")\n"
      ],
      "metadata": {
        "colab": {
          "base_uri": "https://localhost:8080/"
        },
        "id": "QLE4f1C6KoV5",
        "outputId": "78e05472-850a-472b-c662-7626e5680797"
      },
      "execution_count": 11,
      "outputs": [
        {
          "output_type": "stream",
          "name": "stdout",
          "text": [
            "Accuracy with Unscaled Data: 100.00%\n",
            "Accuracy with Scaled Data: 100.00%\n"
          ]
        }
      ]
    },
    {
      "cell_type": "code",
      "source": [
        "# Q.24Write a Python program to train a Decision Tree Classifier using One-vs-Rest (OvR) strategy for multiclass classification\n",
        "\n",
        "# Import necessary libraries\n",
        "from sklearn.datasets import load_iris\n",
        "from sklearn.model_selection import train_test_split\n",
        "from sklearn.tree import DecisionTreeClassifier\n",
        "from sklearn.multiclass import OneVsRestClassifier\n",
        "from sklearn.metrics import accuracy_score\n",
        "\n",
        "# Load the Iris dataset\n",
        "iris = load_iris()\n",
        "X = iris.data  # Features\n",
        "y = iris.target  # Target labels (multiclass)\n",
        "\n",
        "# Split the dataset into training and testing sets\n",
        "X_train, X_test, y_train, y_test = train_test_split(X, y, test_size=0.3, random_state=42)\n",
        "\n",
        "# Initialize the Decision Tree Classifier\n",
        "dt_classifier = DecisionTreeClassifier(random_state=42)\n",
        "\n",
        "# Initialize the One-vs-Rest (OvR) strategy using Decision Tree Classifier\n",
        "ovr_classifier = OneVsRestClassifier(dt_classifier)\n",
        "\n",
        "# Train the classifier\n",
        "ovr_classifier.fit(X_train, y_train)\n",
        "\n",
        "# Make predictions on the test set\n",
        "y_pred = ovr_classifier.predict(X_test)\n",
        "\n",
        "# Calculate and print the accuracy\n",
        "accuracy = accuracy_score(y_test, y_pred)\n",
        "print(f\"Accuracy of One-vs-Rest Decision Tree Classifier: {accuracy * 100:.2f}%\")"
      ],
      "metadata": {
        "colab": {
          "base_uri": "https://localhost:8080/"
        },
        "id": "t4w2UsRILIdI",
        "outputId": "cc0ec73a-06fa-4c24-9e3b-603c8490cf2d"
      },
      "execution_count": 12,
      "outputs": [
        {
          "output_type": "stream",
          "name": "stdout",
          "text": [
            "Accuracy of One-vs-Rest Decision Tree Classifier: 100.00%\n"
          ]
        }
      ]
    },
    {
      "cell_type": "code",
      "source": [
        "# Q.25 Write a Python program to train a Decision Tree Classifier and display the feature importance scores\n",
        "\n",
        "# Import necessary libraries\n",
        "from sklearn.datasets import load_iris\n",
        "from sklearn.model_selection import train_test_split\n",
        "from sklearn.tree import DecisionTreeClassifier\n",
        "\n",
        "# Load the Iris dataset\n",
        "iris = load_iris()\n",
        "X = iris.data  # Features\n",
        "y = iris.target  # Target labels\n",
        "\n",
        "# Split the dataset into training and testing sets\n",
        "X_train, X_test, y_train, y_test = train_test_split(X, y, test_size=0.3, random_state=42)\n",
        "\n",
        "# Initialize the Decision Tree Classifier\n",
        "classifier = DecisionTreeClassifier(random_state=42)\n",
        "\n",
        "# Train the classifier\n",
        "classifier.fit(X_train, y_train)\n",
        "\n",
        "# Get the feature importance scores\n",
        "feature_importances = classifier.feature_importances_\n",
        "\n",
        "# Display the feature importance scores\n",
        "print(\"Feature Importance Scores:\")\n",
        "for feature, importance in zip(iris.feature_names, feature_importances):\n",
        "    print(f\"{feature}: {importance:.4f}\")"
      ],
      "metadata": {
        "colab": {
          "base_uri": "https://localhost:8080/"
        },
        "id": "6gpz2hUQM19J",
        "outputId": "170893ef-5b4b-4114-bd40-9512a4ee589d"
      },
      "execution_count": 13,
      "outputs": [
        {
          "output_type": "stream",
          "name": "stdout",
          "text": [
            "Feature Importance Scores:\n",
            "sepal length (cm): 0.0000\n",
            "sepal width (cm): 0.0191\n",
            "petal length (cm): 0.8933\n",
            "petal width (cm): 0.0876\n"
          ]
        }
      ]
    },
    {
      "cell_type": "code",
      "source": [
        "# Q.26 Write a Python program to train a Decision Tree Regressor with max_depth=5 and compare its performance with an unrestricted tree\n",
        "\n",
        "\n",
        "# Import necessary libraries\n",
        "from sklearn.datasets import fetch_california_housing\n",
        "from sklearn.model_selection import train_test_split\n",
        "from sklearn.tree import DecisionTreeRegressor\n",
        "from sklearn.ensemble import RandomForestRegressor\n",
        "from sklearn.metrics import mean_squared_error\n",
        "\n",
        "# Load the California Housing dataset (regression problem)\n",
        "california_housing = fetch_california_housing()\n",
        "X = california_housing.data  # Features\n",
        "y = california_housing.target  # Target variable (house prices)\n",
        "\n",
        "# Split the dataset into training and testing sets\n",
        "X_train, X_test, y_train, y_test = train_test_split(X, y, test_size=0.3, random_state=42)\n",
        "\n",
        "# Initialize two models:\n",
        "# 1. Decision Tree Regressor\n",
        "dt_regressor = DecisionTreeRegressor(random_state=42)\n",
        "\n",
        "# 2. Random Forest Regressor (with 100 trees)\n",
        "rf_regressor = RandomForestRegressor(n_estimators=100, random_state=42)\n",
        "\n",
        "# Train both models\n",
        "dt_regressor.fit(X_train, y_train)\n",
        "rf_regressor.fit(X_train, y_train)\n",
        "\n",
        "# Make predictions on the test set\n",
        "y_pred_dt = dt_regressor.predict(X_test)\n",
        "y_pred_rf = rf_regressor.predict(X_test)\n",
        "\n",
        "# Calculate the Mean Squared Error (MSE) for both models\n",
        "mse_dt = mean_squared_error(y_test, y_pred_dt)\n",
        "mse_rf = mean_squared_error(y_test, y_pred_rf)\n",
        "\n",
        "# Print the MSE for both models\n",
        "print(f\"Mean Squared Error with Decision Tree Regressor: {mse_dt:.2f}\")\n",
        "print(f\"Mean Squared Error with Random Forest Regressor: {mse_rf:.2f}\")\n"
      ],
      "metadata": {
        "colab": {
          "base_uri": "https://localhost:8080/"
        },
        "id": "4nhdOx9tOaJC",
        "outputId": "7b25a8e4-925b-42c9-c0d6-ca949374060f"
      },
      "execution_count": 15,
      "outputs": [
        {
          "output_type": "stream",
          "name": "stdout",
          "text": [
            "Mean Squared Error with Decision Tree Regressor: 0.53\n",
            "Mean Squared Error with Random Forest Regressor: 0.26\n"
          ]
        }
      ]
    },
    {
      "cell_type": "code",
      "source": [
        "# Q.27 Write a Python program to train a Decision Tree Classifier, apply Cost Complexity Pruning (CCP), and visualize its effect on accuracy.\n",
        "\n",
        "# Import necessary libraries\n",
        "from sklearn.datasets import load_iris\n",
        "from sklearn.model_selection import train_test_split\n",
        "from sklearn.tree import DecisionTreeClassifier\n",
        "from sklearn.tree import plot_tree\n",
        "from sklearn.metrics import accuracy_score\n",
        "import matplotlib.pyplot as plt\n",
        "\n",
        "# Load the Iris dataset\n",
        "iris = load_iris()\n",
        "X = iris.data\n",
        "y = iris.target\n",
        "\n",
        "# Split the dataset into training and testing sets\n",
        "X_train, X_test, y_train, y_test = train_test_split(X, y, test_size=0.3, random_state=42)\n",
        "\n",
        "# Initialize and train a Decision Tree Classifier (before pruning)\n",
        "clf = DecisionTreeClassifier(random_state=42)\n",
        "clf.fit(X_train, y_train)\n",
        "\n",
        "# Make predictions before pruning\n",
        "y_pred_before_pruning = clf.predict(X_test)\n",
        "accuracy_before_pruning = accuracy_score(y_test, y_pred_before_pruning)\n",
        "\n",
        "# Apply Cost Complexity Pruning (CCP)\n",
        "path = clf.cost_complexity_pruning_path(X_train, y_train)  # Get the CCP path\n",
        "ccp_alphas = path.ccp_alphas  # List of alphas for pruning\n",
        "clfs = []\n",
        "\n",
        "# Train decision trees for each alpha value and store them\n",
        "for ccp_alpha in ccp_alphas:\n",
        "    clf_pruned = DecisionTreeClassifier(random_state=42, ccp_alpha=ccp_alpha)\n",
        "    clf_pruned.fit(X_train, y_train)\n",
        "    clfs.append(clf_pruned)\n",
        "\n",
        "# Get accuracies for each pruned tree\n",
        "accuracies = []\n",
        "for clf_pruned in clfs:\n",
        "    y_pred_pruned = clf_pruned.predict(X_test)\n",
        "    accuracies.append(accuracy_score(y_test, y_pred_pruned))\n",
        "\n",
        "# Plot the effect of pruning on accuracy\n",
        "plt.figure(figsize=(10, 6))\n",
        "plt.plot(ccp_alphas, accuracies, marker='o', color='b', label='Accuracy vs. CCP Alpha')\n",
        "plt.axhline(y=accuracy_before_pruning, color='r', linestyle='--', label=f'Accuracy Before Pruning: {accuracy_before_pruning:.2f}')\n",
        "plt.xlabel('CCP Alpha (Pruning Parameter)')\n",
        "plt.ylabel('Accuracy')\n",
        "plt.title('Effect of Cost Complexity Pruning on Accuracy')\n",
        "plt.legend()\n",
        "plt.grid(True)\n",
        "plt.show()\n",
        "\n",
        "# Output the accuracy before and after pruning for comparison\n",
        "print(f\"Accuracy Before Pruning: {accuracy_before_pruning:.2f}\")\n",
        "for ccp_alpha, accuracy in zip(ccp_alphas, accuracies):\n",
        "    print(f\"CCP Alpha: {ccp_alpha:.5f}, Accuracy: {accuracy:.2f}\")"
      ],
      "metadata": {
        "colab": {
          "base_uri": "https://localhost:8080/",
          "height": 720
        },
        "id": "ikkpWSn3O2NY",
        "outputId": "1c54a437-aed9-4e7c-ebdd-c38cd7159a70"
      },
      "execution_count": 16,
      "outputs": [
        {
          "output_type": "display_data",
          "data": {
            "text/plain": [
              "<Figure size 1000x600 with 1 Axes>"
            ],
            "image/png": "[encoded data removed]"
          },
          "metadata": {}
        },
        {
          "output_type": "stream",
          "name": "stdout",
          "text": [
            "Accuracy Before Pruning: 1.00\n",
            "CCP Alpha: 0.00000, Accuracy: 1.00\n",
            "CCP Alpha: 0.00924, Accuracy: 1.00\n",
            "CCP Alpha: 0.01270, Accuracy: 1.00\n",
            "CCP Alpha: 0.01270, Accuracy: 1.00\n",
            "CCP Alpha: 0.01847, Accuracy: 1.00\n",
            "CCP Alpha: 0.02706, Accuracy: 0.98\n",
            "CCP Alpha: 0.25029, Accuracy: 0.71\n",
            "CCP Alpha: 0.31211, Accuracy: 0.29\n"
          ]
        }
      ]
    },
    {
      "cell_type": "code",
      "source": [
        "# Q 28 Write a Python program to train a Decision Tree Classifier and evaluate its performance using Precision, Recall, and F1-Score.\n",
        "\n",
        "# Import necessary libraries\n",
        "from sklearn.datasets import load_iris\n",
        "from sklearn.model_selection import train_test_split\n",
        "from sklearn.tree import DecisionTreeClassifier\n",
        "from sklearn.metrics import precision_score, recall_score, f1_score, classification_report\n",
        "\n",
        "# Load the Iris dataset\n",
        "iris = load_iris()\n",
        "X = iris.data  # Features\n",
        "y = iris.target  # Target variable (class labels)\n",
        "\n",
        "# Split the dataset into training and testing sets\n",
        "X_train, X_test, y_train, y_test = train_test_split(X, y, test_size=0.3, random_state=42)\n",
        "\n",
        "# Initialize and train the Decision Tree Classifier\n",
        "clf = DecisionTreeClassifier(random_state=42)\n",
        "clf.fit(X_train, y_train)\n",
        "\n",
        "# Make predictions on the test set\n",
        "y_pred = clf.predict(X_test)\n",
        "\n",
        "# Calculate Precision, Recall, and F1-Score for each class\n",
        "precision = precision_score(y_test, y_pred, average=None)  # Precision for each class\n",
        "recall = recall_score(y_test, y_pred, average=None)        # Recall for each class\n",
        "f1 = f1_score(y_test, y_pred, average=None)                # F1-Score for each class\n",
        "\n",
        "# Print the precision, recall, and f1-score for each class\n",
        "print(\"Precision for each class: \", precision)\n",
        "print(\"Recall for each class: \", recall)\n",
        "print(\"F1-Score for each class: \", f1)\n",
        "\n",
        "# Alternatively, print a classification report that includes precision, recall, and f1-score\n",
        "print(\"\\nClassification Report:\")\n",
        "print(classification_report(y_test, y_pred))"
      ],
      "metadata": {
        "colab": {
          "base_uri": "https://localhost:8080/"
        },
        "id": "YX2G2qPgP_-Z",
        "outputId": "09d28cb2-fbaa-42e4-bf0f-824a3c0987f8"
      },
      "execution_count": 17,
      "outputs": [
        {
          "output_type": "stream",
          "name": "stdout",
          "text": [
            "Precision for each class:  [1. 1. 1.]\n",
            "Recall for each class:  [1. 1. 1.]\n",
            "F1-Score for each class:  [1. 1. 1.]\n",
            "\n",
            "Classification Report:\n",
            "              precision    recall  f1-score   support\n",
            "\n",
            "           0       1.00      1.00      1.00        19\n",
            "           1       1.00      1.00      1.00        13\n",
            "           2       1.00      1.00      1.00        13\n",
            "\n",
            "    accuracy                           1.00        45\n",
            "   macro avg       1.00      1.00      1.00        45\n",
            "weighted avg       1.00      1.00      1.00        45\n",
            "\n"
          ]
        }
      ]
    },
    {
      "cell_type": "code",
      "source": [
        "# Q,29 Write a Python program to train a Decision Tree Classifier and visualize the confusion matrix using seaborn\n",
        "\n",
        "# Import necessary libraries\n",
        "import seaborn as sns\n",
        "import matplotlib.pyplot as plt\n",
        "from sklearn.datasets import load_iris\n",
        "from sklearn.model_selection import train_test_split\n",
        "from sklearn.tree import DecisionTreeClassifier\n",
        "from sklearn.metrics import confusion_matrix\n",
        "\n",
        "# Load the Iris dataset\n",
        "iris = load_iris()\n",
        "X = iris.data  # Features\n",
        "y = iris.target  # Target variable (class labels)\n",
        "\n",
        "# Split the dataset into training and testing sets\n",
        "X_train, X_test, y_train, y_test = train_test_split(X, y, test_size=0.3, random_state=42)\n",
        "\n",
        "# Initialize and train the Decision Tree Classifier\n",
        "clf = DecisionTreeClassifier(random_state=42)\n",
        "clf.fit(X_train, y_train)\n",
        "\n",
        "# Make predictions on the test set\n",
        "y_pred = clf.predict(X_test)\n",
        "\n",
        "# Calculate the confusion matrix\n",
        "cm = confusion_matrix(y_test, y_pred)\n",
        "\n",
        "# Create a heatmap of the confusion matrix using Seaborn\n",
        "plt.figure(figsize=(8, 6))\n",
        "sns.heatmap(cm, annot=True, fmt='d', cmap='Blues', xticklabels=iris.target_names, yticklabels=iris.target_names)\n",
        "plt.title('Confusion Matrix for Decision Tree Classifier')\n",
        "plt.xlabel('Predicted Labels')\n",
        "plt.ylabel('True Labels')\n",
        "plt.show()"
      ],
      "metadata": {
        "colab": {
          "base_uri": "https://localhost:8080/",
          "height": 564
        },
        "id": "dvPOWuFjQsJH",
        "outputId": "639a7efd-f360-4da5-8a34-39d87c01ae78"
      },
      "execution_count": 19,
      "outputs": [
        {
          "output_type": "display_data",
          "data": {
            "text/plain": [
              "<Figure size 800x600 with 2 Axes>"
            ],
            "image/png": "[encoded data removed]"
          },
          "metadata": {}
        }
      ]
    },
    {
      "cell_type": "code",
      "source": [
        "# Q.30 Write a Python program to train a Decision Tree Classifier and use GridSearchCV to find the optimal values for max_depth and min_samples_split\n",
        "\n",
        "# Import necessary libraries\n",
        "from sklearn.datasets import load_iris\n",
        "from sklearn.model_selection import train_test_split, GridSearchCV\n",
        "from sklearn.tree import DecisionTreeClassifier\n",
        "from sklearn.metrics import accuracy_score\n",
        "\n",
        "# Load the Iris dataset\n",
        "iris = load_iris()\n",
        "X = iris.data  # Features\n",
        "y = iris.target  # Target variable (class labels)\n",
        "\n",
        "# Split the dataset into training and testing sets\n",
        "X_train, X_test, y_train, y_test = train_test_split(X, y, test_size=0.3, random_state=42)\n",
        "\n",
        "# Initialize the Decision Tree Classifier\n",
        "dt_classifier = DecisionTreeClassifier(random_state=42)\n",
        "\n",
        "# Define the parameter grid for GridSearchCV\n",
        "param_grid = {\n",
        "    'max_depth': [3, 5, 10, None],  # max_depth values to test\n",
        "    'min_samples_split': [2, 5, 10]  # min_samples_split values to test\n",
        "}\n",
        "\n",
        "# Initialize GridSearchCV with 5-fold cross-validation\n",
        "grid_search = GridSearchCV(estimator=dt_classifier, param_grid=param_grid, cv=5, n_jobs=-1, verbose=1)\n",
        "\n",
        "# Fit the grid search to the data\n",
        "grid_search.fit(X_train, y_train)\n",
        "\n",
        "# Print the best hyperparameters found by GridSearchCV\n",
        "print(\"Best Hyperparameters found by GridSearchCV:\")\n",
        "print(grid_search.best_params_)\n",
        "\n",
        "# Get the best model after grid search\n",
        "best_dt_model = grid_search.best_estimator_\n",
        "\n",
        "# Make predictions using the best model\n",
        "y_pred = best_dt_model.predict(X_test)\n",
        "\n",
        "# Calculate and print the accuracy of the best model\n",
        "accuracy = accuracy_score(y_test, y_pred)\n",
        "print(f\"Accuracy of the best model: {accuracy:.2f}\")\n"
      ],
      "metadata": {
        "colab": {
          "base_uri": "https://localhost:8080/"
        },
        "id": "Zxz80xZFRG2-",
        "outputId": "312af74e-6c20-4d73-ec97-386f632e8c8e"
      },
      "execution_count": 20,
      "outputs": [
        {
          "output_type": "stream",
          "name": "stdout",
          "text": [
            "Fitting 5 folds for each of 12 candidates, totalling 60 fits\n",
            "Best Hyperparameters found by GridSearchCV:\n",
            "{'max_depth': 5, 'min_samples_split': 10}\n",
            "Accuracy of the best model: 1.00\n"
          ]
        }
      ]
    },
    {
      "cell_type": "code",
      "source": [],
      "metadata": {
        "id": "NTQ2u1flReJW"
      },
      "execution_count": null,
      "outputs": []
    }
  ]
}