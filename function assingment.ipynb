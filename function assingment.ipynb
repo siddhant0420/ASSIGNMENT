{
 "cells": [
  {
   "cell_type": "markdown",
   "id": "bdd35557-2eff-43bd-b7ce-5822928b6999",
   "metadata": {},
   "source": [
    "## 1,  What is the difference between a function and a method in Python?"
   ]
  },
  {
   "cell_type": "code",
   "execution_count": 2,
   "id": "81ef622d-8ea9-4394-b8a7-6e7a84da664e",
   "metadata": {},
   "outputs": [],
   "source": [
    "## ans, >> function are the standalone block of code which defines the function using a def keyword. \n",
    "##      >> function takes the argument and return the values."
   ]
  },
  {
   "cell_type": "code",
   "execution_count": 4,
   "id": "3d23bcef-7ed1-48bd-8dbe-1964abb7bd3b",
   "metadata": {},
   "outputs": [
    {
     "data": {
      "text/plain": [
       "6"
      ]
     },
     "execution_count": 4,
     "metadata": {},
     "output_type": "execute_result"
    }
   ],
   "source": [
    "## example of function;\n",
    "def multiple(a,b):\n",
    "    return a*b\n",
    "\n",
    "multiple(2,3)"
   ]
  },
  {
   "cell_type": "code",
   "execution_count": 6,
   "id": "fec73c8f-3db7-419c-91cc-8b0db0bf4986",
   "metadata": {},
   "outputs": [],
   "source": [
    "  # >> methods: method is  a function which defines the function with in a class.\n",
    "  # >> methods use to define the behaviour that the object can perform."
   ]
  },
  {
   "cell_type": "code",
   "execution_count": 12,
   "id": "956eed98-5e06-4b47-bedf-1675f1cae309",
   "metadata": {},
   "outputs": [
    {
     "data": {
      "text/plain": [
       "2.0"
      ]
     },
     "execution_count": 12,
     "metadata": {},
     "output_type": "execute_result"
    }
   ],
   "source": [
    "class division:\n",
    "    def div(a,b):\n",
    "        return a/b\n",
    "\n",
    "division.div(10,5)"
   ]
  },
  {
   "cell_type": "markdown",
   "id": "6a772d12-aba8-4d20-a25a-ce463e6f29cd",
   "metadata": {},
   "source": [
    "## 2,Explain the concept of function arguments and parameters in Python."
   ]
  },
  {
   "cell_type": "code",
   "execution_count": 15,
   "id": "62111fee-7323-42a4-944e-22b7e89d1449",
   "metadata": {},
   "outputs": [],
   "source": [
    "# ** ARGUMENT:-\n",
    "# >> argument provides the specific data to the function to perform the specific task.\n",
    "# >> argument provide the actual value to the function when you call it.\n",
    "\n",
    "# ** PARAMETERS:-\n",
    "# >> parameter are the variables that defines in the functions definition .\n",
    "# >> parameters are the value that passed through the functon when it call.\n",
    "    "
   ]
  },
  {
   "cell_type": "code",
   "execution_count": 21,
   "id": "d1454bbe-eb15-488f-8482-97e6122509bb",
   "metadata": {},
   "outputs": [
    {
     "name": "stdout",
     "output_type": "stream",
     "text": [
      "1000 usd = 80000 inr =\n"
     ]
    }
   ],
   "source": [
    "## example ::\n",
    "def convertor (usd_val):\n",
    "    inr_val = usd_val * 80\n",
    "    print (usd_val,\"usd =\", inr_val, \"inr =\")\n",
    "\n",
    "convertor (1000)"
   ]
  },
  {
   "cell_type": "markdown",
   "id": "c0299957-4f36-4d1b-8a3b-0023efaa04d7",
   "metadata": {},
   "source": [
    "### 3,. What are the different ways to define and call a function in Python?"
   ]
  },
  {
   "cell_type": "code",
   "execution_count": 30,
   "id": "7d3ae1a2-a311-46fa-b01e-4ef8dbf197a8",
   "metadata": {},
   "outputs": [
    {
     "data": {
      "text/plain": [
       "10"
      ]
     },
     "execution_count": 30,
     "metadata": {},
     "output_type": "execute_result"
    }
   ],
   "source": [
    "# >>the basic way we perform to define the function is by defining the function inside the paranthesis.\n",
    "# example ;\n",
    "def add(a,b):\n",
    "    return a + b \n",
    "add(4,6)"
   ]
  },
  {
   "cell_type": "code",
   "execution_count": 34,
   "id": "3708fb0e-8386-4d79-95ca-23719cfafd36",
   "metadata": {},
   "outputs": [
    {
     "data": {
      "text/plain": [
       "5.0"
      ]
     },
     "execution_count": 34,
     "metadata": {},
     "output_type": "execute_result"
    }
   ],
   "source": [
    "# >>second  way to perform the function is by using default parameters.\n",
    "# >> in that case if we doesnt pass any value it take a default value to run the function.\n",
    "# ex;\n",
    "def mul(a,b=2):\n",
    "    return a/b\n",
    "mul(10)"
   ]
  },
  {
   "cell_type": "code",
   "execution_count": 36,
   "id": "94ae13a2-4258-4c93-955e-75d4016f6cae",
   "metadata": {},
   "outputs": [
    {
     "name": "stdout",
     "output_type": "stream",
     "text": [
      "10\n"
     ]
    }
   ],
   "source": [
    "# >> lambda function is use to define the small and anonymous function using the lambda keyword.\n",
    "# ex;\n",
    "add = lambda a,b:a+b\n",
    "print(add(3,7))"
   ]
  },
  {
   "cell_type": "markdown",
   "id": "b41b06e6-2611-4d6d-ab8d-147421077c0a",
   "metadata": {},
   "source": [
    "### 4. What is the purpose of the `return` statement in a Python function?"
   ]
  },
  {
   "cell_type": "code",
   "execution_count": 44,
   "id": "0cd077de-3a2e-4c90-bad1-ad27262121b2",
   "metadata": {},
   "outputs": [
    {
     "data": {
      "text/plain": [
       "20"
      ]
     },
     "execution_count": 44,
     "metadata": {},
     "output_type": "execute_result"
    }
   ],
   "source": [
    "#  >> return statement is use to perform the calculations and return the value to the caller.\n",
    "#  >> return statement controls what value should be return based on the certain conditions.\n",
    "#  >> if return statement does not include an expression it will return none by default.\n",
    "# ex;\n",
    "def calc(a,b,c):\n",
    "    sum = a+b+c\n",
    "    return sum\n",
    "\n",
    "calc(5,10,5)"
   ]
  },
  {
   "cell_type": "markdown",
   "id": "979e6001-36fb-4e10-8c64-89ebb7d11cfb",
   "metadata": {},
   "source": [
    "### 5. What are iterators in Python and how do they differ from iterables?"
   ]
  },
  {
   "cell_type": "code",
   "execution_count": 51,
   "id": "67fc1163-7e26-495e-acc7-6c6feeabc876",
   "metadata": {},
   "outputs": [
    {
     "name": "stdout",
     "output_type": "stream",
     "text": [
      "s\n",
      "i\n",
      "d\n",
      "d\n",
      "h\n",
      "a\n",
      "n\n",
      "t\n"
     ]
    }
   ],
   "source": [
    "# >> iterator is  an object  representing a stream of data.\n",
    "# >> iterator is an object which allows you to travers through the items .\n",
    "\n",
    "\n",
    "# >> iterable is an object that return the iterator through iter() method.\n",
    "# >> while iterator is obtained from the iterable using the iter () function.\n",
    "\n",
    "# ex;\n",
    "for i in \"siddhant\":\n",
    "    print(i)"
   ]
  },
  {
   "cell_type": "markdown",
   "id": "4e5e9bfc-2c0c-4ac2-8b7a-00849f404dd4",
   "metadata": {},
   "source": [
    "# 6. Explain the concept of generators in Python and how they are defined."
   ]
  },
  {
   "cell_type": "code",
   "execution_count": 71,
   "id": "fcf6ab61-3178-45a0-83a4-eb0ba7b95c43",
   "metadata": {},
   "outputs": [
    {
     "name": "stdout",
     "output_type": "stream",
     "text": [
      "0\n",
      "1\n",
      "1\n",
      "2\n",
      "3\n",
      "5\n",
      "8\n",
      "13\n",
      "21\n",
      "34\n"
     ]
    }
   ],
   "source": [
    "# >> generator are use to create iterator using function .\n",
    "# >> it use yield keyword insted of returning values.\n",
    "# >> for defining the generators we start are code with def keyword then we use yield key word insted of return.\n",
    "\n",
    "# ex;\n",
    "def fibonacci(n):\n",
    "    a,b = 0,1\n",
    "    for _ in range (n):\n",
    "        yield a \n",
    "        a,b = b,  a+b\n",
    "for fib in fibonacci(10):\n",
    "    print(fib)"
   ]
  },
  {
   "cell_type": "markdown",
   "id": "8b96d168-eef0-4caf-8795-22bc23f7adaf",
   "metadata": {},
   "source": [
    "# 7. What are the advantages of using generators over regular functions?"
   ]
  },
  {
   "cell_type": "code",
   "execution_count": 74,
   "id": "eb01cd6c-8b29-4ec9-98c9-778224f89922",
   "metadata": {},
   "outputs": [
    {
     "name": "stdout",
     "output_type": "stream",
     "text": [
      "0\n",
      "1\n",
      "2\n",
      "3\n",
      "4\n",
      "5\n",
      "6\n",
      "7\n",
      "8\n",
      "9\n"
     ]
    }
   ],
   "source": [
    "# ..several advantages of using generators over regular function;\n",
    "# >> code simplification:=\n",
    "#                       especially in case of complex logic generator can lead to simpler and readable code.\n",
    "# >> generator start producing values imidietly , these can lead to faster program .\n",
    "\n",
    "# >> it doesnot store the entire sequence in memomy which help in ,e,ory efficiency.\n",
    "#  ex;\n",
    "def genrator(n):\n",
    "    for i in range(n):\n",
    "        yield i\n",
    "\n",
    "num_gen = genrator(10)\n",
    "for num in num_gen:\n",
    "    print (num)"
   ]
  },
  {
   "cell_type": "markdown",
   "id": "a453442a-1823-4398-8eab-e02575c1d510",
   "metadata": {},
   "source": [
    "# 8. What is a lambda function in Python and when is it typically used?"
   ]
  },
  {
   "cell_type": "code",
   "execution_count": 83,
   "id": "4c2ce8a8-cba8-4a41-b307-dd0cfb9b508b",
   "metadata": {},
   "outputs": [
    {
     "name": "stdout",
     "output_type": "stream",
     "text": [
      "[121, 484, 9, 1936, 3025]\n"
     ]
    }
   ],
   "source": [
    "# >> Lambda functions are small, anonymous functions defined using the lambda keyword. \n",
    "# >> They are used for creating small, throwaway functions without the need to formally define a function using def.\n",
    "\n",
    "# lambda function typically use in following conditions:\n",
    "# 1,while performaing high level function.\n",
    "# 2,use as a quick function definitioin.\n",
    "# 3, use as a simple key function.\n",
    "# 4, use as a quick shortcut key\n",
    "# ex;\n",
    "number = [11,22,3,44,55]\n",
    "square = list(map(lambda x: x**2, number))\n",
    "print(square)"
   ]
  },
  {
   "cell_type": "markdown",
   "id": "be7386a7-c856-46c5-81eb-ea3eab83cb88",
   "metadata": {},
   "source": [
    "# 9. Explain the purpose and usage of the `map()` function in Python.\n"
   ]
  },
  {
   "cell_type": "code",
   "execution_count": 86,
   "id": "863d6832-e832-446c-9820-e04d4c7e410c",
   "metadata": {},
   "outputs": [
    {
     "name": "stdout",
     "output_type": "stream",
     "text": [
      "[4, 16, 36, 64, 100]\n"
     ]
    }
   ],
   "source": [
    "# >> map() function in python is a builtin function that applies an specified function to all items in an iterable\n",
    "# and return the iterator.\n",
    "\n",
    "# purpose of map function;\n",
    "# >> it lead to more efficient and cleaner code.\n",
    "# >> use for transform function to each item in the iterable.\n",
    "\n",
    "# ex;\n",
    "number = [2,4,6,8,10]\n",
    "square = list(map(lambda x: x**2, number))\n",
    "print(square)"
   ]
  },
  {
   "cell_type": "markdown",
   "id": "affe240f-fac3-4610-bc75-4954eb48c17d",
   "metadata": {},
   "source": [
    "# 10. What is the difference between `map()`, `reduce()`, and `filter()` functions in Python?"
   ]
  },
  {
   "cell_type": "code",
   "execution_count": 6,
   "id": "d511d29f-023c-42ce-94b2-2ac8d27083d8",
   "metadata": {},
   "outputs": [
    {
     "name": "stdout",
     "output_type": "stream",
     "text": [
      "[121, 1089, 3025]\n"
     ]
    }
   ],
   "source": [
    "#  >> map () :- The map function applies  given function to all items in an input iterable and returns an iterator with the results.\n",
    "\n",
    "#  >>reduce () :-  The reduce function from the functools module applies a given function cumulatively to the items of a sequence'\n",
    "#                  to reduce the sequence of single value.\n",
    "\n",
    "#  >> filter() :- The filter function constructs an iterator from elements of an iterable for which a specified function returns True.\n",
    "\n",
    "# ex;\n",
    "number= [11,22,33,44,55]\n",
    "odd_square=map(lambda x:x**2,filter(lambda x:x%2 !=0,number))\n",
    "print (list(odd_square))"
   ]
  },
  {
   "cell_type": "markdown",
   "id": "dd6f2288-f26a-4842-b639-849815ed75bf",
   "metadata": {},
   "source": [
    "# 11. Using pen & Paper write the internal mechanism for sum operation using  reduce function on this given\n",
    "list:[47,11,42,13]; "
   ]
  },
  {
   "cell_type": "markdown",
   "id": "4a95c427-5ee3-4e66-af26-c929f48fcdff",
   "metadata": {},
   "source": [
    "IMG20241016130647.jpg"
   ]
  },
  {
   "cell_type": "markdown",
   "id": "10f1aac4-78f1-4828-a6bf-8ad16558a7be",
   "metadata": {},
   "source": [
    "# practical question"
   ]
  },
  {
   "cell_type": "code",
   "execution_count": 14,
   "id": "c460b397-48c9-415d-a784-415cf62344b5",
   "metadata": {},
   "outputs": [
    {
     "name": "stdout",
     "output_type": "stream",
     "text": [
      "sum of even numer is  220\n"
     ]
    }
   ],
   "source": [
    "# 1  Write a Python function that takes a list of numbers as input and returns the sum of all even numbers in\n",
    "# the list.\n",
    "def sum_even(n):\n",
    "    sum = 0\n",
    "    for number in n:\n",
    "        if number %2 == 0:\n",
    "            sum += number\n",
    "\n",
    "    return sum\n",
    "\n",
    "list = [11,22,33,44,55,66,77,88]\n",
    "result = sum_even(list)\n",
    "print(\"sum of even numer is \", result)"
   ]
  },
  {
   "cell_type": "code",
   "execution_count": 24,
   "id": "67bb35a7-cc36-4228-ad72-c849c4b9dd79",
   "metadata": {},
   "outputs": [
    {
     "name": "stdout",
     "output_type": "stream",
     "text": [
      "sllikswp olleh\n"
     ]
    }
   ],
   "source": [
    "# 2. Create a Python function that accepts a string and returns the reverse of that string.\n",
    "def reverse_str(input_):\n",
    "    reverse_str = input_ [::-1]\n",
    "    return reverse_str\n",
    "\n",
    "str1= \"hello pwskills\"\n",
    "result=reverse_str(str1)\n",
    "print(result)"
   ]
  },
  {
   "cell_type": "code",
   "execution_count": 36,
   "id": "e08e6fdc-053d-4e9b-b436-120cb3ee9fa3",
   "metadata": {},
   "outputs": [
    {
     "name": "stdout",
     "output_type": "stream",
     "text": [
      "[4, 16, 36, 64, 100]\n"
     ]
    }
   ],
   "source": [
    "# 3. Implement a Python function that takes a list of integers and returns a new list containing the squares of\n",
    "# each number.\n",
    "def square_num(input_list):\n",
    "    return[number**2 for number in input_list]\n",
    "    \n",
    "x=[2,4,6,8,10]\n",
    "square=square_num(x)\n",
    "print(square)\n"
   ]
  },
  {
   "cell_type": "code",
   "execution_count": 46,
   "id": "d26dff93-3cb8-4a95-89fe-055e50ee22e4",
   "metadata": {},
   "outputs": [
    {
     "name": "stdout",
     "output_type": "stream",
     "text": [
      "2 is a prime number\n",
      "3 is a prime number\n",
      "5 is a prime number\n",
      "7 is a prime number\n",
      "11 is a prime number\n",
      "13 is a prime number\n",
      "17 is a prime number\n",
      "19 is a prime number\n",
      "23 is a prime number\n",
      "29 is a prime number\n",
      "31 is a prime number\n",
      "37 is a prime number\n",
      "41 is a prime number\n",
      "43 is a prime number\n",
      "47 is a prime number\n",
      "53 is a prime number\n",
      "59 is a prime number\n",
      "61 is a prime number\n",
      "67 is a prime number\n",
      "71 is a prime number\n",
      "73 is a prime number\n",
      "79 is a prime number\n",
      "83 is a prime number\n",
      "89 is a prime number\n",
      "97 is a prime number\n",
      "101 is a prime number\n",
      "103 is a prime number\n",
      "107 is a prime number\n",
      "109 is a prime number\n",
      "113 is a prime number\n",
      "127 is a prime number\n",
      "131 is a prime number\n",
      "137 is a prime number\n",
      "139 is a prime number\n",
      "149 is a prime number\n",
      "151 is a prime number\n",
      "157 is a prime number\n",
      "163 is a prime number\n",
      "167 is a prime number\n",
      "173 is a prime number\n",
      "179 is a prime number\n",
      "181 is a prime number\n",
      "191 is a prime number\n",
      "193 is a prime number\n",
      "197 is a prime number\n",
      "199 is a prime number\n"
     ]
    }
   ],
   "source": [
    "# 4. Write a Python function that checks if a given number is prime or not from 1 to 200.\n",
    "def check_prime(n):\n",
    "    if n <= 1:\n",
    "        return False\n",
    "    for i in range (2, int(n**0.5) + 1):\n",
    "        if n % i ==0:\n",
    "            return False\n",
    "    return True\n",
    "\n",
    "for number in range(1,201):\n",
    "    if check_prime(number):\n",
    "        print(f\"{number} is a prime number\")"
   ]
  },
  {
   "cell_type": "code",
   "execution_count": 48,
   "id": "a99448c9-8ab9-4b55-b326-88c6b0804600",
   "metadata": {},
   "outputs": [
    {
     "name": "stdout",
     "output_type": "stream",
     "text": [
      "0\n",
      "1\n",
      "1\n",
      "2\n",
      "3\n",
      "5\n",
      "8\n",
      "13\n",
      "21\n",
      "34\n"
     ]
    }
   ],
   "source": [
    "# 5. Create an iterator class in Python that generates the Fibonacci sequence up to a specified number of\n",
    "# terms\n",
    "\n",
    "def fibonacci(n):\n",
    "    a,b = 0,1\n",
    "    for _ in range (n):\n",
    "        yield a \n",
    "        a,b = b,  a+b\n",
    "for fib in fibonacci(10):\n",
    "    print(fib)"
   ]
  },
  {
   "cell_type": "code",
   "execution_count": 52,
   "id": "df859840-dd0f-488f-8ba0-77fb12070ef7",
   "metadata": {},
   "outputs": [
    {
     "name": "stdout",
     "output_type": "stream",
     "text": [
      "1\n",
      "2\n",
      "4\n",
      "8\n",
      "16\n",
      "32\n",
      "64\n",
      "128\n",
      "256\n",
      "512\n",
      "1024\n",
      "2048\n",
      "4096\n",
      "8192\n",
      "16384\n",
      "32768\n",
      "65536\n",
      "131072\n",
      "262144\n",
      "524288\n",
      "1048576\n"
     ]
    }
   ],
   "source": [
    "# 6. Write a generator function in Python that yields the powers of 2 up to a given exponent.\n",
    "\n",
    "def power_2 (exponent):\n",
    "    for i in range(exponent + 1):\n",
    "        yield 2**i\n",
    "\n",
    "exponent =  20\n",
    "for power in power_2(exponent):\n",
    "    print(power)"
   ]
  },
  {
   "cell_type": "code",
   "execution_count": 97,
   "id": "5ec338ec-e5bc-4dd4-8633-c144abe7fb59",
   "metadata": {},
   "outputs": [
    {
     "name": "stdout",
     "output_type": "stream",
     "text": [
      "i am siddhant\n",
      "i m from mp\n",
      "i am learning data science from pwskills\n"
     ]
    }
   ],
   "source": [
    "# 7. Implement a generator function that reads a file line by line and yields each line as a string.\n",
    "\n",
    "def read_file_line_by_line(file_path):\n",
    "    \n",
    "    with open(file_path, 'r') as file:\n",
    "        for line in file:\n",
    "            yield line.strip()  \n",
    "\n",
    "\n",
    "for line in read_file_line_by_line('abc.txt'):\n",
    "    print(line)"
   ]
  },
  {
   "cell_type": "code",
   "execution_count": null,
   "id": "f0fa804b-21c4-4b46-8a17-fbf594c2038b",
   "metadata": {},
   "outputs": [],
   "source": []
  },
  {
   "cell_type": "code",
   "execution_count": 79,
   "id": "d41fd20c-f632-4338-8b41-8ccef931498c",
   "metadata": {},
   "outputs": [
    {
     "name": "stdout",
     "output_type": "stream",
     "text": [
      "[(1, 3), (2, 4), (8, 4), (4, 5)]\n"
     ]
    }
   ],
   "source": [
    "# 8. Use a lambda function in Python to sort a list of tuples based on the second element of each tuple.\n",
    "t_list=[(1,3),(2,4),(4,5),(8,4)]\n",
    "sorted_list=sorted(t_list, key = lambda x:x[1])\n",
    "print(sorted_list)"
   ]
  },
  {
   "cell_type": "code",
   "execution_count": 103,
   "id": "d9325072-d950-4aad-a31b-6d6708a6f006",
   "metadata": {},
   "outputs": [
    {
     "ename": "TypeError",
     "evalue": "'list' object is not callable",
     "output_type": "error",
     "traceback": [
      "\u001b[1;31m---------------------------------------------------------------------------\u001b[0m",
      "\u001b[1;31mTypeError\u001b[0m                                 Traceback (most recent call last)",
      "Cell \u001b[1;32mIn[103], line 10\u001b[0m\n\u001b[0;32m      7\u001b[0m celsius_temperatures \u001b[38;5;241m=\u001b[39m [\u001b[38;5;241m10\u001b[39m,\u001b[38;5;241m20\u001b[39m,\u001b[38;5;241m30\u001b[39m,\u001b[38;5;241m40\u001b[39m]\n\u001b[0;32m      9\u001b[0m \u001b[38;5;66;03m# Using map() to convert the Celsius temperatures to Fahrenheit\u001b[39;00m\n\u001b[1;32m---> 10\u001b[0m fahrenheit_temperatures \u001b[38;5;241m=\u001b[39m \u001b[38;5;28mlist\u001b[39m(\u001b[38;5;28mmap\u001b[39m(celsius_to_fahrenheit, celsius_temperatures))\n\u001b[0;32m     12\u001b[0m \u001b[38;5;66;03m# Display the results\u001b[39;00m\n\u001b[0;32m     13\u001b[0m \u001b[38;5;28mprint\u001b[39m(\u001b[38;5;124m\"\u001b[39m\u001b[38;5;124mCelsius temperatures:\u001b[39m\u001b[38;5;124m\"\u001b[39m, celsius_temperatures)\n",
      "\u001b[1;31mTypeError\u001b[0m: 'list' object is not callable"
     ]
    }
   ],
   "source": [
    "# 9. Write a Python program that uses `map()` to convert a list of temperatures from Celsius to Fahrenheit.\n",
    "celsius_temp =[20,30,40,50,60]\n",
    "def celsius_to_fahr(celsius):\n",
    "    return (celsius * 9/5) + 32\n",
    "\n",
    "\n",
    "celsius_temp = [10,20,30,40]\n",
    "\n",
    "# Using  to convert the Celsius temperatures to Fahrenheit\n",
    "fahrenheit_temperatures = list(map(celsius_to_fahrenheit, celsius_temperatures))\n",
    "\n",
    "# Display the results\n",
    "print(\"Celsius temperatures:\", celsius_temperatures)\n",
    "print(\"Fahrenheit temperatures:\", fahrenheit_temperatures)"
   ]
  },
  {
   "cell_type": "code",
   "execution_count": 101,
   "id": "a1aa216c-988e-499b-9bad-f9582f6347f7",
   "metadata": {},
   "outputs": [
    {
     "name": "stdout",
     "output_type": "stream",
     "text": [
      "original hello pwskills\n",
      "str wihtout vowels hll pwsklls\n"
     ]
    }
   ],
   "source": [
    "# 10. Create a Python program that uses `filter()` to remove all the vowels from a given string.\n",
    "def remove_vowels(str):\n",
    "    vowels = \"aeiou\"\n",
    "    filtered_str=''.join(filter(lambda char:char not in vowels, str))\n",
    "    return filtered_str\n",
    "\n",
    "str = \"hello pwskills\"\n",
    "result = remove_vowels(str)\n",
    "print(\"original\",str)\n",
    "print(\"str wihtout vowels\",result)"
   ]
  },
  {
   "cell_type": "code",
   "execution_count": 66,
   "id": "8413e33a-3fbf-4370-8144-292489ccdd77",
   "metadata": {},
   "outputs": [
    {
     "name": "stdout",
     "output_type": "stream",
     "text": [
      "[(34587, 163.8), (98762, 284.0), (77226, 108.85000000000001), (88112, 34.989999999999995)]\n"
     ]
    }
   ],
   "source": [
    "# 11) Imagine an accounting routine used in a book shop. It works on a list with sublists, which look like this:\n",
    "\n",
    "\n",
    "\n",
    "\n",
    "\n",
    "\n",
    "\n",
    "# Write a Python program, which returns a list with 2-tuples. Each tuple consists of the order number and the\n",
    "# product of the price per item and the quantity. The product should be increased by 10,- € if the value of the\n",
    "# order is smaller than 100,00 €\n",
    "\n",
    "\n",
    "orders = [\n",
    "    {\"order_number\": 34587, \"book\": \"Learning Python, Mark Lutz\", \"quantity\": 4, \"price_per_item\": 40.95},\n",
    "    {\"order_number\": 98762, \"book\": \"Programming Python, Mark Lutz\", \"quantity\": 5, \"price_per_item\": 56.80},\n",
    "    {\"order_number\": 77226, \"book\": \"Head First Python, Paul Barry\", \"quantity\": 3, \"price_per_item\": 32.95},\n",
    "    {\"order_number\": 88112, \"book\": \"Einführung in Python3, Bernd Klein\", \"quantity\": 1, \"price_per_item\": 24.99},\n",
    "]\n",
    "\n",
    "\n",
    "def calculate_order_totals(orders):\n",
    "    order_totals = []\n",
    "    for order in orders:\n",
    "        \n",
    "        total_price = order[\"quantity\"] * order[\"price_per_item\"]\n",
    "        \n",
    "        if total_price < 100:\n",
    "            total_price += 10\n",
    "        \n",
    "        \n",
    "        order_totals.append((order[\"order_number\"], total_price))\n",
    "    \n",
    "    return order_totals\n",
    "result = calculate_order_totals(orders)\n",
    "print(result)\n",
    "\n"
   ]
  },
  {
   "cell_type": "code",
   "execution_count": null,
   "id": "6c52d3bc-8fe4-4ede-abf0-01a541a8ea1c",
   "metadata": {},
   "outputs": [],
   "source": []
  }
 ],
 "metadata": {
  "kernelspec": {
   "display_name": "Python 3 (ipykernel)",
   "language": "python",
   "name": "python3"
  },
  "language_info": {
   "codemirror_mode": {
    "name": "ipython",
    "version": 3
   },
   "file_extension": ".py",
   "mimetype": "text/x-python",
   "name": "python",
   "nbconvert_exporter": "python",
   "pygments_lexer": "ipython3",
   "version": "3.12.4"
  }
 },
 "nbformat": 4,
 "nbformat_minor": 5
}
