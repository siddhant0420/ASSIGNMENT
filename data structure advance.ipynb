{
 "cells": [
  {
   "cell_type": "markdown",
   "id": "c9f09b55-785f-47fb-9b26-d2b6a519287c",
   "metadata": {},
   "source": [
    "# Q.1 Write a code to reverse the string."
   ]
  },
  {
   "cell_type": "code",
   "execution_count": 2,
   "id": "79e73c4d-19af-4100-bdcc-f92e1bc0635d",
   "metadata": {},
   "outputs": [
    {
     "name": "stdout",
     "output_type": "stream",
     "text": [
      "sllikswp olleh\n"
     ]
    }
   ],
   "source": [
    "def reverse_str(str):\n",
    "    return str[:: -1]\n",
    "input_str= \"hello pwskills\"\n",
    "result= reverse_str(input_str)\n",
    "print(result)"
   ]
  },
  {
   "cell_type": "markdown",
   "id": "b29a780e-36f7-4896-a610-903f5f43618b",
   "metadata": {},
   "source": [
    "# Q.2 Write a code to count the nu\f",
    "mber of vowels in a string."
   ]
  },
  {
   "cell_type": "code",
   "execution_count": 8,
   "id": "12cf7f35-9371-4564-81ec-e6c9c6e3fbb4",
   "metadata": {},
   "outputs": [
    {
     "name": "stdin",
     "output_type": "stream",
     "text": [
      "enter your string i am student in pwskils\n"
     ]
    },
    {
     "name": "stdout",
     "output_type": "stream",
     "text": [
      "vowels in <class 'str'> is 6\n"
     ]
    }
   ],
   "source": [
    "str1 =str(input(\"enter your string\"))\n",
    "v=0\n",
    "for char in str1\n",
    "    if char in \"aeiouAEIOU\":\n",
    "        v = v+1\n",
    "\n",
    "print(\"vowels in\",str,\"is\", v)"
   ]
  },
  {
   "cell_type": "markdown",
   "id": "fc7880a0-7662-4329-af5e-f10c25aa33f0",
   "metadata": {},
   "source": [
    "# Q.3 Write a code to check if the given string is a palindrom\f",
    "e or not."
   ]
  },
  {
   "cell_type": "code",
   "execution_count": 25,
   "id": "cb9c04fa-541d-4278-9ed8-e3179f257245",
   "metadata": {},
   "outputs": [
    {
     "name": "stdin",
     "output_type": "stream",
     "text": [
      "enter your str :-   \"my name is xyz\"\n"
     ]
    },
    {
     "name": "stdout",
     "output_type": "stream",
     "text": [
      "\"\"my name is xyz\"\" is not a palindrome.\n"
     ]
    }
   ],
   "source": [
    "def is_palindrome(s):\n",
    "    ss = ''.join(s.split()).lower()\n",
    "    return ss == ss[::-1]\n",
    "str1 = str(input(\"enter your str :-  \"))\n",
    "if is_palindrome(str1):\n",
    "    print(f'\"{str1}\" is a palindrome.')\n",
    "else:\n",
    "    print(f'\"{str1}\" is not a palindrome.')"
   ]
  },
  {
   "cell_type": "code",
   "execution_count": 20,
   "id": "5e7c50ed-5bd8-41b2-85b3-a6d68d618823",
   "metadata": {},
   "outputs": [
    {
     "name": "stdin",
     "output_type": "stream",
     "text": [
      "enter your str :-   madam\n"
     ]
    },
    {
     "name": "stdout",
     "output_type": "stream",
     "text": [
      "\"madam\" is a palindrome.\n"
     ]
    }
   ],
   "source": [
    "def is_palindrome(s):\n",
    "    ss = ''.join(s.split()).lower()\n",
    "    return ss == ss[::-1]\n",
    "str1 = str(input(\"enter your str :-  \"))\n",
    "if is_palindrome(str1):\n",
    "    print(f'\"{str1}\" is a palindrome.')\n",
    "else:\n",
    "    print(f'\"{str1}\" is not a palindrome.')"
   ]
  },
  {
   "cell_type": "markdown",
   "id": "58876c7e-c33b-4874-bf9a-ffcf39f43e5b",
   "metadata": {},
   "source": [
    "# Q 4. Write a code to check if two given strings  are anagra\f",
    "\u001d",
    "m of each other."
   ]
  },
  {
   "cell_type": "code",
   "execution_count": 3,
   "id": "c0ad8bb1-9cb3-4dfd-99ef-6293a0104bb7",
   "metadata": {},
   "outputs": [
    {
     "ename": "TypeError",
     "evalue": "'builtin_function_or_method' object is not iterable",
     "output_type": "error",
     "traceback": [
      "\u001b[1;31m---------------------------------------------------------------------------\u001b[0m",
      "\u001b[1;31mTypeError\u001b[0m                                 Traceback (most recent call last)",
      "Cell \u001b[1;32mIn[3], line 9\u001b[0m\n\u001b[0;32m      6\u001b[0m string1 \u001b[38;5;241m=\u001b[39m \u001b[38;5;124m\"\u001b[39m\u001b[38;5;124mlisten\u001b[39m\u001b[38;5;124m\"\u001b[39m\n\u001b[0;32m      8\u001b[0m string2 \u001b[38;5;241m=\u001b[39m \u001b[38;5;124m\"\u001b[39m\u001b[38;5;124msilent\u001b[39m\u001b[38;5;124m\"\u001b[39m\n\u001b[1;32m----> 9\u001b[0m result\u001b[38;5;241m=\u001b[39m is_anagrams(string1,string2)\n\u001b[0;32m     10\u001b[0m \u001b[38;5;28mprint\u001b[39m(result)\n",
      "Cell \u001b[1;32mIn[3], line 4\u001b[0m, in \u001b[0;36mis_anagrams\u001b[1;34m(str1, str2)\u001b[0m\n\u001b[0;32m      2\u001b[0m str1 \u001b[38;5;241m=\u001b[39m str1\u001b[38;5;241m.\u001b[39mreplace(\u001b[38;5;124m\"\u001b[39m\u001b[38;5;124m \u001b[39m\u001b[38;5;124m\"\u001b[39m,\u001b[38;5;124m\"\u001b[39m\u001b[38;5;124m \u001b[39m\u001b[38;5;124m\"\u001b[39m)\u001b[38;5;241m.\u001b[39mlower\n\u001b[0;32m      3\u001b[0m str2 \u001b[38;5;241m=\u001b[39m str2\u001b[38;5;241m.\u001b[39mreplace(\u001b[38;5;124m\"\u001b[39m\u001b[38;5;124m \u001b[39m\u001b[38;5;124m\"\u001b[39m, \u001b[38;5;124m\"\u001b[39m\u001b[38;5;124m\"\u001b[39m)\u001b[38;5;241m.\u001b[39mlower()\n\u001b[1;32m----> 4\u001b[0m \u001b[38;5;28;01mreturn\u001b[39;00m \u001b[38;5;28msorted\u001b[39m(str1) \u001b[38;5;241m==\u001b[39m \u001b[38;5;28msorted\u001b[39m(str2)\n",
      "\u001b[1;31mTypeError\u001b[0m: 'builtin_function_or_method' object is not iterable"
     ]
    }
   ],
   "source": [
    "def is_anagrams(str1,str2):\n",
    "    str1 = str1.replace(\" \",\" \").lower\n",
    "    str2 = str2.replace(\" \", \"\").lower()\n",
    "    return sorted(str1) == sorted(str2)\n",
    "\n",
    "string1 = \"listen\"\n",
    "\n",
    "string2 = \"silent\"\n",
    "result= is_anagrams(string1,string2)\n",
    "print(result)"
   ]
  },
  {
   "cell_type": "markdown",
   "id": "02d5c9ed-6776-4f63-b52d-c3be80615237",
   "metadata": {},
   "source": [
    "# Q 5. Write a code to find all occurrences of a given substring within another strings."
   ]
  },
  {
   "cell_type": "code",
   "execution_count": 24,
   "id": "9827b581-c9c0-4e44-b9a7-b76a6abd7032",
   "metadata": {},
   "outputs": [
    {
     "name": "stdout",
     "output_type": "stream",
     "text": [
      "[1]\n"
     ]
    }
   ],
   "source": [
    "def find_occurrences(str1,str2):\n",
    "    occurrences = []\n",
    "    start = 0\n",
    "    while True:\n",
    "        start = str1.find(str2, start)\n",
    "        if start == -1:\n",
    "            break\n",
    "        occurrences.append(start)\n",
    "        start += 1  \n",
    "    return occurrences\n",
    "\n",
    "\n",
    "str1 = \" test\"\n",
    "str2 = \"test\"\n",
    "result =find_occurrences(str1,str2)\n",
    "print(result)"
   ]
  },
  {
   "cell_type": "markdown",
   "id": "609731dd-c13a-4b65-b824-c7aaa27af8c5",
   "metadata": {},
   "source": [
    "# Q.6  Write a code to perform\f",
    " basic string com\f",
    "pression using the counts of repeated characterss.\n"
   ]
  },
  {
   "cell_type": "code",
   "execution_count": null,
   "id": "37db2ce9-dfbe-4f10-a46a-cc82e8a20fa7",
   "metadata": {},
   "outputs": [],
   "source": []
  },
  {
   "cell_type": "markdown",
   "id": "54c20472-7e79-4339-97f7-3d2654c17525",
   "metadata": {},
   "source": [
    "# Q 7. Write a code to deter\f",
    "mine if a string has all unique characters."
   ]
  },
  {
   "cell_type": "code",
   "execution_count": 3,
   "id": "3f9d0636-1d03-421b-9fa6-9c3297c592b0",
   "metadata": {},
   "outputs": [
    {
     "name": "stdout",
     "output_type": "stream",
     "text": [
      "The string 'abcdefg' has all unique characters.\n"
     ]
    }
   ],
   "source": [
    "def has_unique(s):\n",
    "    return len(s) == len(set(s))\n",
    "\n",
    "input_str = \"abcdefg\"\n",
    "if has_unique(input_str):\n",
    "    print(f\"The string '{input_str}' has all unique characters.\")\n",
    "else:\n",
    "    print(f\"The string '{input_str}' does not have all unique characters.\")\n",
    "    "
   ]
  },
  {
   "cell_type": "markdown",
   "id": "bead4bf6-8399-4582-99c8-9ca4e7eb8a0d",
   "metadata": {},
   "source": [
    "# Q8. Write a code to convert a given string to uppercase or lowercase."
   ]
  },
  {
   "cell_type": "code",
   "execution_count": 6,
   "id": "cf8e1bf2-52f7-4d63-b762-0f2350d39f34",
   "metadata": {},
   "outputs": [
    {
     "name": "stdout",
     "output_type": "stream",
     "text": [
      "MY NAME IS SIDDHANT\n",
      "my name is siddhant\n"
     ]
    }
   ],
   "source": [
    "str=\"my name is siddhant\"\n",
    "print(str.upper())\n",
    "print(str.lower())"
   ]
  },
  {
   "cell_type": "markdown",
   "id": "99de36be-439f-4ee3-bc60-e9f40bd5f13c",
   "metadata": {},
   "source": [
    "# Q9.  Write a code to count the nu\f",
    "mber of words in a string.\n"
   ]
  },
  {
   "cell_type": "code",
   "execution_count": 17,
   "id": "c5817109-235b-4224-9eb0-e574a95ab9c9",
   "metadata": {},
   "outputs": [
    {
     "name": "stdout",
     "output_type": "stream",
     "text": [
      "total words is  4\n"
     ]
    }
   ],
   "source": [
    "str= \"data science through pwskills\"\n",
    "result= str.split()\n",
    "count= len(result)\n",
    "print(\"total words is \",count)"
   ]
  },
  {
   "cell_type": "markdown",
   "id": "38dcd4ba-f57c-4141-a6d7-bda394cc9e3f",
   "metadata": {},
   "source": [
    "# Q.10  Write a code to concatenate two strings without using the + operator."
   ]
  },
  {
   "cell_type": "code",
   "execution_count": 15,
   "id": "56bbbc3b-37be-4449-a3f1-f040fa4b0d84",
   "metadata": {},
   "outputs": [
    {
     "name": "stdout",
     "output_type": "stream",
     "text": [
      "data science from pwskills\n"
     ]
    }
   ],
   "source": [
    "str1 = \"data science \"\n",
    "str2= \"from pwskills\"\n",
    "result = ''.join([str1, str2])\n",
    "print(result)"
   ]
  },
  {
   "cell_type": "markdown",
   "id": "73cfd99c-b1a9-47db-835e-f6f557c7f252",
   "metadata": {},
   "source": [
    "# Q11. Write a code to rem\f",
    "ove all occurrences of a specific elem\f",
    "ent from\f",
    " a lists."
   ]
  },
  {
   "cell_type": "code",
   "execution_count": 13,
   "id": "018222f4-ef29-4a84-81cd-1295eff90d82",
   "metadata": {},
   "outputs": [
    {
     "name": "stdout",
     "output_type": "stream",
     "text": [
      "None\n"
     ]
    }
   ],
   "source": [
    "my_list = [1, 2, 3, 4, 3, 5, 3, 6]\n",
    "result= my_list.remove(3)\n",
    "print(result)"
   ]
  },
  {
   "cell_type": "code",
   "execution_count": 31,
   "id": "a9c33ef1-95bd-4af8-902a-ca71a09c62dc",
   "metadata": {},
   "outputs": [
    {
     "data": {
      "text/plain": [
       "[1, 2, 4, 3, 5, 3, 6]"
      ]
     },
     "execution_count": 31,
     "metadata": {},
     "output_type": "execute_result"
    }
   ],
   "source": [
    "my_list"
   ]
  },
  {
   "cell_type": "markdown",
   "id": "fbb3a463-3723-43ec-951a-5723b1a7e266",
   "metadata": {},
   "source": [
    "# Q. 12 Im\f",
    "plem\f",
    "ent a code to find the second largest nu\f",
    "mber in a given list of integer"
   ]
  },
  {
   "cell_type": "code",
   "execution_count": 38,
   "id": "f685f537-b637-4d3f-ab4f-2fe99a4338d4",
   "metadata": {},
   "outputs": [
    {
     "name": "stdout",
     "output_type": "stream",
     "text": [
      "second largest is :- 45\n"
     ]
    }
   ],
   "source": [
    "def second_largest(numbers):\n",
    "    unique_numbers = list(set(numbers))\n",
    "    if len(unique_numbers) < 2:\n",
    "        return \"List doesn't have enough unique numbers.\"\n",
    "    unique_numbers.sort(reverse=True)\n",
    "    return unique_numbers[1]\n",
    "\n",
    "numbers = [10, 20, 4, 45, 99, 99, 20]\n",
    "result = second_largest(numbers)\n",
    "print(\"second largest is :-\",result)"
   ]
  },
  {
   "cell_type": "markdown",
   "id": "c6ff6d05-ac23-46ce-a50d-c64b7d3e9428",
   "metadata": {},
   "source": [
    "# Q 13.create a code to count the occurances of each element in a list and return a dictionary with elements as keys and their counts as values."
   ]
  },
  {
   "cell_type": "code",
   "execution_count": 22,
   "id": "d2a45a59-b356-46f6-9c37-72064df0be59",
   "metadata": {},
   "outputs": [
    {
     "name": "stdout",
     "output_type": "stream",
     "text": [
      "{1: 3, 2: 5, 3: 1, 4: 3, 6: 2, 5: 3, 7: 1}\n"
     ]
    }
   ],
   "source": [
    "def occurances(list):\n",
    "    count={}\n",
    "    for item in list:\n",
    "        if item in count:\n",
    "            count[item] +=1\n",
    "        else:\n",
    "            count[item] = 1\n",
    "    return count\n",
    "\n",
    "my_list=[1,2,2,1,2,1,3,4,6,2,6,5,7,5,2,4,4,5]\n",
    "result=occurances(my_list)\n",
    "print(result)"
   ]
  },
  {
   "cell_type": "code",
   "execution_count": 30,
   "id": "b2142b14-ab05-4e62-9483-db6e6cfde06c",
   "metadata": {},
   "outputs": [
    {
     "name": "stdout",
     "output_type": "stream",
     "text": [
      "{1: 2, 2: 2, 4: 3, 3: 2, 5: 3, 6: 2}\n"
     ]
    }
   ],
   "source": [
    "my_list=[1,2,4,3,4,2,1,3,5,6,5,4,5,6]\n",
    "count={}\n",
    "for item in my_list:\n",
    "    if item in count:\n",
    "        count[item] +=1\n",
    "    else:\n",
    "        count[item] = 1\n",
    "\n",
    "print(count)"
   ]
  },
  {
   "cell_type": "markdown",
   "id": "f11484d9-880f-49c8-b203-cc8844d933d5",
   "metadata": {},
   "source": [
    "# Q.14 write a code to reverse a list in-place without using any built-in function."
   ]
  },
  {
   "cell_type": "code",
   "execution_count": 35,
   "id": "c752278d-30a0-463b-a7e8-17c54fe2b016",
   "metadata": {},
   "outputs": [
    {
     "name": "stdout",
     "output_type": "stream",
     "text": [
      "[33, 22, 11, 3, 2, 1]\n"
     ]
    }
   ],
   "source": [
    "def reverse(list):\n",
    "    left= 0\n",
    "    right=len(list) -1\n",
    "    while left< right:\n",
    "        list[left],list[right]=list[right],list[left]\n",
    "        left +=1\n",
    "        right-=1\n",
    "\n",
    "my_list=[1,2,3,11,22,33]\n",
    "reverse(my_list)\n",
    "print(my_list)"
   ]
  },
  {
   "cell_type": "markdown",
   "id": "5d698e53-891e-4638-b030-d79394d94c61",
   "metadata": {},
   "source": [
    "# Q . 15 Implem\f",
    "ent a code to find and re\f",
    "move duplicated from\f",
    " a list while preserving the original order of elem\f",
    "ents."
   ]
  },
  {
   "cell_type": "code",
   "execution_count": 5,
   "id": "0ccec01c-bf9a-413a-8795-09d56137d450",
   "metadata": {},
   "outputs": [
    {
     "name": "stdout",
     "output_type": "stream",
     "text": [
      "[1, 2, 3, 4, 5, 6, 7]\n"
     ]
    }
   ],
   "source": [
    "def remove(list):\n",
    "    x = set()\n",
    "    list1=[]\n",
    "    for item in list:\n",
    "        if item not in x:\n",
    "            list1.append(item)\n",
    "            x.add(item)\n",
    "    return list1\n",
    "\n",
    "my_list=[1,2,3,1,2,3,4,5,4,5,6,7,5,4,3,5,6]\n",
    "result=remove(my_list)\n",
    "print(result)"
   ]
  },
  {
   "cell_type": "markdown",
   "id": "13b0400f-0f6c-4ce9-86d9-f1db8505c7b4",
   "metadata": {},
   "source": [
    " # Q 16.Create a code to check if a given list is sorted (either in ascending or descending order) or not."
   ]
  },
  {
   "cell_type": "code",
   "execution_count": 14,
   "id": "598555c5-393d-439f-9d1d-58ca6486fb00",
   "metadata": {},
   "outputs": [
    {
     "name": "stdout",
     "output_type": "stream",
     "text": [
      "ascending\n"
     ]
    }
   ],
   "source": [
    "list =[11,22,33,44,55]\n",
    "if list == sorted(list):\n",
    "    print(\"ascending\")\n",
    "elif list == sorted(list,reverse=True):\n",
    "    print(\"descending\")\n",
    "else:\n",
    "    print(\"not sorted\")\n",
    "\n",
    "# print(list)"
   ]
  },
  {
   "cell_type": "markdown",
   "id": "2391847e-56d2-4441-a784-e5a3c23e4754",
   "metadata": {},
   "source": [
    "# Q 17.Write a code to m\f",
    "erge two sorted lists into a single sorted list."
   ]
  },
  {
   "cell_type": "code",
   "execution_count": null,
   "id": "4ec2fb56-a82d-4b90-b667-ab1fe5cf1676",
   "metadata": {},
   "outputs": [],
   "source": [
    "l1=[11,22,33,44]\n",
    "l2=[12,23,34,45]\n",
    "result = sorted(l1 + l2)\n",
    "# print(result)"
   ]
  },
  {
   "cell_type": "markdown",
   "id": "cf48b7e1-d72b-4e1f-afed-4c583a12ceee",
   "metadata": {},
   "source": [
    "# Q.18 I\f",
    "mplem\f",
    "ent a code to find the intersection of two given lists."
   ]
  },
  {
   "cell_type": "code",
   "execution_count": null,
   "id": "540774c1-b118-4d8d-8ad7-b6e118fe7a80",
   "metadata": {},
   "outputs": [],
   "source": [
    "def find_intersection (lst1,lst2):\n",
    "    intersection = list(set(lst1) & set(lst2))\n",
    "    return intersection\n",
    "lst1 = [11,22,33,44,55]\n",
    "lst2 = [44,55,66,77,88]\n",
    "result = find_intersection(lst1,lst2)\n",
    "print(result)"
   ]
  },
  {
   "cell_type": "markdown",
   "id": "ee2156bb-850b-486b-ae4d-eed282377196",
   "metadata": {},
   "source": [
    "# Q.19 Create a code to find the union of two lists without duplicates."
   ]
  },
  {
   "cell_type": "code",
   "execution_count": null,
   "id": "f467dbc7-eb6b-478d-b504-731f5d7a3292",
   "metadata": {},
   "outputs": [],
   "source": [
    "def union_without(lst1,lst2):\n",
    "    return list(set(lst1)|set(lst2))\n",
    "\n",
    "lst1=[1,2,3,4,5]\n",
    "lst2=[3,4,5,6,7]\n",
    "result=union_without(lst1,lst2)\n",
    "print(result)"
   ]
  },
  {
   "cell_type": "markdown",
   "id": "8c7df243-2670-4fa7-966b-1c6af22172da",
   "metadata": {},
   "source": [
    "# Q.20 Write a code to shuffle a given list random\f",
    "ly without using an built-in shuffle function."
   ]
  },
  {
   "cell_type": "code",
   "execution_count": 8,
   "id": "c2a4daf9-4977-47f2-8e82-c72226e94a81",
   "metadata": {},
   "outputs": [
    {
     "name": "stdout",
     "output_type": "stream",
     "text": [
      "[33, 11, 66, 22, 44, 55]\n"
     ]
    }
   ],
   "source": [
    "import random\n",
    "def shuffle(my_list):\n",
    "    l= len(my_list)\n",
    "    for i in range(l):\n",
    "        rand_indx= random.randint(0,l-1)\n",
    "        my_list [i],my_list[rand_indx]=my_list[rand_indx],my_list[i]\n",
    "    return my_list\n",
    "\n",
    "my_list = [11,22,33,44,55,66]\n",
    "shuffle=shuffle(my_list)\n",
    "print(shuffle)\n"
   ]
  },
  {
   "cell_type": "markdown",
   "id": "0b860002-942b-4c4c-9a16-282be444952a",
   "metadata": {},
   "source": [
    "# Q.21 Write a code that takes two tuples as input and returns a new tuple containing elem\f",
    "ents that are comm\f",
    "\f",
    "on to both input tuples."
   ]
  },
  {
   "cell_type": "code",
   "execution_count": 23,
   "id": "0b4597f1-789a-44c3-abd9-4ae5b14352b4",
   "metadata": {},
   "outputs": [
    {
     "name": "stdout",
     "output_type": "stream",
     "text": [
      "(66, 77, 55)\n"
     ]
    }
   ],
   "source": [
    "def common_elem (t1,t2):\n",
    "    common =set(t1).intersection(set(t2))\n",
    "    return tuple(common)\n",
    "\n",
    "t1 = (11,22,33,44,55,66,77)\n",
    "t2 = (55,66,77,88,99,87,45)\n",
    "result= common_elem(t1,t2)\n",
    "print(result)"
   ]
  },
  {
   "cell_type": "markdown",
   "id": "e84340e3-d624-4283-8650-ab5735f01183",
   "metadata": {},
   "source": [
    " # Q ,22 Create a code that prom\f",
    "pts the user to enter two sets of integers separated by co\f",
    "\f",
    "mmas, Then , print the intersection of these two sets."
   ]
  },
  {
   "cell_type": "code",
   "execution_count": 47,
   "id": "968cc3c6-69f7-4307-81f2-aecd4b393edb",
   "metadata": {},
   "outputs": [
    {
     "name": "stdin",
     "output_type": "stream",
     "text": [
      "Enter the first set of integers, separated by commas:  11,22,33,44\n",
      "Enter the second set of integers, separated by commas:  33,44,55,66\n"
     ]
    },
    {
     "name": "stdout",
     "output_type": "stream",
     "text": [
      "the intersection is; {33, 44}\n"
     ]
    }
   ],
   "source": [
    "def get_input(prompt):\n",
    "    return set(map(int, input(prompt).split(',')))\n",
    "\n",
    "set1 = get_input(\"Enter the first set of integers, separated by commas: \")\n",
    "set2 = get_input(\"Enter the second set of integers, separated by commas: \")\n",
    "\n",
    "intersection = set1.intersection(set2)\n",
    "print(\"the intersection is;\",intersection)"
   ]
  },
  {
   "cell_type": "markdown",
   "id": "807c52df-0a86-45ba-9340-cf5e212b6652",
   "metadata": {},
   "source": [
    "# Q.23 Write a code to concatenate two tuples.The function should take two tuples as input and return a new tuple containing ele\f",
    "ments from\f",
    " both input tuples."
   ]
  },
  {
   "cell_type": "code",
   "execution_count": 42,
   "id": "4d23b0d2-8be6-4869-a062-8fdc251cf4d0",
   "metadata": {},
   "outputs": [
    {
     "name": "stdout",
     "output_type": "stream",
     "text": [
      "(11, 22, 33, 44, 55, 66)\n"
     ]
    }
   ],
   "source": [
    "def concat(t1,t2):\n",
    "    \n",
    "    return t1 +t2\n",
    "t1= (11,22,33)\n",
    "t2 = (44,55,66)\n",
    "result =concat(t1,t2)\n",
    "print(result)"
   ]
  },
  {
   "cell_type": "markdown",
   "id": "b2ff37c3-0297-4772-99ba-be102787aa1b",
   "metadata": {},
   "source": [
    "# Q.24 develop a code that prompts the user to input two sets of strings.then,print the elements that are present in the first set but not in the second set"
   ]
  },
  {
   "cell_type": "code",
   "execution_count": 51,
   "id": "eab39764-073a-4b88-9485-40c8957e9125",
   "metadata": {},
   "outputs": [
    {
     "name": "stdin",
     "output_type": "stream",
     "text": [
      "enter 1st string; apple,bannana,sweets\n",
      "enter 2nd string; shake,milk,bannana\n"
     ]
    },
    {
     "name": "stdout",
     "output_type": "stream",
     "text": [
      "{'apple', 'sweets'}\n"
     ]
    }
   ],
   "source": [
    "def get_input(prompt):\n",
    "    return set(input(prompt).split(','))\n",
    "\n",
    "s1 = get_input(\"enter 1st string;\")\n",
    "s2 = get_input(\"enter 2nd string;\")\n",
    "difference = s1.difference(s2)\n",
    "print(difference)"
   ]
  },
  {
   "cell_type": "markdown",
   "id": "e54664d9-d7f9-4e21-a951-b37d109a0071",
   "metadata": {},
   "source": [
    "# Q.25 create a code that takes a tuple and two integers as input. the function should return a new tuple containing elements from the original tuple within the specified range of indices. "
   ]
  },
  {
   "cell_type": "code",
   "execution_count": 59,
   "id": "6b6c7666-e79e-4fe2-9c85-f422f4f81e28",
   "metadata": {},
   "outputs": [
    {
     "name": "stdout",
     "output_type": "stream",
     "text": [
      "[22, 3, 33, 44, 55, 66]\n"
     ]
    }
   ],
   "source": [
    "def tuples_(original,start,end):\n",
    "    if start < 0 or end >=len(original) or start > end :\n",
    "         return \"invalid indices\"\n",
    "    return original [start:end+1]\n",
    "\n",
    "original = [11,22,3,33,44,55,66,77]\n",
    "start=1\n",
    "end=6\n",
    "new_t= tuples_(original,start,end)\n",
    "print(new_t)"
   ]
  },
  {
   "cell_type": "markdown",
   "id": "175f81dc-854a-4f6b-a59d-40e4f4a16e7e",
   "metadata": {},
   "source": [
    "# Q.26 Write a code that prompts the user to input two sets of characters. Then print the union of these two sets."
   ]
  },
  {
   "cell_type": "code",
   "execution_count": 66,
   "id": "381da909-d724-42ec-8719-44da751d5b5c",
   "metadata": {},
   "outputs": [
    {
     "name": "stdin",
     "output_type": "stream",
     "text": [
      "enter your 1st set; 'a','b','c'\n",
      "enter your 2nd set; 'd','e','f'\n"
     ]
    },
    {
     "name": "stdout",
     "output_type": "stream",
     "text": [
      "the union is {'a', ',', \"'\", 'd', 'e', 'c', 'f', 'b'}\n"
     ]
    }
   ],
   "source": [
    "s1= set(input(\"enter your 1st set;\"))\n",
    "s2= set(input(\"enter your 2nd set;\"))\n",
    "union_set= s1.union(s2)\n",
    "print(\"the union is\",union_set)"
   ]
  },
  {
   "cell_type": "markdown",
   "id": "f4530f2b-c3f4-495c-9730-449783f4c527",
   "metadata": {},
   "source": [
    "# Q.27 Develop a code that takes a tuple of integers as input.the function should return the maximum and minimum value from the tuple using tuple unpacking."
   ]
  },
  {
   "cell_type": "code",
   "execution_count": 69,
   "id": "ef95c485-6604-480e-b8ab-f6d6f2d54219",
   "metadata": {},
   "outputs": [
    {
     "name": "stdout",
     "output_type": "stream",
     "text": [
      "minimum value: 12\n",
      "maximum value: 334\n"
     ]
    }
   ],
   "source": [
    "def find_(nums):\n",
    "    min_,max_=min(nums),max(nums)\n",
    "    return min_,max_\n",
    "\n",
    "nums = (112,334,23,45,65,24,66,12)\n",
    "min_,max_ = find_(nums)\n",
    "print(f\"minimum value: {min_}\")\n",
    "print(f\"maximum value: {max_}\")"
   ]
  },
  {
   "cell_type": "markdown",
   "id": "65a16337-d032-4c10-a231-b12118578845",
   "metadata": {},
   "source": [
    "# Q.28 create a code that defines two sets of integers. then, print the union ,intersection,and difference of these two sets."
   ]
  },
  {
   "cell_type": "code",
   "execution_count": 76,
   "id": "3bba5f98-4e2b-4fc2-abec-256c53bb4e40",
   "metadata": {},
   "outputs": [
    {
     "name": "stdout",
     "output_type": "stream",
     "text": [
      "union {33, 66, 11, 44, 22, 55}\n",
      "intersection {33, 44}\n",
      "difference {11, 22}\n"
     ]
    }
   ],
   "source": [
    "s1={11,22,33,44}\n",
    "s2={33,44,55,66}\n",
    "union_=s1.union(s2)\n",
    "intersection_=s1.intersection(s2)\n",
    "difference_=s1.difference(s2)\n",
    "\n",
    "print(\"union\",union_)\n",
    "print(\"intersection\", intersection_)\n",
    "print(\"difference\", difference_)"
   ]
  },
  {
   "cell_type": "markdown",
   "id": "0b80b037-d176-42a1-bec5-0783a67ce925",
   "metadata": {},
   "source": [
    "# Q.29  write a code that takes a tuple and an element as input , the function should return the count of occurences of the given element in the tuple."
   ]
  },
  {
   "cell_type": "code",
   "execution_count": 79,
   "id": "446fcef1-ba32-4b15-921d-890481fb6ec3",
   "metadata": {},
   "outputs": [
    {
     "name": "stdout",
     "output_type": "stream",
     "text": [
      "3\n"
     ]
    }
   ],
   "source": [
    "tuple = (11,22,33,22,11,33,44,55,22)\n",
    "count= tuple.count(22)\n",
    "print(count)"
   ]
  },
  {
   "cell_type": "code",
   "execution_count": 81,
   "id": "06749e5d-7ff6-4fb2-a45e-0f8431066b42",
   "metadata": {},
   "outputs": [
    {
     "name": "stdout",
     "output_type": "stream",
     "text": [
      "element22occurs 3times\n"
     ]
    }
   ],
   "source": [
    "def count_(tuple,element):\n",
    "    return tuple.count(element)\n",
    "number =(11,22,33,22,44,55,44,11,22,77)\n",
    "element_=22\n",
    "count= count_(number,element_)\n",
    "print(f\"element {element_}occurs {count}times\")"
   ]
  },
  {
   "cell_type": "markdown",
   "id": "0d2e5881-7071-46a5-99bb-f8b6ca9cae75",
   "metadata": {},
   "source": [
    "# Q.30 Develope the code that prompt the set to input two sets of strings.then print the symmmatric difference of these two sets."
   ]
  },
  {
   "cell_type": "code",
   "execution_count": 13,
   "id": "6c374dc8-add6-4a5d-af23-ce0ffe116fd3",
   "metadata": {},
   "outputs": [
    {
     "name": "stdin",
     "output_type": "stream",
     "text": [
      "enter 1st set a,b,c,d\n",
      "enter 2nd set c,d,e,f\n"
     ]
    },
    {
     "name": "stdout",
     "output_type": "stream",
     "text": [
      "symmetric difference {'c,d,e,f', 'a,b,c,d'}\n"
     ]
    }
   ],
   "source": [
    "def symmetric_difference():\n",
    "    set1 = set(input(\"enter 1st set\").split())\n",
    "    set2 = set(input(\"enter 2nd set\").split())\n",
    "    sym_diff=set1.symmetric_difference(set2)\n",
    "    print(\"symmetric difference\",sym_diff)\n",
    "\n",
    "symmetric_difference()"
   ]
  },
  {
   "cell_type": "markdown",
   "id": "1e3e40e2-c88e-41b3-869a-261a1672b2be",
   "metadata": {},
   "source": [
    "# Q.31 write a code that takes a list of words as input and returns a dictionary where the keys are unique words and the values are the frequencies of those words in the input list."
   ]
  },
  {
   "cell_type": "code",
   "execution_count": 21,
   "id": "71b87af8-52b6-4cec-a992-842ccd86f542",
   "metadata": {},
   "outputs": [
    {
     "name": "stdin",
     "output_type": "stream",
     "text": [
      "Enter a list of words:  a b a b d s d s\n"
     ]
    },
    {
     "name": "stdout",
     "output_type": "stream",
     "text": [
      "{'a': 2, 'b': 2, 'd': 2, 's': 2}\n"
     ]
    }
   ],
   "source": [
    "def word_frequencies():\n",
    "    words = input(\"Enter a list of words: \").split()\n",
    "    \n",
    "    word_count = {}\n",
    "\n",
    "    for word in words:\n",
    "        if word in word_count:\n",
    "            word_count[word] += 1\n",
    "        else:\n",
    "            word_count[word] = 1\n",
    "    \n",
    "    return word_count\n",
    "\n",
    "frequencies = word_frequencies()\n",
    "print(frequencies)"
   ]
  },
  {
   "cell_type": "markdown",
   "id": "eaca96f8-a8b7-4440-8383-fd9aa809df92",
   "metadata": {},
   "source": [
    "# Q,32 write a code that takes two dictionary as input and merges them into a single dictionary. if there are common keys , the values should be added together."
   ]
  },
  {
   "cell_type": "code",
   "execution_count": 23,
   "id": "7faa2e25-b117-4270-b475-8cd502a6fcd5",
   "metadata": {},
   "outputs": [
    {
     "name": "stdout",
     "output_type": "stream",
     "text": [
      "{'a': 10, 'b': 45, 'c': 65, 'd': 45}\n"
     ]
    }
   ],
   "source": [
    "def merge_dict (d1,d2):\n",
    "    merge_dict =d1.copy()\n",
    "    for key,value in d2.items():\n",
    "        if key in merge_dict:\n",
    "            merge_dict[key] += value\n",
    "        else:\n",
    "            merge_dict[key] = value\n",
    "    return merge_dict\n",
    "d1= {'a':10, 'b':20, 'c':30}\n",
    "d2= {'b':25, 'c':35, 'd':45}\n",
    "result = merge_dict(d1,d2)\n",
    "print(result)"
   ]
  },
  {
   "cell_type": "markdown",
   "id": "e25d3780-6492-46ce-98f3-179908c1a6fc",
   "metadata": {},
   "source": [
    "# Q.33 Write a code to access a value in a nasted dictionary. The function should take the dictionary and a list ofkeys as input and return the corresponding value. If any of the keys do not exist in the dictionary thefunction should return None."
   ]
  },
  {
   "cell_type": "code",
   "execution_count": 27,
   "id": "0bf1346b-dce4-4c1c-bded-5cd9ef01ccc2",
   "metadata": {},
   "outputs": [
    {
     "name": "stdout",
     "output_type": "stream",
     "text": [
      "value of key1 ; 100\n",
      "value of key2 ; None\n"
     ]
    }
   ],
   "source": [
    "def nested_value(n_dict, key_list):\n",
    "    current_value = n_dict\n",
    "    for key in key_list:\n",
    "        \n",
    "        if isinstance(current_value, dict) and key in current_value:\n",
    "            current_value = current_value[key]\n",
    "        else:\n",
    "            return None\n",
    "    return current_value\n",
    "\n",
    "n_dict = {\n",
    "    'a': {'b': {'c': 100}},\n",
    "    'x': {'y': {'z': 200}}\n",
    "}\n",
    "\n",
    "keys1 = ['a', 'b', 'c'] \n",
    "keys2 = ['x', 'y', 'w']  \n",
    "print(\"value of key1 ;\",nested_value(n_dict,keys1))\n",
    "print(\"value of key2 ;\",nested_value(n_dict,keys2))"
   ]
  },
  {
   "cell_type": "markdown",
   "id": "43409208-8bca-4f51-b0f0-0dd3439e14f4",
   "metadata": {},
   "source": [
    "# Q.34 write a code that takes a dictionary as input and returns a sorted version of it based on the values. you can choose whether to sort in ascending or descending order."
   ]
  },
  {
   "cell_type": "code",
   "execution_count": null,
   "id": "3f1738f4-a312-4c78-b92c-d726a1028e00",
   "metadata": {},
   "outputs": [],
   "source": [
    "def sort_dict(input_dict,ascend=True):\n",
    "    sorted_dict = dict(sorted(input_dict.items(),key=lambda item: item[1], reverse = not ascending)) \n",
    "    return sorted_dict\n",
    "\n",
    "exm_dict={'a':10,'b':23,'c':12, 'd':23}\n",
    "ascend = sort_dict(exm_dict,ascending=True)\n",
    "print(\"sorted in ascending:-\",ascend)\n",
    "\n",
    "descend= sort_dict(exm_dict,ascending=False)\n",
    "print(\"sorted in descending :-\",descend)"
   ]
  },
  {
   "cell_type": "markdown",
   "id": "55c58f75-c3a2-4bfd-82d9-2591490f4f0b",
   "metadata": {},
   "source": [
    "# Q.35 Write a code that inverts a dictionary swapping keys and values. Ensure that the inverted dictionary correcly handles cases where multiple keys have the same value by storing the keys as a list in the inverted dictionary."
   ]
  },
  {
   "cell_type": "code",
   "execution_count": 47,
   "id": "d0f0c7df-0fd0-4868-9c6e-6e463b7f1a63",
   "metadata": {},
   "outputs": [
    {
     "name": "stdout",
     "output_type": "stream",
     "text": [
      "inverted dictionary :  {4: ['a'], 6: ['b'], 2: ['c'], 5: ['d']}\n"
     ]
    }
   ],
   "source": [
    "def inverted(i_dict):\n",
    "    inverted_dict ={}\n",
    "    for key,value in i_dict.items():\n",
    "        if value in inverted_dict:\n",
    "            inverted_dict[value].append(key)\n",
    "        else:\n",
    "            inverted_dict[value] =[key]\n",
    "    return inverted_dict\n",
    "\n",
    "dict ={'a':4,'b':6,'c':2,'d':5}\n",
    "invert= inverted(dict)\n",
    "print(\"inverted dictionary : \",invert)"
   ]
  },
  {
   "cell_type": "code",
   "execution_count": null,
   "id": "56293503-02e1-435c-a10e-0b8029031bca",
   "metadata": {},
   "outputs": [],
   "source": []
  }
 ],
 "metadata": {
  "kernelspec": {
   "display_name": "Python 3 (ipykernel)",
   "language": "python",
   "name": "python3"
  },
  "language_info": {
   "codemirror_mode": {
    "name": "ipython",
    "version": 3
   },
   "file_extension": ".py",
   "mimetype": "text/x-python",
   "name": "python",
   "nbconvert_exporter": "python",
   "pygments_lexer": "ipython3",
   "version": "3.12.4"
  }
 },
 "nbformat": 4,
 "nbformat_minor": 5
}
